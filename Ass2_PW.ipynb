{
 "cells": [
  {
   "cell_type": "code",
   "execution_count": 12,
   "id": "cc67fe01-c3eb-4b2b-bb63-014bd8723ce8",
   "metadata": {},
   "outputs": [
    {
     "name": "stdin",
     "output_type": "stream",
     "text": [
      " 45\n"
     ]
    },
    {
     "name": "stdout",
     "output_type": "stream",
     "text": [
      "Grade: D\n"
     ]
    }
   ],
   "source": [
    "#Q.1 Write a program to accept percentage from t h euser and display the grade according to the following criteria:\n",
    "\n",
    "marks = int(input())\n",
    "\n",
    "if marks>90:\n",
    "    print(\"Grade: A\")\n",
    "elif marks>80 and marks<=90:\n",
    "    print(\"Grade: B\")\n",
    "elif marks>=60 and marks<=80:\n",
    "    print(\"Grade: C\")\n",
    "else:\n",
    "    print(\"Grade: D\")\n"
   ]
  },
  {
   "cell_type": "code",
   "execution_count": 26,
   "id": "da40a653-8aaa-4492-8b4e-f4e884c8e969",
   "metadata": {},
   "outputs": [
    {
     "name": "stdin",
     "output_type": "stream",
     "text": [
      " 45000\n"
     ]
    },
    {
     "name": "stdout",
     "output_type": "stream",
     "text": [
      "The road tax to be paid is:  2250.0\n"
     ]
    }
   ],
   "source": [
    "#Q2 Write a program to accept the cost priceof a bike and display the road tax to be paid according to the following criteria:\n",
    "\n",
    "cost_price = int(input())\n",
    "\n",
    "if cost_price>100000:\n",
    "    tax = cost_price*0.15\n",
    "elif cost_price>50000 and cost_price<=100000:\n",
    "    tax = cost_price*0.10\n",
    "elif cost_price<=50000:\n",
    "    tax = cost_price*0.05\n",
    "else:\n",
    "    print(\"None\")\n",
    "    \n",
    "print(\"The road tax to be paid is: \",tax)\n"
   ]
  },
  {
   "cell_type": "code",
   "execution_count": 31,
   "id": "81323a78-76d8-4c2c-9e18-74745cb7d442",
   "metadata": {},
   "outputs": [
    {
     "name": "stdin",
     "output_type": "stream",
     "text": [
      "Enter a city:  Bengaluru\n"
     ]
    },
    {
     "name": "stdout",
     "output_type": "stream",
     "text": [
      "Monuments in Bengaluru : Unknown city. No monuments to display.\n"
     ]
    }
   ],
   "source": [
    "# 3. Accept any city from the user and display monuments of that city.\n",
    "\n",
    "city = input(\"Enter a city: \")\n",
    "\n",
    "if city == \"Delhi\":\n",
    "    monuments = \"Red Fort\"\n",
    "elif city == \"Agra\":\n",
    "    monuments = \"Taj Mahal\"\n",
    "elif city == \"Jaipur\":\n",
    "    monuments = \"Jal Mahal\"\n",
    "else:\n",
    "    monuments = \"Unknown city. No monuments to display.\"\n",
    "\n",
    "print(\"Monuments in\", city, \":\", monuments)"
   ]
  },
  {
   "cell_type": "code",
   "execution_count": 36,
   "id": "59ee2671-eaa4-47ec-87dd-89a958d63926",
   "metadata": {},
   "outputs": [
    {
     "name": "stdin",
     "output_type": "stream",
     "text": [
      "Enter a number:  1000\n"
     ]
    },
    {
     "name": "stdout",
     "output_type": "stream",
     "text": [
      "The number can be divided by 3 is 5 times before it becomes <= 10\n"
     ]
    }
   ],
   "source": [
    "#Q4. Check how many times a given number can be divided by 3 before it is less than or equal to 10.\n",
    "\n",
    "num = int(input(\"Enter a number: \"))\n",
    "count=0\n",
    "\n",
    "while(num > 10):\n",
    "    num = num/3\n",
    "    count += 1\n",
    "    \n",
    "print(\"The number can be divided by 3 is\",count,\"times before it becomes <= 10\") \n",
    "          \n",
    "          "
   ]
  },
  {
   "cell_type": "code",
   "execution_count": null,
   "id": "d21722a9-de81-44a1-92f1-8020cb1d7dc0",
   "metadata": {},
   "outputs": [],
   "source": [
    "'''Q5. The while loop in Python is used to execute a set of statements repeatedly as long as the condition specified in the \n",
    "while statement is true. The basic structure of a while loop is as follows: '''\n",
    "\n",
    "count = 1\n",
    "\n",
    "while count <= 5:\n",
    "    print(\"My name is Nihal\")\n",
    "    count += 1\n",
    "    \n",
    "'''In this example, the loop continues to run as long as count is less than or equal to 5. After each iteration, count is \n",
    "incremented by 1. When count becomes 6,the condition count <= 5 is no longer true, and the loop terminates.the \n",
    "while loop when you want to repeat a set of statements as long as a condition is true. Make sure to increment\n",
    "the variable used in the condition, or else you will end up with an infinite loop.'''"
   ]
  },
  {
   "cell_type": "code",
   "execution_count": 25,
   "id": "b0358091-1e89-4d49-af76-364db73268ad",
   "metadata": {},
   "outputs": [
    {
     "name": "stdin",
     "output_type": "stream",
     "text": [
      "Enter the number of rows:  5\n"
     ]
    },
    {
     "name": "stdout",
     "output_type": "stream",
     "text": [
      "*\n",
      "**\n",
      "***\n",
      "****\n",
      "*****\n"
     ]
    }
   ],
   "source": [
    "#Q6. Use nested while loop to print 3 different pattern.\n",
    "\n",
    "num=int(input(\"Enter the number of rows: \"))\n",
    "row=0\n",
    "while row<num:\n",
    "    star=row+1\n",
    "    while star>0:\n",
    "        print(\"*\",end='') #end=\"\" argument is used to ensure that the asterisks are printed in the same line without adding a newline character after each one.\n",
    "\n",
    "\n",
    "        star=star-1\n",
    "    row=row+1\n",
    "    print(\"\") #Printing a newline character:\n",
    "    \n",
    "\n",
    "        \n",
    "    "
   ]
  },
  {
   "cell_type": "code",
   "execution_count": 28,
   "id": "09099fa3-cc61-4593-828d-036e20c509b3",
   "metadata": {},
   "outputs": [
    {
     "name": "stdin",
     "output_type": "stream",
     "text": [
      "Enter the number of rows:  5\n"
     ]
    },
    {
     "name": "stdout",
     "output_type": "stream",
     "text": [
      "    * \n",
      "   * * \n",
      "  * * * \n",
      " * * * * \n",
      "* * * * * \n"
     ]
    }
   ],
   "source": [
    "num=int(input(\"Enter the number of rows: \"))\n",
    "row=0\n",
    "while row<num:\n",
    "    space=num-row-1\n",
    "    while space>0:\n",
    "        print(end=\" \")\n",
    "        space=space-1\n",
    "    star=row+1\n",
    "    while star>0:\n",
    "        print(\"*\",end=\" \")\n",
    "        star=star-1\n",
    "    row=row+1\n",
    "    print()"
   ]
  },
  {
   "cell_type": "code",
   "execution_count": 29,
   "id": "b197ea5f-c770-464c-aa26-0ebe1bf10f42",
   "metadata": {},
   "outputs": [
    {
     "name": "stdout",
     "output_type": "stream",
     "text": [
      "    *\n",
      "   **\n",
      "  ***\n",
      " ****\n",
      "*****\n"
     ]
    }
   ],
   "source": [
    "rows = 5\n",
    "i = 1\n",
    "while i <= rows:\n",
    "    j = 1\n",
    "    while j <= rows:\n",
    "        if j >= (rows - i + 1):\n",
    "            print(\"*\", end=\"\")\n",
    "        else:\n",
    "            print(\" \", end=\"\")\n",
    "        j += 1\n",
    "    print(\"\")\n",
    "    i += 1"
   ]
  },
  {
   "cell_type": "code",
   "execution_count": 34,
   "id": "9b5e80ef-9077-4532-9389-0520be40278e",
   "metadata": {},
   "outputs": [
    {
     "name": "stdout",
     "output_type": "stream",
     "text": [
      "10\n",
      "9\n",
      "8\n",
      "7\n",
      "6\n",
      "5\n",
      "4\n",
      "3\n",
      "2\n",
      "1\n"
     ]
    }
   ],
   "source": [
    "#Q7. Reverse a while loop to display numbers from 10 to 1.\n",
    "num=10\n",
    "while(num>=1):\n",
    "    print(num)\n",
    "    num=num-1"
   ]
  },
  {
   "cell_type": "code",
   "execution_count": null,
   "id": "8cbab332-8acc-4e99-8bc0-40afbacf5fd5",
   "metadata": {},
   "outputs": [],
   "source": []
  }
 ],
 "metadata": {
  "kernelspec": {
   "display_name": "Python 3 (ipykernel)",
   "language": "python",
   "name": "python3"
  },
  "language_info": {
   "codemirror_mode": {
    "name": "ipython",
    "version": 3
   },
   "file_extension": ".py",
   "mimetype": "text/x-python",
   "name": "python",
   "nbconvert_exporter": "python",
   "pygments_lexer": "ipython3",
   "version": "3.10.8"
  }
 },
 "nbformat": 4,
 "nbformat_minor": 5
}
