{
 "cells": [
  {
   "cell_type": "code",
   "execution_count": 1,
   "id": "2ed3fc9b-1f53-487f-86e1-2a103581edb8",
   "metadata": {},
   "outputs": [],
   "source": [
    "#Q1. Which function is used to open a file? What are the different modes of opening a file? Explain each mode\n",
    "# of file opening."
   ]
  },
  {
   "cell_type": "code",
   "execution_count": 2,
   "id": "290359ec-0f90-4136-b26e-eabb12021e00",
   "metadata": {},
   "outputs": [
    {
     "data": {
      "text/plain": [
       "\" \\nSol:- In Python, the open() function is used to open a file. It takes two parameters: the file \\npath and the mode in which to open the file.\\n\\nThe different modes in which a file can be opened are:\\n\\n'r' - read mode: This mode is used to open a file for reading only. It is the default mode if no mode is \\nspecified. If the file does not exist, it will raise a FileNotFoundError. Example: file = open('filename.txt', 'r').\\n\\n'w' - write mode: This mode is used to open a file for writing. If the file already exists, its contents will be \\noverwritten. If the file does not exist, a new file will be created. Example: file = open('filename.txt', 'w').\\n\\n'a' - append mode: This mode is used to open a file for writing, but it does not overwrite the existing \\ncontents of the file. Instead, it appends new data to the end of the file. If the file does not exist, \\na new file will be created. Example: file = open('filename.txt', 'a').\\n\\n'x' - exclusive creation mode: This mode is used to create a new file, but it will raise a FileExistsError if \\nthe file already exists. Example: file = open('filename.txt', 'x').\\n\\n'b' - binary mode: This mode is used to open a file in binary mode, which is used for non-text files like \\nimages or executables. Example: file = open('filename.png', 'rb').\\n\\n't' - text mode: This mode is used to open a file in text mode, which is used for text files. It is the \\ndefault mode if no mode is specified. Example: file = open('filename.txt', 'rt').\\n\\n'+' - read/write mode: This mode is used to open a file in both read and write modes. Example: \\n    file = open('filename.txt', 'r+').\\n\\nNote: It is always good practice to close the file after you have finished working with it, by calling the \\nclose() method on the file object. Alternatively, you can use the with statement to automatically close the file when \\nyou are done with it. \""
      ]
     },
     "execution_count": 2,
     "metadata": {},
     "output_type": "execute_result"
    }
   ],
   "source": [
    "''' \n",
    "Sol:- In Python, the open() function is used to open a file. It takes two parameters: the file \n",
    "path and the mode in which to open the file.\n",
    "\n",
    "The different modes in which a file can be opened are:\n",
    "\n",
    "'r' - read mode: This mode is used to open a file for reading only. It is the default mode if no mode is \n",
    "specified. If the file does not exist, it will raise a FileNotFoundError. Example: file = open('filename.txt', 'r').\n",
    "\n",
    "'w' - write mode: This mode is used to open a file for writing. If the file already exists, its contents will be \n",
    "overwritten. If the file does not exist, a new file will be created. Example: file = open('filename.txt', 'w').\n",
    "\n",
    "'a' - append mode: This mode is used to open a file for writing, but it does not overwrite the existing \n",
    "contents of the file. Instead, it appends new data to the end of the file. If the file does not exist, \n",
    "a new file will be created. Example: file = open('filename.txt', 'a').\n",
    "\n",
    "'x' - exclusive creation mode: This mode is used to create a new file, but it will raise a FileExistsError if \n",
    "the file already exists. Example: file = open('filename.txt', 'x').\n",
    "\n",
    "'b' - binary mode: This mode is used to open a file in binary mode, which is used for non-text files like \n",
    "images or executables. Example: file = open('filename.png', 'rb').\n",
    "\n",
    "'t' - text mode: This mode is used to open a file in text mode, which is used for text files. It is the \n",
    "default mode if no mode is specified. Example: file = open('filename.txt', 'rt').\n",
    "\n",
    "'+' - read/write mode: This mode is used to open a file in both read and write modes. Example: \n",
    "    file = open('filename.txt', 'r+').\n",
    "\n",
    "Note: It is always good practice to close the file after you have finished working with it, by calling the \n",
    "close() method on the file object. Alternatively, you can use the with statement to automatically close the file when \n",
    "you are done with it. '''"
   ]
  },
  {
   "cell_type": "code",
   "execution_count": 3,
   "id": "786402c7-7c3a-43e9-8cf2-ab23eedec425",
   "metadata": {},
   "outputs": [
    {
     "data": {
      "text/plain": [
       "\" Sol:- The close() function is used to tell the computer that you are done with a file that you have opened.\\nIt's important to close a file because if you don't, the computer may continue to use resources like memory and \\nfile descriptors that were allocated when you opened the file. If this happens repeatedly, it can slow down \\nyour computer or cause errors.\\n\\nClosing a file also makes sure that any data you wrote to the file is saved correctly. When you write data \\nto a file, the computer often stores it in a temporary location called a buffer before actually writing it to the file. \\nIf you don't close the file, the computer might not write the data to the file right away, and you could lose \\nthe data or corrupt the file.\\n\\nFinally, closing a file can help prevent problems if multiple programs or threads are accessing the same file. \\nIf one program is writing to a file while another program is reading from it, the data the reader sees might not \\nbe consistent or complete if the writer hasn't closed the file properly.\\n\\nTo avoid these problems, it's always a good idea to close files when you're done using them. In Python, you can \\nuse the close() function or the with statement to do this automatically. \""
      ]
     },
     "execution_count": 3,
     "metadata": {},
     "output_type": "execute_result"
    }
   ],
   "source": [
    "# Q2. Why close() function is used? Why is it important to close a file?\n",
    "\n",
    "''' Sol:- The close() function is used to tell the computer that you are done with a file that you have opened.\n",
    "It's important to close a file because if you don't, the computer may continue to use resources like memory and \n",
    "file descriptors that were allocated when you opened the file. If this happens repeatedly, it can slow down \n",
    "your computer or cause errors.\n",
    "\n",
    "Closing a file also makes sure that any data you wrote to the file is saved correctly. When you write data \n",
    "to a file, the computer often stores it in a temporary location called a buffer before actually writing it to the file. \n",
    "If you don't close the file, the computer might not write the data to the file right away, and you could lose \n",
    "the data or corrupt the file.\n",
    "\n",
    "Finally, closing a file can help prevent problems if multiple programs or threads are accessing the same file. \n",
    "If one program is writing to a file while another program is reading from it, the data the reader sees might not \n",
    "be consistent or complete if the writer hasn't closed the file properly.\n",
    "\n",
    "To avoid these problems, it's always a good idea to close files when you're done using them. In Python, you can \n",
    "use the close() function or the with statement to do this automatically. '''"
   ]
  },
  {
   "cell_type": "code",
   "execution_count": null,
   "id": "41b9a6e3-977b-4e0e-9e3a-f096b8fe4aa8",
   "metadata": {},
   "outputs": [],
   "source": [
    "#Q3. Write a python program to create a text file. Write ‘I want to become a Data Scientist’ in that file. Then\n",
    "#close the file. Open this file and read the content of the file."
   ]
  },
  {
   "cell_type": "code",
   "execution_count": 8,
   "id": "432a1498-390c-4d70-af21-10a84a45ccea",
   "metadata": {},
   "outputs": [],
   "source": [
    "with open(\"nihal.txt\", 'w') as f:\n",
    "    f.write(\"I want to become a Data Scientist\\n\")"
   ]
  },
  {
   "cell_type": "code",
   "execution_count": 9,
   "id": "37ef7453-acea-4e34-ad23-bc0072ad5b27",
   "metadata": {},
   "outputs": [],
   "source": [
    "with open(\"nihal.txt\", 'a') as f:\n",
    "    f.write(\"Neuro Lab is a magic land where you charge your wand full of the craziest ideas and witness successful projects coming to life.\")\n",
    "\n",
    "\n",
    "    "
   ]
  },
  {
   "cell_type": "code",
   "execution_count": 5,
   "id": "ccedd6b0-e178-413e-928d-0c2dd1b6878e",
   "metadata": {},
   "outputs": [],
   "source": [
    "# Q4. Explain the following with python code: read(), readline() and readlines()."
   ]
  },
  {
   "cell_type": "code",
   "execution_count": 6,
   "id": "e539993e-ff59-4608-86cb-0f12cb858260",
   "metadata": {},
   "outputs": [
    {
     "data": {
      "text/plain": [
       "\" Sure! Here's an explanation of the read(), readline(), and readlines() methods in Python:\\n\\nread()\\nThe read() method is used to read the entire contents of a file as a string. Here's an example: \""
      ]
     },
     "execution_count": 6,
     "metadata": {},
     "output_type": "execute_result"
    }
   ],
   "source": [
    "''' Sure! Here's an explanation of the read(), readline(), and readlines() methods in Python:\n",
    "\n",
    "read()\n",
    "The read() method is used to read the entire contents of a file as a string. Here's an example: '''"
   ]
  },
  {
   "cell_type": "code",
   "execution_count": 14,
   "id": "63825d03-cb17-4a7f-8c69-5cc202c39c42",
   "metadata": {},
   "outputs": [
    {
     "name": "stdout",
     "output_type": "stream",
     "text": [
      "I want to become a Data Scientist\n",
      "Neuro Lab is a magic land where you charge your wand full of the craziest ideas and witness successful projects coming to life.\n"
     ]
    }
   ],
   "source": [
    "with open(\"nihal.txt\",'r') as f:\n",
    "    data = f.read()\n",
    "    print(data)\n",
    "    "
   ]
  },
  {
   "cell_type": "code",
   "execution_count": 15,
   "id": "295503f1-a178-4cc3-8977-ad8e8d8282d0",
   "metadata": {},
   "outputs": [
    {
     "data": {
      "text/plain": [
       "' In this code, we open the file nihal.txt in read mode using a with statement. We then call the read() method\\non the file object f, which reads the entire contents of the file into a string variable called data.\\nFinally, we print the contents of data to the console. '"
      ]
     },
     "execution_count": 15,
     "metadata": {},
     "output_type": "execute_result"
    }
   ],
   "source": [
    "''' In this code, we open the file nihal.txt in read mode using a with statement. We then call the read() method\n",
    "on the file object f, which reads the entire contents of the file into a string variable called data.\n",
    "Finally, we print the contents of data to the console. '''"
   ]
  },
  {
   "cell_type": "code",
   "execution_count": 16,
   "id": "91d1ea48-9e05-4552-85bb-343ee1ce4df4",
   "metadata": {},
   "outputs": [
    {
     "data": {
      "text/plain": [
       "\" readline()\\nThe readline() method is used to read a single line of a file. Here's an example: \""
      ]
     },
     "execution_count": 16,
     "metadata": {},
     "output_type": "execute_result"
    }
   ],
   "source": [
    "''' readline()\n",
    "The readline() method is used to read a single line of a file. Here's an example: '''"
   ]
  },
  {
   "cell_type": "code",
   "execution_count": 17,
   "id": "82728fac-23bb-4df5-87ab-c082017b46bd",
   "metadata": {},
   "outputs": [
    {
     "name": "stdout",
     "output_type": "stream",
     "text": [
      "I want to become a Data Scientist\n",
      "\n",
      "Neuro Lab is a magic land where you charge your wand full of the craziest ideas and witness successful projects coming to life.\n"
     ]
    }
   ],
   "source": [
    "with open('nihal.txt', 'r') as f:\n",
    "    line1 = f.readline()\n",
    "    line2 = f.readline()\n",
    "    print(line1)\n",
    "    print(line2)"
   ]
  },
  {
   "cell_type": "code",
   "execution_count": 18,
   "id": "3b0b6a68-72a7-49c6-97e4-581f00cd4a35",
   "metadata": {},
   "outputs": [
    {
     "data": {
      "text/plain": [
       "' In this code, we open the file nihal.txt in read mode using a with statement. We then call the readline() \\nmethod twice on the file object f, which reads the first and second lines of the file into the variables \\nline1 and line2, respectively. Finally, we print the contents of line1 and line2 to the console. '"
      ]
     },
     "execution_count": 18,
     "metadata": {},
     "output_type": "execute_result"
    }
   ],
   "source": [
    "''' In this code, we open the file nihal.txt in read mode using a with statement. We then call the readline() \n",
    "method twice on the file object f, which reads the first and second lines of the file into the variables \n",
    "line1 and line2, respectively. Finally, we print the contents of line1 and line2 to the console. '''\n",
    "\n"
   ]
  },
  {
   "cell_type": "code",
   "execution_count": 19,
   "id": "e9577c55-b7d5-47bd-8efe-eaa2569b8c13",
   "metadata": {},
   "outputs": [
    {
     "data": {
      "text/plain": [
       "\" readlines()\\nThe readlines() method is used to read all the lines of a file into a list of strings. Here's an example: \""
      ]
     },
     "execution_count": 19,
     "metadata": {},
     "output_type": "execute_result"
    }
   ],
   "source": [
    "''' readlines()\n",
    "The readlines() method is used to read all the lines of a file into a list of strings. Here's an example: '''"
   ]
  },
  {
   "cell_type": "code",
   "execution_count": 20,
   "id": "9a9f039c-f61d-45dd-87f7-4de0a9aac8a6",
   "metadata": {},
   "outputs": [
    {
     "name": "stdout",
     "output_type": "stream",
     "text": [
      "['I want to become a Data Scientist\\n', 'Neuro Lab is a magic land where you charge your wand full of the craziest ideas and witness successful projects coming to life.']\n"
     ]
    }
   ],
   "source": [
    "with open('nihal.txt', 'r') as f:\n",
    "    lines = f.readlines()\n",
    "    print(lines)"
   ]
  },
  {
   "cell_type": "code",
   "execution_count": 21,
   "id": "4a483d2b-1fda-4ca0-acd3-5b4330b842b1",
   "metadata": {},
   "outputs": [
    {
     "data": {
      "text/plain": [
       "' In this code, we open the file example.txt in read mode using a with statement. We then call the \\nreadlines() method on the file object f, which reads all the lines of the file into a list of strings called lines. \\nFinally, we print the contents of lines to the console. '"
      ]
     },
     "execution_count": 21,
     "metadata": {},
     "output_type": "execute_result"
    }
   ],
   "source": [
    "''' In this code, we open the file example.txt in read mode using a with statement. We then call the \n",
    "readlines() method on the file object f, which reads all the lines of the file into a list of strings called lines. \n",
    "Finally, we print the contents of lines to the console. '''\n"
   ]
  },
  {
   "cell_type": "code",
   "execution_count": 24,
   "id": "6cfbb273-a3bf-4c8c-869b-d8aa9d086542",
   "metadata": {},
   "outputs": [],
   "source": [
    "# Q5. Explain why with statement is used with open(). What is the advantage of using with statement and\n",
    "#open() together?"
   ]
  },
  {
   "cell_type": "code",
   "execution_count": 25,
   "id": "c62b74d0-71fb-4d6a-91cd-ba2e1e156398",
   "metadata": {},
   "outputs": [
    {
     "data": {
      "text/plain": [
       "\" Sol:- The with statement is used with open() to ensure that a file is properly opened and closed when you're \\ndone with it. Here's an example of how to use the with statement and open() together: \""
      ]
     },
     "execution_count": 25,
     "metadata": {},
     "output_type": "execute_result"
    }
   ],
   "source": [
    "''' Sol:- The with statement is used with open() to ensure that a file is properly opened and closed when you're \n",
    "done with it. Here's an example of how to use the with statement and open() together: '''\n",
    "\n"
   ]
  },
  {
   "cell_type": "code",
   "execution_count": 26,
   "id": "4ef93bcb-269d-4e52-84fc-a6f879de0179",
   "metadata": {},
   "outputs": [
    {
     "name": "stdout",
     "output_type": "stream",
     "text": [
      "I want to become a Data Scientist\n",
      "Neuro Lab is a magic land where you charge your wand full of the craziest ideas and witness successful projects coming to life.\n"
     ]
    }
   ],
   "source": [
    "with open('nihal.txt', 'r') as f:\n",
    "    data = f.read()\n",
    "    print(data)"
   ]
  },
  {
   "cell_type": "code",
   "execution_count": 27,
   "id": "80c2d930-0c30-4f89-8089-45ef5a3013a2",
   "metadata": {},
   "outputs": [
    {
     "data": {
      "text/plain": [
       "\" In this code, the with statement is used to open the file example.txt in read mode. The file object f is \\ncreated and assigned to the variable f, and then the read() method is called on f to read the contents of the \\nfile into a string variable called data. Once the with block is exited (either by reaching the end of the block \\nor by encountering an error), the file is automatically closed.\\n\\nThe advantage of using the with statement and open() together is that it ensures that the file is always properly \\nclosed, even if an error occurs while you're working with the file. This is important because leaving a file \\nopen can lead to resource leaks and other issues.\\n\\nAnother advantage of using the with statement is that it makes your code more readable and concise.\\nBy using the with statement, you don't have to worry about manually opening and closing the file or keeping \\ntrack of the file object. Instead, you can focus on the code that actually does something with the file.\\n\\nOverall, using the with statement and open() together is a best practice when working with files in Python. \\nIt helps ensure that your code is robust and reliable, and it can save you time and effort by simplifying your code. \""
      ]
     },
     "execution_count": 27,
     "metadata": {},
     "output_type": "execute_result"
    }
   ],
   "source": [
    "''' In this code, the with statement is used to open the file example.txt in read mode. The file object f is \n",
    "created and assigned to the variable f, and then the read() method is called on f to read the contents of the \n",
    "file into a string variable called data. Once the with block is exited (either by reaching the end of the block \n",
    "or by encountering an error), the file is automatically closed.\n",
    "\n",
    "The advantage of using the with statement and open() together is that it ensures that the file is always properly \n",
    "closed, even if an error occurs while you're working with the file. This is important because leaving a file \n",
    "open can lead to resource leaks and other issues.\n",
    "\n",
    "Another advantage of using the with statement is that it makes your code more readable and concise.\n",
    "By using the with statement, you don't have to worry about manually opening and closing the file or keeping \n",
    "track of the file object. Instead, you can focus on the code that actually does something with the file.\n",
    "\n",
    "Overall, using the with statement and open() together is a best practice when working with files in Python. \n",
    "It helps ensure that your code is robust and reliable, and it can save you time and effort by simplifying your code. '''\n",
    "\n",
    "\n",
    "\n",
    "\n"
   ]
  },
  {
   "cell_type": "code",
   "execution_count": 28,
   "id": "f273a848-e622-476c-8add-d10961951ac2",
   "metadata": {},
   "outputs": [],
   "source": [
    "# Q6. Explain the write() and writelines() functions. Give a suitable example."
   ]
  },
  {
   "cell_type": "code",
   "execution_count": 30,
   "id": "b11a0725-5346-4224-8ef3-fce744e7a658",
   "metadata": {},
   "outputs": [
    {
     "data": {
      "text/plain": [
       "\" Sol:- \\n\\nwrite()\\nThe write() function is used to write a string to a file. It takes a single argument, which is the string to write to the file. If the file already exists, the string is appended to the end of the file. If the file doesn't exist, a new file is created.\\n\\nHere's an example: \""
      ]
     },
     "execution_count": 30,
     "metadata": {},
     "output_type": "execute_result"
    }
   ],
   "source": [
    "''' Sol:- \n",
    "\n",
    "write()\n",
    "The write() function is used to write a string to a file. It takes a single argument, which is the string to write to the file. If the file already exists, the string is appended to the end of the file. If the file doesn't exist, a new file is created.\n",
    "\n",
    "Here's an example: '''"
   ]
  },
  {
   "cell_type": "code",
   "execution_count": 52,
   "id": "edd0c32a-12df-4d50-988e-f433a5e18ff9",
   "metadata": {},
   "outputs": [],
   "source": [
    "with open('example.txt', 'w') as f:\n",
    "    f.write('Hello, world!\\n')\n",
    "    f.write('This is a test.\\n')"
   ]
  },
  {
   "cell_type": "code",
   "execution_count": 53,
   "id": "77693f5c-a385-4de0-9385-c7b444b7f5cf",
   "metadata": {},
   "outputs": [
    {
     "data": {
      "text/plain": [
       "' In this code, we open the file example.txt in write mode using a with statement. We then call the write() \\nmethod twice on the file object f, which writes the strings \"Hello, world!\" and \"This is a test.\" to the file. \\nNote that we include a newline character (\\n) at the end of each string to indicate that we want to start a new line\\nin the file. '"
      ]
     },
     "execution_count": 53,
     "metadata": {},
     "output_type": "execute_result"
    }
   ],
   "source": [
    "''' In this code, we open the file example.txt in write mode using a with statement. We then call the write() \n",
    "method twice on the file object f, which writes the strings \"Hello, world!\" and \"This is a test.\" to the file. \n",
    "Note that we include a newline character (\\n) at the end of each string to indicate that we want to start a new line\n",
    "in the file. '''\n",
    "\n"
   ]
  },
  {
   "cell_type": "code",
   "execution_count": 54,
   "id": "b37fdc89-37f7-4861-a78f-b999f4fae374",
   "metadata": {},
   "outputs": [
    {
     "data": {
      "text/plain": [
       "\" writelines()\\nThe writelines() function is used to write a list of strings to a file. Each string in the list corresponds to a \\nline in the file. The function takes a single argument, which is the list of strings to write to the file. \\nIf the file already exists, the strings are appended to the end of the file. If the file doesn't exist,a new file is \\ncreated.\\n\\nHere's an example: \""
      ]
     },
     "execution_count": 54,
     "metadata": {},
     "output_type": "execute_result"
    }
   ],
   "source": [
    "''' writelines()\n",
    "The writelines() function is used to write a list of strings to a file. Each string in the list corresponds to a \n",
    "line in the file. The function takes a single argument, which is the list of strings to write to the file. \n",
    "If the file already exists, the strings are appended to the end of the file. If the file doesn't exist,a new file is \n",
    "created.\n",
    "\n",
    "Here's an example: '''"
   ]
  },
  {
   "cell_type": "code",
   "execution_count": 57,
   "id": "8f1d4478-8fd9-4fc4-ba81-228cd277b616",
   "metadata": {},
   "outputs": [],
   "source": [
    "lines = ['Line 1\\n', 'Line 2\\n', 'Line 3\\n']\n",
    "with open('example.txt', 'w') as f:\n",
    "    f.writelines(lines)\n"
   ]
  },
  {
   "cell_type": "code",
   "execution_count": 58,
   "id": "189c1920-f074-41ec-8c6f-b0df5d18adee",
   "metadata": {},
   "outputs": [],
   "source": [
    "lines = ['Line 1', 'Line 2', 'Line 3']\n",
    "with open('example.txt', 'w') as f:\n",
    "    f.writelines([line + '\\n' for line in lines])\n"
   ]
  },
  {
   "cell_type": "code",
   "execution_count": null,
   "id": "7d97e59a-c18c-4338-9ded-f8441aa3b3d7",
   "metadata": {},
   "outputs": [],
   "source": []
  }
 ],
 "metadata": {
  "kernelspec": {
   "display_name": "Python 3 (ipykernel)",
   "language": "python",
   "name": "python3"
  },
  "language_info": {
   "codemirror_mode": {
    "name": "ipython",
    "version": 3
   },
   "file_extension": ".py",
   "mimetype": "text/x-python",
   "name": "python",
   "nbconvert_exporter": "python",
   "pygments_lexer": "ipython3",
   "version": "3.10.6"
  }
 },
 "nbformat": 4,
 "nbformat_minor": 5
}
