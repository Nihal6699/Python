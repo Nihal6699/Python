{
 "cells": [
  {
   "cell_type": "code",
   "execution_count": 1,
   "id": "15907b38-47cb-48e0-ade9-be6759ff916c",
   "metadata": {},
   "outputs": [
    {
     "data": {
      "text/plain": [
       "'Sol:- The def keyword is used to create a function'"
      ]
     },
     "execution_count": 1,
     "metadata": {},
     "output_type": "execute_result"
    }
   ],
   "source": [
    "# Q1. Which keyword is used to create a function? Create a function to return a list of odd numbers in the range of\n",
    "# 1 to 25.\n",
    "\n",
    "'''Sol:- The def keyword is used to create a function'''"
   ]
  },
  {
   "cell_type": "code",
   "execution_count": 2,
   "id": "ff2279e2-d27f-43fb-834d-aa3454352ea7",
   "metadata": {},
   "outputs": [],
   "source": [
    "a=range(1,25)"
   ]
  },
  {
   "cell_type": "code",
   "execution_count": 3,
   "id": "56d5cf6e-a551-48b2-8d90-f8e3c8bee53a",
   "metadata": {},
   "outputs": [],
   "source": [
    "def test(b):\n",
    "    n=[]\n",
    "    for i in b:\n",
    "        if i%2 != 0:\n",
    "            n.append(i)\n",
    "    return n"
   ]
  },
  {
   "cell_type": "code",
   "execution_count": 4,
   "id": "5d616318-a6dc-465b-bdd8-6ad17aba1b23",
   "metadata": {},
   "outputs": [
    {
     "data": {
      "text/plain": [
       "[1, 3, 5, 7, 9, 11, 13, 15, 17, 19, 21, 23]"
      ]
     },
     "execution_count": 4,
     "metadata": {},
     "output_type": "execute_result"
    }
   ],
   "source": [
    "test(a)"
   ]
  },
  {
   "cell_type": "code",
   "execution_count": null,
   "id": "805698f7-aba2-4e7a-802d-f2ba52e45a23",
   "metadata": {},
   "outputs": [],
   "source": [
    "#Q2. Why *args and **kwargs is used in some functions? Create a function each for *args and **kwargs to demonstrate \n",
    "# their use.\n",
    "\n",
    "'''Sol:- *args and **kwargs are used as arguments in a function to pass a variable number of arguments to a function. The single asterisk * is used to pass a non-keyworded, variable-length argument list, and the double asterisk ** is used to pass keyworded, \n",
    "variable-length arguments. '''\n"
   ]
  },
  {
   "cell_type": "code",
   "execution_count": 5,
   "id": "3f5a0ebe-663a-467d-a1dd-41867d809c15",
   "metadata": {},
   "outputs": [],
   "source": [
    "def test1(*args):\n",
    "    return args"
   ]
  },
  {
   "cell_type": "code",
   "execution_count": 6,
   "id": "9ff8fef6-6643-4597-ba58-00979311a6fa",
   "metadata": {},
   "outputs": [
    {
     "data": {
      "text/plain": [
       "(1, 2, 3, 4, 'Nihal', True, (5+6j), 34.56)"
      ]
     },
     "execution_count": 6,
     "metadata": {},
     "output_type": "execute_result"
    }
   ],
   "source": [
    "test1(1,2,3,4,\"Nihal\",True,5+6j,34.56)"
   ]
  },
  {
   "cell_type": "code",
   "execution_count": 7,
   "id": "a1002d95-c454-4dd9-bedd-fb8893d78fdf",
   "metadata": {},
   "outputs": [],
   "source": [
    "def test2(**kwargs):\n",
    "    return kwargs"
   ]
  },
  {
   "cell_type": "code",
   "execution_count": 9,
   "id": "09900853-8b56-46f4-8d60-d2078fc50096",
   "metadata": {},
   "outputs": [
    {
     "data": {
      "text/plain": [
       "{'a': 1, 'b': 'Nihal', 'c': 34, 'd': True, 'e': (3+4j)}"
      ]
     },
     "execution_count": 9,
     "metadata": {},
     "output_type": "execute_result"
    }
   ],
   "source": [
    "test2(a=1,b=\"Nihal\",c=34,d=True,e=3+4j)"
   ]
  },
  {
   "cell_type": "code",
   "execution_count": null,
   "id": "ccd388c3-c9ea-43d1-8c0e-01c44fa0cd7e",
   "metadata": {},
   "outputs": [],
   "source": [
    "#Q3.What is an iterator in python? Name the method used to initialise the iterator object and the method used for \n",
    "#iteration. Use these methods to print the first five elements of the given list [2, 4, 6, 8, 10, 12, 14, 16, 18, 20].\n",
    "\n",
    "''' Sol:- In Python, an iterator is an object that can be iterated (looped) upon. An object which will return data, one element at a time.\n",
    "\n",
    "In Python, the method used to initialize an iterator object is iter(). The method used for iteration is next().\n",
    "\n",
    "Here's an example of using these methods to print the first five elements of a list: '''"
   ]
  },
  {
   "cell_type": "code",
   "execution_count": 10,
   "id": "332463ca-a5df-4425-86e9-6b225229bd09",
   "metadata": {},
   "outputs": [
    {
     "name": "stdout",
     "output_type": "stream",
     "text": [
      "2\n",
      "4\n",
      "6\n",
      "8\n",
      "10\n"
     ]
    }
   ],
   "source": [
    "l= [2, 4, 6, 8, 10, 12, 14, 16, 18, 20]\n",
    "\n",
    "#Initializng the iterator object\n",
    "my_iter = iter(l)\n",
    "\n",
    "#Iterating over elements\n",
    "for i in range(5):\n",
    "    print(next(my_iter))\n",
    "\n",
    "\n",
    "\n",
    "\n",
    "\n"
   ]
  },
  {
   "cell_type": "code",
   "execution_count": 11,
   "id": "a9182972-0991-40e8-8b40-782f7f9f79ac",
   "metadata": {},
   "outputs": [
    {
     "data": {
      "text/plain": [
       "\" Sol:- A generator function is a special type of function in Python that allows for a simple and concise way to \\ncreate iterators. Unlike normal functions, which run to completion and return a single value, a generator function can \\nbe paused at any time and can return a series of values over time.\\n\\nThe yield keyword is used in a generator function to return a value and pause the function's execution, retaining its \\nstate. When the generator is resumed, it will continue from where it left off, and execute until it encounters another\\nyield statement or until the end of the function. \""
      ]
     },
     "execution_count": 11,
     "metadata": {},
     "output_type": "execute_result"
    }
   ],
   "source": [
    "# Q4. What is a generator function in python? Why yield keyword is used? Give an example of a generator function.\n",
    "\n",
    "''' Sol:- A generator function is a special type of function in Python that allows for a simple and concise way to \n",
    "create iterators. Unlike normal functions, which run to completion and return a single value, a generator function can \n",
    "be paused at any time and can return a series of values over time.\n",
    "\n",
    "The yield keyword is used in a generator function to return a value and pause the function's execution, retaining its \n",
    "state. When the generator is resumed, it will continue from where it left off, and execute until it encounters another\n",
    "yield statement or until the end of the function. '''"
   ]
  },
  {
   "cell_type": "code",
   "execution_count": 14,
   "id": "a310e641-de85-41d0-9c54-9b3b653924aa",
   "metadata": {},
   "outputs": [],
   "source": [
    "#Example of generator function\n",
    "\n",
    "def test_fib(n):\n",
    "    a,b=0,1\n",
    "    for i in range(n):\n",
    "        yield a\n",
    "        a,b=b,a+b\n",
    "        \n",
    "        \n",
    "    \n",
    "    \n"
   ]
  },
  {
   "cell_type": "code",
   "execution_count": 15,
   "id": "f978d8ba-5054-4b73-b0d2-c483b1e937a6",
   "metadata": {},
   "outputs": [
    {
     "data": {
      "text/plain": [
       "<generator object test3 at 0x7fc52de1ee30>"
      ]
     },
     "execution_count": 15,
     "metadata": {},
     "output_type": "execute_result"
    }
   ],
   "source": [
    "test3(12)"
   ]
  },
  {
   "cell_type": "code",
   "execution_count": 16,
   "id": "ad244372-471f-4c7c-a356-1d2833fccf43",
   "metadata": {},
   "outputs": [
    {
     "name": "stdout",
     "output_type": "stream",
     "text": [
      "0\n",
      "1\n",
      "1\n",
      "2\n",
      "3\n",
      "5\n",
      "8\n",
      "13\n",
      "21\n",
      "34\n",
      "55\n",
      "89\n"
     ]
    }
   ],
   "source": [
    "for i in test_fib(12):\n",
    "    print(i)"
   ]
  },
  {
   "cell_type": "code",
   "execution_count": 23,
   "id": "88e1c52a-12ac-495d-8f57-b61458a15bb9",
   "metadata": {},
   "outputs": [],
   "source": [
    "#Another example of generator function\n",
    "\n",
    "def generate_squares(n):\n",
    "    for i in range(1,n+1):\n",
    "        yield i**2\n",
    "    "
   ]
  },
  {
   "cell_type": "code",
   "execution_count": 24,
   "id": "f2b72f13-77d0-4bba-811f-e01dd4d16ace",
   "metadata": {},
   "outputs": [
    {
     "data": {
      "text/plain": [
       "<generator object generate_squares at 0x7fc52de1f4c0>"
      ]
     },
     "execution_count": 24,
     "metadata": {},
     "output_type": "execute_result"
    }
   ],
   "source": [
    "generate_squares(10)"
   ]
  },
  {
   "cell_type": "code",
   "execution_count": 27,
   "id": "355879a0-6623-4ebd-8517-9c22067828a2",
   "metadata": {},
   "outputs": [
    {
     "name": "stdout",
     "output_type": "stream",
     "text": [
      "1\n",
      "4\n",
      "9\n",
      "16\n",
      "25\n",
      "36\n",
      "49\n",
      "64\n",
      "81\n",
      "100\n"
     ]
    }
   ],
   "source": [
    "for i in generate_squares(10):\n",
    "    print(i)"
   ]
  },
  {
   "cell_type": "code",
   "execution_count": 30,
   "id": "32b50163-c677-448b-95ed-1b2491189a84",
   "metadata": {},
   "outputs": [],
   "source": [
    "#Q5.Create a generator function for prime numbers less than 1000. Use the next() method to print the first 20 prime \n",
    "#numbers.\n",
    "    "
   ]
  },
  {
   "cell_type": "code",
   "execution_count": 35,
   "id": "caa31b04-e6ca-40c8-aa9b-b76fe0d50f1b",
   "metadata": {},
   "outputs": [],
   "source": [
    "def prime_numbers():\n",
    "    primes = []\n",
    "    for num in range(2, 1000):\n",
    "        for prime in primes:\n",
    "            if num % prime == 0:\n",
    "                break\n",
    "        else:\n",
    "            primes.append(num)\n",
    "            yield num"
   ]
  },
  {
   "cell_type": "code",
   "execution_count": 36,
   "id": "8e404796-695e-4947-bec1-246c6f9e38c9",
   "metadata": {},
   "outputs": [
    {
     "data": {
      "text/plain": [
       "<generator object prime_numbers at 0x7fc52c3ee260>"
      ]
     },
     "execution_count": 36,
     "metadata": {},
     "output_type": "execute_result"
    }
   ],
   "source": [
    "prime_numbers()"
   ]
  },
  {
   "cell_type": "code",
   "execution_count": 39,
   "id": "911ee1da-bf4b-4bdd-9201-2cd74e847572",
   "metadata": {},
   "outputs": [],
   "source": [
    "primes=prime_numbers()"
   ]
  },
  {
   "cell_type": "code",
   "execution_count": 40,
   "id": "987e31ae-bbb1-47a8-a824-ad9023210885",
   "metadata": {},
   "outputs": [
    {
     "name": "stdout",
     "output_type": "stream",
     "text": [
      "2\n",
      "3\n",
      "5\n",
      "7\n",
      "11\n",
      "13\n",
      "17\n",
      "19\n",
      "23\n",
      "29\n",
      "31\n",
      "37\n",
      "41\n",
      "43\n",
      "47\n",
      "53\n",
      "59\n",
      "61\n",
      "67\n",
      "71\n"
     ]
    }
   ],
   "source": [
    "for i in range(20):\n",
    "    print(next(primes))"
   ]
  },
  {
   "cell_type": "code",
   "execution_count": null,
   "id": "962b75d6-afcd-482f-bdb4-52a3e313e75c",
   "metadata": {},
   "outputs": [],
   "source": []
  }
 ],
 "metadata": {
  "kernelspec": {
   "display_name": "Python 3 (ipykernel)",
   "language": "python",
   "name": "python3"
  },
  "language_info": {
   "codemirror_mode": {
    "name": "ipython",
    "version": 3
   },
   "file_extension": ".py",
   "mimetype": "text/x-python",
   "name": "python",
   "nbconvert_exporter": "python",
   "pygments_lexer": "ipython3",
   "version": "3.10.8"
  }
 },
 "nbformat": 4,
 "nbformat_minor": 5
}
