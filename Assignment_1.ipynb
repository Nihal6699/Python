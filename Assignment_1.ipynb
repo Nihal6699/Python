{
 "cells": [
  {
   "cell_type": "markdown",
   "id": "1742beb9",
   "metadata": {},
   "source": []
  },
  {
   "cell_type": "markdown",
   "id": "649ccf65-2084-4f5b-96a1-39cbf6281bd8",
   "metadata": {},
   "source": [
    "\n",
    "1. In the below elements which of them are values or an expression? eg:- values can be \n",
    "integer or string and expressions will be mathematical operators.\n",
    "*\n",
    "'hello'\n",
    "-87.8\n",
    "-\n",
    "/\n",
    "+\n",
    "6\n",
    " \n",
    "Solution:- * is an expression as it is used to multiply two integers.\n",
    "           'hello' is a value as it is a string.\n",
    "           -87.8 is a value as it is a float data type.\n",
    "           - is an expression as it subtracts two integers or numbers.\n",
    "           / is an expression as it divides two integers or numbers.\n",
    "           + is an expression as it adds two integers or numbers.\n",
    "           6 is a value as it belongs to integer datatype\n",
    "\n",
    "2. What is the difference between string and variable?\n",
    "\n",
    "Solution:- A variable is like a memory location where it can hold data of different data-types like\n",
    "           int, float,char, bool etc.\n",
    "           String is one of the data-type where the variable considers the string value as a data and stores in it.\n",
    "           \n",
    "3. Describe three different data types.\n",
    "\n",
    "Solution:- int is one of the datatype used to store positive and negative whole numbers.\n",
    "           bool is a data-type which represents one of the 2 values i,e.. True or False.\n",
    "           Complex number is represented by complex class. It is specified as \n",
    "           (real part) + (imaginary part)j. For example – 2+3j.\n",
    "           \n",
    "4. What is an expression made up of? What do all expressions do?\n",
    "\n",
    "Solution:- An expression is a combination of operators and operands that is interpreted to produce some other value.\n",
    "           an expression is evaluated as per the precedence of its operators\n",
    "           x = 25 is a statement\n",
    "           y = 12 is a statement\n",
    "           x+(y+10) is an expression where it performs the math operation in brackets first and then that value is \n",
    "           added to x to give the value which is 47\n",
    "\n",
    "5. This assignment statements, like spam = 10. What is the difference between an expression and a statement?\n",
    "\n",
    "Solution:- In Python, an expression is a combination of values, variables, and operators that evaluates to a single value. For            example, the expression 2 + 3 evaluates to 5. A statement, on the other hand, is a complete instruction that tells              the program to perform a specific action, such as assignment or control flow. For example, the statement x = 2 + 3              assigns the value of the expression 2 + 3 to the variable x.Here also, we're assigning the value of 10 to variable              spam\n",
    "\n",
    "6. After running the following code, what does the variable bacon contain?\n",
    "bacon = 22\n",
    "bacon + 1\n",
    "\n",
    "Solution:- 23\n",
    "\n",
    "7. What should the values of the following two terms be?\n",
    "'spam'+'spamspam'\n",
    " 'spam' * 3\n",
    " \n",
    "Solution: 'spamspamspam'\n",
    "          'spamspamspam'\n",
    "\n",
    "\n",
    "8. Why is eggs a valid variable name while 100 is invalid?\n",
    "\n",
    "Solution:- In Python, variable names must start with a letter or an underscore (_), and can include letters, digits, and \n",
    "           underscores. However, they cannot start with a digit. This means that \"eggs\" is a valid variable name because it                starts with a letter, while \"100\" is not valid because it starts with a digit.\n",
    "\n",
    "9. What three functions can be used to get the integer, floating-point number, or string\n",
    "version of a value?\n",
    "\n",
    "Solution:- The int(), float(), and str() functions will evaluate to the integer, floating-point number, and string versions of            the value passed to them.\n",
    "\n",
    "10. Why does this expression cause an error? How can you fix it?\n",
    "'I have eaten'+99+'burritos.'\n",
    "\n",
    "Solution:- 'I have eaten'+99+'burritos.'\n",
    "           can only concatenate str (not \"int\") to str\n",
    "           To resolve the error we can add apostrophe(') or Quotation(\") to 99 in the following expression, so that, it       \n",
    "           considers '99' as a string(str) along with 'I have eaten' and 'burritos'\n",
    "           "
   ]
  },
  {
   "cell_type": "code",
   "execution_count": 1,
   "id": "e1802396-575c-4955-9d3f-635c63a50c5a",
   "metadata": {},
   "outputs": [
    {
     "data": {
      "text/plain": [
       "23"
      ]
     },
     "execution_count": 1,
     "metadata": {},
     "output_type": "execute_result"
    }
   ],
   "source": [
    "#Q6) Solution\n",
    "bacon = 22\n",
    "bacon+1"
   ]
  },
  {
   "cell_type": "code",
   "execution_count": 2,
   "id": "d0409c17-48f3-4d42-ae11-3fa6a4e07874",
   "metadata": {},
   "outputs": [
    {
     "data": {
      "text/plain": [
       "'spamspamspam'"
      ]
     },
     "execution_count": 2,
     "metadata": {},
     "output_type": "execute_result"
    }
   ],
   "source": [
    "#Q7) Solution\n",
    "'spam'+'spamspam'"
   ]
  },
  {
   "cell_type": "code",
   "execution_count": 3,
   "id": "73fdbfa9-a5d6-493e-836c-5602a5db9f59",
   "metadata": {},
   "outputs": [
    {
     "data": {
      "text/plain": [
       "'spamspamspam'"
      ]
     },
     "execution_count": 3,
     "metadata": {},
     "output_type": "execute_result"
    }
   ],
   "source": [
    "'spam'*3"
   ]
  },
  {
   "cell_type": "code",
   "execution_count": 5,
   "id": "dab2139f-2032-43e3-bcd3-5cbcb6f83491",
   "metadata": {},
   "outputs": [
    {
     "data": {
      "text/plain": [
       "3"
      ]
     },
     "execution_count": 5,
     "metadata": {},
     "output_type": "execute_result"
    }
   ],
   "source": [
    "#Q9) Solution\n",
    "int(3.14)\n"
   ]
  },
  {
   "cell_type": "code",
   "execution_count": 6,
   "id": "565cdfc2-75b2-45a8-ba39-5281a5df2da5",
   "metadata": {},
   "outputs": [
    {
     "data": {
      "text/plain": [
       "23.0"
      ]
     },
     "execution_count": 6,
     "metadata": {},
     "output_type": "execute_result"
    }
   ],
   "source": [
    "float(23)"
   ]
  },
  {
   "cell_type": "code",
   "execution_count": 7,
   "id": "a9c7cb12-d726-4f4f-8c68-62a679445895",
   "metadata": {},
   "outputs": [
    {
     "data": {
      "text/plain": [
       "'999'"
      ]
     },
     "execution_count": 7,
     "metadata": {},
     "output_type": "execute_result"
    }
   ],
   "source": [
    "str(999)"
   ]
  },
  {
   "cell_type": "code",
   "execution_count": 8,
   "id": "60d867a5-bb8e-474c-83d9-8f0ac3a5bd11",
   "metadata": {},
   "outputs": [
    {
     "ename": "TypeError",
     "evalue": "can only concatenate str (not \"int\") to str",
     "output_type": "error",
     "traceback": [
      "\u001b[0;31m---------------------------------------------------------------------------\u001b[0m",
      "\u001b[0;31mTypeError\u001b[0m                                 Traceback (most recent call last)",
      "Cell \u001b[0;32mIn [8], line 2\u001b[0m\n\u001b[1;32m      1\u001b[0m \u001b[38;5;66;03m#Q10) Solution\u001b[39;00m\n\u001b[0;32m----> 2\u001b[0m \u001b[38;5;124;43m'\u001b[39;49m\u001b[38;5;124;43mI have eaten\u001b[39;49m\u001b[38;5;124;43m'\u001b[39;49m\u001b[38;5;241;43m+\u001b[39;49m\u001b[38;5;241;43m99\u001b[39;49m\u001b[38;5;241m+\u001b[39m\u001b[38;5;124m'\u001b[39m\u001b[38;5;124mburritos.\u001b[39m\u001b[38;5;124m'\u001b[39m\n",
      "\u001b[0;31mTypeError\u001b[0m: can only concatenate str (not \"int\") to str"
     ]
    }
   ],
   "source": [
    "#Q10) Solution\n",
    "'I have eaten'+99+'burritos.'"
   ]
  },
  {
   "cell_type": "code",
   "execution_count": 9,
   "id": "d425179d-5292-4e72-b1df-b0266cfddfad",
   "metadata": {},
   "outputs": [
    {
     "data": {
      "text/plain": [
       "'I have eaten99burritos.'"
      ]
     },
     "execution_count": 9,
     "metadata": {},
     "output_type": "execute_result"
    }
   ],
   "source": [
    "'I have eaten'+'99'+'burritos.'"
   ]
  },
  {
   "cell_type": "code",
   "execution_count": null,
   "id": "d843a23c-be82-466b-8c86-fadcc33dde2e",
   "metadata": {},
   "outputs": [],
   "source": []
  }
 ],
 "metadata": {
  "kernelspec": {
   "display_name": "Python 3 (ipykernel)",
   "language": "python",
   "name": "python3"
  },
  "language_info": {
   "codemirror_mode": {
    "name": "ipython",
    "version": 3
   },
   "file_extension": ".py",
   "mimetype": "text/x-python",
   "name": "python",
   "nbconvert_exporter": "python",
   "pygments_lexer": "ipython3",
   "version": "3.10.6"
  }
 },
 "nbformat": 4,
 "nbformat_minor": 5
}
