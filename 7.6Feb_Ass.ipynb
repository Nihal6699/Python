{
 "cells": [
  {
   "cell_type": "code",
   "execution_count": 21,
   "id": "51bc2dc3-4ef5-4e2c-8f18-507129febb79",
   "metadata": {},
   "outputs": [],
   "source": [
    "#Q1. Create a function which will take a list as an argument and return the product of all the numbers\n",
    "#after creating a flat list.\n",
    "#Use the below-given list as an argument for your function.\n",
    "#list1 = [1,2,3,4, [44,55,66, True], False, (34,56,78,89,34), {1,2,3,3,2,1}, {1:34, \"key2\": [55, 67, 78, 89], 4: (45,22, 61, 34)}, \n",
    "#[56, 'data science'], 'Machine Learning']\n",
    "#Note: you must extract numeric keys and values of the dictionary also. "
   ]
  },
  {
   "cell_type": "code",
   "execution_count": 12,
   "id": "75f35147-7573-46f6-a58c-fa35605df52f",
   "metadata": {},
   "outputs": [],
   "source": [
    "def product_of_numbers(lst):\n",
    "    flat_list = []\n",
    "    for item in lst:\n",
    "        if isinstance(item, (int, float)):\n",
    "            flat_list.append(item)\n",
    "        elif type(item) == list:\n",
    "            flat_list += [i for i in item if isinstance(i, (int, float))]\n",
    "        elif type(item) == tuple:\n",
    "            flat_list += [i for i in item if isinstance(i, (int, float))]\n",
    "        elif type(item) == dict:\n",
    "            flat_list += [i for i in item.values() if isinstance(i, (int, float))]\n",
    "            flat_list += [k for k in item.keys() if isinstance(k, (int, float))]\n",
    "        elif type(item) == set:\n",
    "            flat_list += [i for i in item if isinstance(i, (int, float))]\n",
    "    \n",
    "    product = 1\n",
    "    for num in flat_list:\n",
    "        product *= num\n",
    "    \n",
    "    return product\n"
   ]
  },
  {
   "cell_type": "code",
   "execution_count": 13,
   "id": "1e091340-4a0a-43a8-8187-2b4cf593566f",
   "metadata": {},
   "outputs": [
    {
     "name": "stdout",
     "output_type": "stream",
     "text": [
      "0\n"
     ]
    }
   ],
   "source": [
    "list1 = [1,2,3,4, [44,55,66, True], False, (34,56,78,89,34), {1,2,3,3,2,1}, {1:34, \"key2\": [55, 67, 78, 89], 4: (45, 22, 61, 34)}, [56, 'data science'], 'Machine Learning']\n",
    "print(product_of_numbers(list1))"
   ]
  },
  {
   "cell_type": "code",
   "execution_count": 18,
   "id": "222c1464-1774-431c-ba6d-0540f8c14051",
   "metadata": {},
   "outputs": [],
   "source": [
    "# Q.2 Write a python program for encrypting a message sent to you by your friend. The logic of encryption\n",
    "#should be such that, for a the output should be z. For b, the output should be y. For c, the output should\n",
    "#be x respectively. Also, the whitespace should be replaced with a dollar sign. Keep the punctuation\n",
    "#marks unchanged.\n",
    "#Input Sentence: I want to become a Data Scientist.\n",
    "#Encrypt the above input sentence using the program you just created.\n",
    "#Note: Convert the given input sentence into lowercase before encrypting. The final output should be\n",
    "#lowercase. "
   ]
  },
  {
   "cell_type": "code",
   "execution_count": 1,
   "id": "12d74f26-c259-4b7e-a23d-ebaa3f6f2389",
   "metadata": {},
   "outputs": [],
   "source": [
    "#Sol:-\n",
    "\n",
    "def encrypt_message(message):\n",
    "    # Convert message to lowercase\n",
    "    message = message.lower()\n",
    "\n",
    "    # Create a dictionary to store the encryption mapping\n",
    "    encryption_map = {\n",
    "        'a': 'z',\n",
    "        'b': 'y',\n",
    "        'c': 'x',\n",
    "        'd': 'w',\n",
    "        'e': 'v',\n",
    "        'f': 'u',\n",
    "        'g': 't',\n",
    "        'h': 's',\n",
    "        'i': 'r',\n",
    "        'j': 'q',\n",
    "        'k': 'p',\n",
    "        'l': 'o',\n",
    "        'm': 'n',\n",
    "        'n': 'm',\n",
    "        'o': 'l',\n",
    "        'p': 'k',\n",
    "        'q': 'j',\n",
    "        'r': 'i',\n",
    "        's': 'h',\n",
    "        't': 'g',\n",
    "        'u': 'f',\n",
    "        'v': 'e',\n",
    "        'w': 'd',\n",
    "        'x': 'c',\n",
    "        'y': 'b',\n",
    "        'z': 'a'\n",
    "    }\n",
    "\n",
    "    # Encrypt the message\n",
    "    encrypted_message = \"\"\n",
    "    for char in message:\n",
    "        if char.isalpha():\n",
    "            encrypted_char = encryption_map[char]\n",
    "            encrypted_message += encrypted_char\n",
    "        elif char.isspace():\n",
    "            encrypted_message += '$'\n",
    "        else:\n",
    "            encrypted_message += char\n",
    "\n",
    "    return encrypted_message\n",
    "\n",
    "\n",
    "    \n",
    "    "
   ]
  },
  {
   "cell_type": "code",
   "execution_count": 2,
   "id": "de42f1c5-5d1a-4b6a-b0f1-8f7d7c51a21e",
   "metadata": {},
   "outputs": [
    {
     "data": {
      "text/plain": [
       "'r$dzmg$gl$yvxlnv$z$wzgz$hxrvmgrhg.'"
      ]
     },
     "execution_count": 2,
     "metadata": {},
     "output_type": "execute_result"
    }
   ],
   "source": [
    "# Example usage\n",
    "input_sentence = \"I want to become a Data Scientist.\"\n",
    "encrypt_message(input_sentence)\n",
    "\n"
   ]
  },
  {
   "cell_type": "code",
   "execution_count": null,
   "id": "95d87044-5c51-4084-8e50-252010d54895",
   "metadata": {},
   "outputs": [],
   "source": []
  },
  {
   "cell_type": "code",
   "execution_count": 5,
   "id": "fe5e4c7e-315e-4e4c-b47e-7ea0861be33a",
   "metadata": {},
   "outputs": [],
   "source": [
    "my_list = [1, 2, [3, 4], 5, [6, 7, [8, 9]]]"
   ]
  },
  {
   "cell_type": "code",
   "execution_count": 10,
   "id": "370b7005-035b-4752-9cda-bb9f6dc472f2",
   "metadata": {},
   "outputs": [],
   "source": [
    "# Reference for the Q.1 to understand the term flat_list for myself\n",
    "def flatten_list(lst):\n",
    "    flat_list = []\n",
    "    for i in lst:\n",
    "        if isinstance(i, list):\n",
    "            flat_list.extend(flatten_list(i))\n",
    "        else:\n",
    "            flat_list.append(i)\n",
    "    return flat_list"
   ]
  },
  {
   "cell_type": "code",
   "execution_count": 11,
   "id": "ff2ed078-6155-4cfb-a4ce-c321035eb68a",
   "metadata": {},
   "outputs": [
    {
     "data": {
      "text/plain": [
       "[1, 2, 3, 4, 5, 6, 7, 8, 9]"
      ]
     },
     "execution_count": 11,
     "metadata": {},
     "output_type": "execute_result"
    }
   ],
   "source": [
    "flatten_list(my_list)"
   ]
  },
  {
   "cell_type": "code",
   "execution_count": null,
   "id": "5436f683-2a9c-4178-a2db-abcd07d4be64",
   "metadata": {},
   "outputs": [],
   "source": []
  }
 ],
 "metadata": {
  "kernelspec": {
   "display_name": "Python 3 (ipykernel)",
   "language": "python",
   "name": "python3"
  },
  "language_info": {
   "codemirror_mode": {
    "name": "ipython",
    "version": 3
   },
   "file_extension": ".py",
   "mimetype": "text/x-python",
   "name": "python",
   "nbconvert_exporter": "python",
   "pygments_lexer": "ipython3",
   "version": "3.10.8"
  }
 },
 "nbformat": 4,
 "nbformat_minor": 5
}
