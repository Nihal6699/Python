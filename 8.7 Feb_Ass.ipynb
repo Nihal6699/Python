{
 "cells": [
  {
   "cell_type": "code",
   "execution_count": null,
   "id": "4ae4f069-e4e6-47ab-b94e-f791fef4cdf1",
   "metadata": {},
   "outputs": [],
   "source": [
    "#Q1. You are writing code for a company. The requirement of the company is that you create a python\n",
    "#function that will check whether the password entered by the user is correct or not. The function should\n",
    "#take the password as input and return the string “Valid Password” if the entered password follows the\n",
    "#below-given password guidelines else it should return “Invalid Password”.\n",
    "#Note: 1. The Password should contain at least two uppercase letters and at least two lowercase letters.\n",
    "#2. The Password should contain at least a number and three special characters.\n",
    "#3. The length of the password should be 10 characters long."
   ]
  },
  {
   "cell_type": "code",
   "execution_count": 1,
   "id": "1c961553-df43-4335-9d7e-4daeadaf5375",
   "metadata": {},
   "outputs": [],
   "source": [
    "def check_password(password):\n",
    "    \n",
    "    # Count the number of uppercase and lowercase letters\n",
    "    upper_count = 0\n",
    "    lower_count = 0\n",
    "    for char in password:\n",
    "        if char.isupper():\n",
    "            upper_count += 1\n",
    "        elif char.islower():\n",
    "            lower_count += 1\n",
    "\n",
    "    # Check if password has at least 2 uppercase and 2 lowercase letters\n",
    "    if upper_count < 2 or lower_count < 2:\n",
    "        return \"Invalid Password\"\n",
    "\n",
    "    # Check if password has at least a number and 3 special characters\n",
    "    special_count = 0\n",
    "    digit_count = 0\n",
    "    for char in password:\n",
    "        if char.isdigit():\n",
    "            digit_count += 1\n",
    "        elif char in \"!@#$%^&*()\":\n",
    "            special_count += 1\n",
    "\n",
    "    if digit_count < 1 or special_count < 3:\n",
    "        return \"Invalid Password\"\n",
    "\n",
    "    # Check if password is 10 characters long\n",
    "    if len(password) != 10:\n",
    "        return \"Invalid Password\"\n",
    "\n",
    "    # If all checks pass, return \"Valid Password\"\n",
    "    return \"Valid Password\"\n",
    "\n",
    "            \n",
    "   \n",
    "    "
   ]
  },
  {
   "cell_type": "code",
   "execution_count": 21,
   "id": "491af2c6-4255-4774-9bff-5e77500530ad",
   "metadata": {},
   "outputs": [
    {
     "data": {
      "text/plain": [
       "'Valid Password'"
      ]
     },
     "execution_count": 21,
     "metadata": {},
     "output_type": "execute_result"
    }
   ],
   "source": [
    "check_password(\"ABab1@#$de\")\n"
   ]
  },
  {
   "cell_type": "code",
   "execution_count": 22,
   "id": "1d203d72-547d-4944-b06e-c20f54498011",
   "metadata": {},
   "outputs": [
    {
     "data": {
      "text/plain": [
       "'Invalid Password'"
      ]
     },
     "execution_count": 22,
     "metadata": {},
     "output_type": "execute_result"
    }
   ],
   "source": [
    "check_password(\"ZXasd123@#\")"
   ]
  },
  {
   "cell_type": "code",
   "execution_count": 24,
   "id": "afddd822-88f1-4633-acfe-f262ac1d5cb0",
   "metadata": {},
   "outputs": [
    {
     "data": {
      "text/plain": [
       "' Q2. Solve the below-given questions using at least one of the following:\\n\\n1. Lambda function\\n2. Filter function\\n3. Zap function\\n4. List Comprehension\\n\\nCheck if the string starts with a particular letter.\\nCheck if the string is numeric.\\nSort a list of tuples having fruit names and their quantity. [(\"mango\",99),(\"orange\",80), (\"grapes\", 1000)]\\nFind the squares of numbers from 1 to 10.\\nFind the cube root of numbers from 1 to 10.\\nCheck if a given number is even.\\nFilter odd numbers from the given list.\\n[1,2,3,4,5,6,7,8,9,10]\\n\\nSort a list of integers into positive and negative integers lists.\\n[1,2,3,4,5,6,-1,-2,-3,-4,-5,0]\\n\\n'"
      ]
     },
     "execution_count": 24,
     "metadata": {},
     "output_type": "execute_result"
    }
   ],
   "source": [
    "''' Q2. Solve the below-given questions using at least one of the following:\n",
    "\n",
    "1. Lambda function\n",
    "2. Filter function\n",
    "3. Map function\n",
    "4. List Comprehension\n",
    "\n",
    "Check if the string starts with a particular letter.\n",
    "Check if the string is numeric.\n",
    "Sort a list of tuples having fruit names and their quantity. [(\"mango\",99),(\"orange\",80), (\"grapes\", 1000)]\n",
    "Find the squares of numbers from 1 to 10.\n",
    "Find the cube root of numbers from 1 to 10.\n",
    "Check if a given number is even.\n",
    "Filter odd numbers from the given list.\n",
    "[1,2,3,4,5,6,7,8,9,10]\n",
    "\n",
    "Sort a list of integers into positive and negative integers lists.\n",
    "[1,2,3,4,5,6,-1,-2,-3,-4,-5,0]\n",
    "\n",
    "'''"
   ]
  },
  {
   "cell_type": "code",
   "execution_count": 29,
   "id": "ffde54d8-d9b0-474c-876a-8fc719fdd8e2",
   "metadata": {},
   "outputs": [],
   "source": [
    "# 1. Check if the string starts with a particular letter. Using lambda function\n",
    "\n",
    "check_startswith = lambda letter, string: letter.startswith(string)"
   ]
  },
  {
   "cell_type": "code",
   "execution_count": 30,
   "id": "5acbf40a-26d8-427b-b83d-c6d259048a16",
   "metadata": {},
   "outputs": [
    {
     "data": {
      "text/plain": [
       "True"
      ]
     },
     "execution_count": 30,
     "metadata": {},
     "output_type": "execute_result"
    }
   ],
   "source": [
    "check_startswith(\"Hello world\", \"H\")"
   ]
  },
  {
   "cell_type": "code",
   "execution_count": 31,
   "id": "dd0568c4-6590-4c30-8f6a-fe3c9c3e30a8",
   "metadata": {},
   "outputs": [
    {
     "data": {
      "text/plain": [
       "False"
      ]
     },
     "execution_count": 31,
     "metadata": {},
     "output_type": "execute_result"
    }
   ],
   "source": [
    "check_startswith(\"Nihal\",\"n\")"
   ]
  },
  {
   "cell_type": "code",
   "execution_count": 32,
   "id": "20ecf67c-f496-428f-bfef-434982833961",
   "metadata": {},
   "outputs": [
    {
     "data": {
      "text/plain": [
       "False"
      ]
     },
     "execution_count": 32,
     "metadata": {},
     "output_type": "execute_result"
    }
   ],
   "source": [
    "check_startswith(\"Sunny\", \"u\")"
   ]
  },
  {
   "cell_type": "code",
   "execution_count": 36,
   "id": "72618876-8e1e-4129-9d29-5b6ea86791ed",
   "metadata": {},
   "outputs": [],
   "source": [
    "# 2. Check if the string is numeric. Using lambda function.\n",
    "\n",
    "check_numeric = lambda string: string.isnumeric()"
   ]
  },
  {
   "cell_type": "code",
   "execution_count": 37,
   "id": "9f45c11f-5b4c-4db7-991e-0840eb5fe645",
   "metadata": {},
   "outputs": [
    {
     "data": {
      "text/plain": [
       "True"
      ]
     },
     "execution_count": 37,
     "metadata": {},
     "output_type": "execute_result"
    }
   ],
   "source": [
    "check_numeric(\"122323434\")"
   ]
  },
  {
   "cell_type": "code",
   "execution_count": 38,
   "id": "350fb6de-cec8-4c8f-8415-36509b7f9d30",
   "metadata": {},
   "outputs": [
    {
     "data": {
      "text/plain": [
       "False"
      ]
     },
     "execution_count": 38,
     "metadata": {},
     "output_type": "execute_result"
    }
   ],
   "source": [
    "check_numeric(\"12323a\")"
   ]
  },
  {
   "cell_type": "code",
   "execution_count": null,
   "id": "8da8f5b2-784c-4fa0-9603-858a601078ec",
   "metadata": {},
   "outputs": [],
   "source": [
    "# 3. Sort a list of tuples having fruit names and their quantity. [(\"mango\",99),(\"orange\",80), (\"grapes\", 1000)].\n",
    "# Using sorted function."
   ]
  },
  {
   "cell_type": "code",
   "execution_count": 42,
   "id": "329d69b9-9b94-4c63-94c0-08424dfbdf99",
   "metadata": {},
   "outputs": [
    {
     "name": "stdout",
     "output_type": "stream",
     "text": [
      "[('orange', 80), ('mango', 99), ('grapes', 1000)]\n",
      "-----\n"
     ]
    },
    {
     "data": {
      "text/plain": [
       "' In the above example, the sorted() function takes two arguments: the list of tuples to be sorted and a key function \\nthat specifies how to sort the list. In this case, we are using a lambda function to sort the list based on the \\nsecond element of each tuple (i.e., the quantity). The resulting sorted list is assigned to sorted_fruits and printed. '"
      ]
     },
     "execution_count": 42,
     "metadata": {},
     "output_type": "execute_result"
    }
   ],
   "source": [
    "fruits = [(\"mango\",99),(\"orange\",80), (\"grapes\", 1000)]\n",
    "sorted_fruits = sorted(fruits, key = lambda x: x[1]) \n",
    "print(sorted_fruits)\n",
    "print(\"-----\")\n",
    "\n",
    "''' In the above example, the sorted() function takes two arguments: the list of tuples to be sorted and a key function \n",
    "that specifies how to sort the list. In this case, we are using a lambda function to sort the list based on the \n",
    "second element of each tuple (i.e., the quantity). The resulting sorted list is assigned to sorted_fruits and printed. '''\n",
    "\n",
    "\n",
    "\n",
    "\n"
   ]
  },
  {
   "cell_type": "code",
   "execution_count": 44,
   "id": "c313de32-dddc-4cd3-b78d-3a3dee1f9a02",
   "metadata": {},
   "outputs": [],
   "source": [
    "# 4. Find the squares of numbers from 1 to 10. Using map function and lambda function.\n"
   ]
  },
  {
   "cell_type": "code",
   "execution_count": 56,
   "id": "828aeec5-0181-417a-aa0d-8c9a30b952f1",
   "metadata": {},
   "outputs": [
    {
     "data": {
      "text/plain": [
       "[1, 4, 9, 16, 25, 36, 49, 64, 81, 100]"
      ]
     },
     "execution_count": 56,
     "metadata": {},
     "output_type": "execute_result"
    }
   ],
   "source": [
    "\n",
    "list(map(lambda x: x**2, range(1,11)))"
   ]
  },
  {
   "cell_type": "code",
   "execution_count": 57,
   "id": "162bfaec-ef06-4ea7-942c-d15fc6af057c",
   "metadata": {},
   "outputs": [
    {
     "name": "stdout",
     "output_type": "stream",
     "text": [
      "[1, 4, 9, 16, 25, 36, 49, 64, 81, 100]\n"
     ]
    }
   ],
   "source": [
    "# 4. Find the squares of numbers from 1 to 10. Using list comprehension.\n",
    "\n",
    "squares = [x**2 for x in range(1,11)]\n",
    "print(squares)\n"
   ]
  },
  {
   "cell_type": "code",
   "execution_count": 58,
   "id": "3b9f37cf-2288-4b04-88ba-a2b67e77ec13",
   "metadata": {},
   "outputs": [],
   "source": [
    "# 5.Find the cube root of numbers from 1 to 10. Using a map function and a lambda function"
   ]
  },
  {
   "cell_type": "code",
   "execution_count": 59,
   "id": "504c717c-034e-4bab-a2ab-a0c60c51c08b",
   "metadata": {},
   "outputs": [
    {
     "name": "stdout",
     "output_type": "stream",
     "text": [
      "[1.0, 1.2599210498948732, 1.4422495703074083, 1.5874010519681994, 1.7099759466766968, 1.8171205928321397, 1.912931182772389, 2.0, 2.080083823051904, 2.154434690031884]\n"
     ]
    }
   ],
   "source": [
    "import math\n",
    "cube_root = list(map(lambda x: math.pow(x,1/3), range(1,11)))\n",
    "print(cube_root)\n"
   ]
  },
  {
   "cell_type": "code",
   "execution_count": 60,
   "id": "5acf41c3-7c1a-434f-b56c-941c517b3b55",
   "metadata": {},
   "outputs": [],
   "source": [
    "# 6. Check if a given number is even. Using a lambda function and the modulo operator:\n",
    "\n"
   ]
  },
  {
   "cell_type": "code",
   "execution_count": 64,
   "id": "47c28b0c-6f4e-4f8a-b3f3-5b2a51550905",
   "metadata": {},
   "outputs": [
    {
     "name": "stdout",
     "output_type": "stream",
     "text": [
      "True\n",
      "False\n",
      "True\n"
     ]
    }
   ],
   "source": [
    "is_even = lambda x: x%2==0\n",
    "\n",
    "# Example usage\n",
    "print(is_even(4))\n",
    "print(is_even(9))\n",
    "print(is_even(0))"
   ]
  },
  {
   "cell_type": "code",
   "execution_count": 65,
   "id": "5aa23f6c-c6c6-427e-81c7-e850b0fff096",
   "metadata": {},
   "outputs": [],
   "source": [
    "# 6. Check if a given number is even. Using filter and lambda function.\n"
   ]
  },
  {
   "cell_type": "code",
   "execution_count": 68,
   "id": "7c14562a-157c-45e5-ba0b-88d73ecb2c75",
   "metadata": {},
   "outputs": [
    {
     "data": {
      "text/plain": [
       "[2,\n",
       " 4,\n",
       " 6,\n",
       " 8,\n",
       " 10,\n",
       " 12,\n",
       " 14,\n",
       " 16,\n",
       " 18,\n",
       " 20,\n",
       " 22,\n",
       " 24,\n",
       " 26,\n",
       " 28,\n",
       " 30,\n",
       " 32,\n",
       " 34,\n",
       " 36,\n",
       " 38,\n",
       " 40,\n",
       " 42,\n",
       " 44,\n",
       " 46,\n",
       " 48,\n",
       " 50]"
      ]
     },
     "execution_count": 68,
     "metadata": {},
     "output_type": "execute_result"
    }
   ],
   "source": [
    "list(filter(lambda x: x%2==0, range(1,51)))"
   ]
  },
  {
   "cell_type": "code",
   "execution_count": 70,
   "id": "28ab78e0-8a51-44db-9181-c380ac4a3ae5",
   "metadata": {},
   "outputs": [
    {
     "data": {
      "text/plain": [
       "[1, 2, 3, 4, 5, 6, 7, 8, 9, 10]"
      ]
     },
     "execution_count": 70,
     "metadata": {},
     "output_type": "execute_result"
    }
   ],
   "source": [
    "# 7. Filter odd numbers from the given list. Using filter and lambda func.\n",
    "[1,2,3,4,5,6,7,8,9,10]"
   ]
  },
  {
   "cell_type": "code",
   "execution_count": 73,
   "id": "ec8191b1-dd6d-4ab3-bfea-797bbe2a07cc",
   "metadata": {},
   "outputs": [
    {
     "data": {
      "text/plain": [
       "[1, 3, 5, 7, 9]"
      ]
     },
     "execution_count": 73,
     "metadata": {},
     "output_type": "execute_result"
    }
   ],
   "source": [
    "l = [1,2,3,4,5,6,7,8,9,10]\n",
    "list(filter(lambda x: x%2 !=0, l))"
   ]
  },
  {
   "cell_type": "code",
   "execution_count": 74,
   "id": "d37af7a5-c081-4e33-9727-bb38d73fc93a",
   "metadata": {},
   "outputs": [
    {
     "data": {
      "text/plain": [
       "[1, 2, 3, 4, 5, 6, -1, -2, -3, -4, -5, 0]"
      ]
     },
     "execution_count": 74,
     "metadata": {},
     "output_type": "execute_result"
    }
   ],
   "source": [
    "# 8. Sort a list of integers into positive and negative integers lists. Using list comprehensions\n",
    "[1,2,3,4,5,6,-1,-2,-3,-4,-5,0]"
   ]
  },
  {
   "cell_type": "code",
   "execution_count": null,
   "id": "94af8b3c-6883-4e2f-a145-7ced82e413aa",
   "metadata": {},
   "outputs": [],
   "source": [
    "nums = [1,2,3,4,5,6,-1,-2,-3,-4,-5,0]\n",
    "\n",
    "positive_nums = [num for num in nums if num>0]\n",
    "\n"
   ]
  }
 ],
 "metadata": {
  "kernelspec": {
   "display_name": "Python 3 (ipykernel)",
   "language": "python",
   "name": "python3"
  },
  "language_info": {
   "codemirror_mode": {
    "name": "ipython",
    "version": 3
   },
   "file_extension": ".py",
   "mimetype": "text/x-python",
   "name": "python",
   "nbconvert_exporter": "python",
   "pygments_lexer": "ipython3",
   "version": "3.10.8"
  }
 },
 "nbformat": 4,
 "nbformat_minor": 5
}
