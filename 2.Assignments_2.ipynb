{
 "cells": [
  {
   "cell_type": "raw",
   "id": "b412ecbf-64b7-4275-8397-05bc7d3f06c4",
   "metadata": {},
   "source": [
    "1.What are the two values of the Boolean data type? How do you write them?\n",
    "\n",
    "Sol:- The 2 values of the boolean data type are true and false. True and False(you write them like this), using \n",
    "capital T and F,with the rest of the word in lowercase.\n",
    "\n",
    "2. What are the three different types of Boolean operators?\n",
    "\n",
    "Sol:- There are three logical operators that are used to compare values. They evaluate expressions down to \n",
    "Boolean values, returning either True or False . These operators are and , or , and not.\n",
    "\n",
    "3. Make a list of each Boolean operator's truth tables (i.e. every possible combination of Boolean\n",
    "values for the operator and what it evaluate).\n",
    "\n",
    "Sol:- Here are the truth tables for each of the three basic Boolean operators:\n",
    "\n",
    "NOT (Negation) operator:\n",
    "Input\tOutput\n",
    "False\tTrue\n",
    "True\tFalse\n",
    "\n",
    "AND (Conjunction) operator:\n",
    "Input 1\tInput 2\tOutput\n",
    "False\tFalse\tFalse\n",
    "False\tTrue\tFalse\n",
    "True\tFalse\tFalse\n",
    "True\tTrue\tTrue\n",
    "\n",
    "OR (Disjunction) operator:\n",
    "Input 1\tInput 2\tOutput\n",
    "False\tFalse\tFalse\n",
    "False\tTrue\tTrue\n",
    "True\tFalse\tTrue\n",
    "True\tTrue\tTrue\n",
    "\n",
    "4. What are the values of the following expressions?\n",
    "\n",
    "Sol: (5 > 4) and (3 == 5) -- False\n",
    "     not (5 > 4) -- False\n",
    "     (5 > 4) or (3 == 5) -- True\n",
    "     not ((5 > 4) or (3 == 5)) -- False\n",
    "     (True and True) and (True == False) -- False\n",
    "     (not False) or (not True) -- True\n",
    "\n",
    "\n",
    "\n",
    "5. What are the six comparison operators?\n",
    "\n",
    "Sol:- The six comparison operators in programming are:\n",
    "\n",
    "== (equal to)\n",
    "!= (not equal to)\n",
    "> (greater than)\n",
    "< (less than)\n",
    ">= (greater than or equal to)\n",
    "<= (less than or equal to)\n",
    "\n",
    "\n",
    "\n",
    "6. How do you tell the difference between the equal to and assignment operators? Describe a\n",
    "condition and when you would use one.\n",
    "\n",
    "Sol:- The difference between the equal to (comparison) operator == and the assignment operator = is that the == operator compares two values to see if they are equal, while the = operator assigns a value to a variable.\n",
    "For example, \n",
    "you would use the == operator in a condition to check if two values are equal and execute a certain block of code based on that:\n",
    "\n",
    "x=10\n",
    "y=10\n",
    "if x == y:\n",
    "     print(\"Thevalue of x and y is same\")\n",
    "else:\n",
    "     print(\"x and y aren't same\")\n",
    "\n",
    "You would use the = operator to assign a value to a variable:\n",
    "x = 5\n",
    "In the above example, x is assigned the value 5.\n",
    "\n",
    "7. Identify the three blocks in this code:\n",
    "spam = 0\n",
    "\n",
    "if spam == 10:\n",
    "\n",
    "print('eggs')\n",
    "\n",
    "if spam > 5:\n",
    "\n",
    "print('bacon')\n",
    "\n",
    "else:\n",
    "\n",
    "print('ham')\n",
    "\n",
    "print('spam')\n",
    "\n",
    "print('spam')\n",
    "\n",
    "Sol:- The three blocks in the code are:\n",
    "\n",
    "The first block is the assignment of 0 to the variable spam:\n",
    "spam = 0\n",
    "if spam == 10:\n",
    "  print('eggs')\n",
    "  \n",
    "  The second block is an if-else statement that checks if spam is greater than 5:\n",
    "if spam > 5:\n",
    "  print('bacon')\n",
    "else:\n",
    "  print('ham')\n",
    "  \n",
    "There is the third block that simply print the string 'spam' twice:\n",
    "print('spam')\n",
    "print('spam')\n",
    "\n",
    "8. Write code that prints Hello if 1 is stored in spam, prints Howdy if 2 is stored in spam, and prints\n",
    "Greetings! if anything else is stored in spam.\n",
    "\n",
    "Sol:- It is solved below in the code form.\n",
    "\n",
    "9.If your programme is stuck in an endless loop, what keys you’ll press?\n",
    "\n",
    "Sol:- If your program is stuck in an endless loop, you can stop it by using the \"keyboard interrupt\" shortcut.\n",
    "As,Iam using Macbook, I will press Ctrl + C to stop the program.\n",
    "\n",
    "10. How can you tell the difference between break and continue?\n",
    "\n",
    "Sol:- break and continue are both control flow statements used in loops, but they have different purposes:\n",
    "\n",
    "break is used to exit a loop prematurely, before all iterations have been completed. When a break statement is \n",
    "encountered inside a loop, the loop is immediately terminated and the program continues with the next statement\n",
    "after the loop.\n",
    "\n",
    "continue is used to skip the current iteration of a loop and move on to the next iteration. When a continue statement \n",
    "is encountered inside a loop, the current iteration is skipped and the program moves on to the next iteration of\n",
    "the loop.\n",
    "\n",
    "In other words, break is used to exit a loop completely, while continue is used to skip one iteration of the loop \n",
    "and continue with the next one.\n",
    "\n",
    "\n",
    "11. In a for loop, what is the difference between range(10), range(0, 10), and range(0, 10, 1)?\n",
    "\n",
    "Sol:- range(10), range(0, 10), and range(0, 10, 1) are all ways to generate a sequence of numbers to use in a for loop. \n",
    "The difference between them lies in the arguments they take:\n",
    "range(10) generates a sequence of numbers from 0 up to, but not including, 10. This is equivalent to range(0, 10).\n",
    "range(0, 10) generates a sequence of numbers from 0 up to, but not including, 10.\n",
    "range(0, 10, 1) generates a sequence of numbers from 0 up to, but not including, 10, counting by 1. \n",
    "This is equivalent to range(0, 10).\n",
    "In all cases, the for loop will iterate the specified number of times, with each iteration using the next number in the sequence generated by range().\n",
    "\n",
    "\n",
    "12. Write a short program that prints the numbers 1 to 10 using a for loop. Then write an equivalent\n",
    "program that prints the numbers 1 to 10 using a while loop.\n",
    "Sol:-  It is solved below in the code form.\n",
    "\n",
    "13. If you had a function named bacon() inside a module named spam, how would you call it after\n",
    "importing spam?\n",
    "Sol:-  It is solved below in the code form.\n",
    "\n",
    "\n",
    "\n",
    "\n"
   ]
  },
  {
   "cell_type": "code",
   "execution_count": 1,
   "id": "92167081-accf-43d2-bcc5-884074246093",
   "metadata": {},
   "outputs": [
    {
     "data": {
      "text/plain": [
       "False"
      ]
     },
     "execution_count": 1,
     "metadata": {},
     "output_type": "execute_result"
    }
   ],
   "source": [
    "#Q4) solution\n",
    "\n",
    "(5 > 4) and (3 == 5)\n"
   ]
  },
  {
   "cell_type": "code",
   "execution_count": 1,
   "id": "d347792e-9ed4-491a-8e5c-ac6d4046b4b2",
   "metadata": {},
   "outputs": [
    {
     "data": {
      "text/plain": [
       "False"
      ]
     },
     "execution_count": 1,
     "metadata": {},
     "output_type": "execute_result"
    }
   ],
   "source": [
    "not(5>4)"
   ]
  },
  {
   "cell_type": "code",
   "execution_count": 2,
   "id": "b80c4c85-1855-4302-9c97-c193f8dc9f2e",
   "metadata": {},
   "outputs": [
    {
     "data": {
      "text/plain": [
       "True"
      ]
     },
     "execution_count": 2,
     "metadata": {},
     "output_type": "execute_result"
    }
   ],
   "source": [
    "(5>4) or (3==5)"
   ]
  },
  {
   "cell_type": "code",
   "execution_count": 3,
   "id": "0fe3d4e8-6667-460d-a1bd-63e4517e4b0f",
   "metadata": {},
   "outputs": [
    {
     "data": {
      "text/plain": [
       "False"
      ]
     },
     "execution_count": 3,
     "metadata": {},
     "output_type": "execute_result"
    }
   ],
   "source": [
    "not ((5 > 4) or (3 == 5))"
   ]
  },
  {
   "cell_type": "code",
   "execution_count": 4,
   "id": "17313908-315b-43fa-8745-559edc559a63",
   "metadata": {},
   "outputs": [
    {
     "data": {
      "text/plain": [
       "False"
      ]
     },
     "execution_count": 4,
     "metadata": {},
     "output_type": "execute_result"
    }
   ],
   "source": [
    "(True and True) and (True == False)"
   ]
  },
  {
   "cell_type": "code",
   "execution_count": 5,
   "id": "c1e5c285-84f6-4a81-82a9-7413f518363f",
   "metadata": {},
   "outputs": [
    {
     "data": {
      "text/plain": [
       "True"
      ]
     },
     "execution_count": 5,
     "metadata": {},
     "output_type": "execute_result"
    }
   ],
   "source": [
    "(not False) or (not True)"
   ]
  },
  {
   "cell_type": "code",
   "execution_count": 6,
   "id": "7ed23e88-71a6-4049-a7d4-74bfe1004038",
   "metadata": {},
   "outputs": [
    {
     "name": "stdout",
     "output_type": "stream",
     "text": [
      "The value of x and y is same\n"
     ]
    }
   ],
   "source": [
    "#Q6) Solution\n",
    "\n",
    "x=10\n",
    "y=10\n",
    "\n",
    "#Seeing whether x and y are equal using the assignment operator(==)\n",
    "\n",
    "if x == y:\n",
    "    print(\"The value of x and y is same\")\n",
    "else:\n",
    "    print(\"The value of x and y aren't same\")\n"
   ]
  },
  {
   "cell_type": "code",
   "execution_count": 7,
   "id": "57e8cacd-da62-428e-8df7-b09212670bd3",
   "metadata": {},
   "outputs": [
    {
     "name": "stdout",
     "output_type": "stream",
     "text": [
      "The value of x and y aren't same\n"
     ]
    }
   ],
   "source": [
    "x=10\n",
    "y=15\n",
    "\n",
    "#Seeing whether x and y are equal using the assignment operator(==)\n",
    "\n",
    "if x == y:\n",
    "    print(\"The value of x and y is same\")\n",
    "else:\n",
    "    print(\"The value of x and y aren't same\")"
   ]
  },
  {
   "cell_type": "code",
   "execution_count": 8,
   "id": "164ba616-e9bf-4d93-bde9-4d90339d2be7",
   "metadata": {},
   "outputs": [
    {
     "data": {
      "text/plain": [
       "5"
      ]
     },
     "execution_count": 8,
     "metadata": {},
     "output_type": "execute_result"
    }
   ],
   "source": [
    "x=5 #Here, we are assigning the value 5 to the variable a.\n",
    "x"
   ]
  },
  {
   "cell_type": "code",
   "execution_count": 9,
   "id": "1b077568-eadd-4f3f-8173-e8cd5af44180",
   "metadata": {},
   "outputs": [],
   "source": [
    "#Q7) Solution- 1st block of code\n",
    "\n",
    "spam=0\n",
    "if spam == 10:\n",
    "    print(\"eggs\")"
   ]
  },
  {
   "cell_type": "code",
   "execution_count": 10,
   "id": "ca692ff7-039e-421d-a436-6e47cefbac1d",
   "metadata": {},
   "outputs": [
    {
     "name": "stdout",
     "output_type": "stream",
     "text": [
      "ham\n"
     ]
    }
   ],
   "source": [
    "# 2nd Block of code\n",
    "\n",
    "if spam>5:\n",
    "    print('bacon')\n",
    "else:\n",
    "    print('ham')"
   ]
  },
  {
   "cell_type": "code",
   "execution_count": 11,
   "id": "e8069239-470e-4c77-b59a-d1417f06f5af",
   "metadata": {},
   "outputs": [
    {
     "name": "stdout",
     "output_type": "stream",
     "text": [
      "spam\n",
      "spam\n"
     ]
    }
   ],
   "source": [
    "# 3rd Block of code\n",
    "print('spam')\n",
    "print('spam')"
   ]
  },
  {
   "cell_type": "code",
   "execution_count": 13,
   "id": "fe657238-9288-495d-b5a7-4d453261993d",
   "metadata": {},
   "outputs": [
    {
     "name": "stdin",
     "output_type": "stream",
     "text": [
      " 1\n"
     ]
    },
    {
     "name": "stdout",
     "output_type": "stream",
     "text": [
      "Hello\n"
     ]
    }
   ],
   "source": [
    "#Q8) Solution- SOlved this question in 5 different ways\n",
    "\n",
    "spam=int(input())\n",
    "if spam==1:\n",
    "    print(\"Hello\")\n",
    "elif spam==2:\n",
    "    print(\"Howdy\")\n",
    "else:\n",
    "    print(\"Greetings!\")"
   ]
  },
  {
   "cell_type": "code",
   "execution_count": 14,
   "id": "408092ff-df55-4e66-99e9-1e9c00f9b353",
   "metadata": {},
   "outputs": [
    {
     "name": "stdout",
     "output_type": "stream",
     "text": [
      "Hello\n"
     ]
    }
   ],
   "source": [
    "spam=1\n",
    "if spam==1:\n",
    "    print(\"Hello\")\n",
    "elif spam==2:\n",
    "    print(\"Howdy\")\n",
    "else:\n",
    "    print(\"Greetings!\")"
   ]
  },
  {
   "cell_type": "code",
   "execution_count": 15,
   "id": "f4958daf-c561-412e-ab2f-4d45d7bab293",
   "metadata": {},
   "outputs": [
    {
     "name": "stdout",
     "output_type": "stream",
     "text": [
      "Howdy\n"
     ]
    }
   ],
   "source": [
    "spam=2\n",
    "if spam==1:\n",
    "    print(\"Hello\")\n",
    "elif spam==2:\n",
    "    print(\"Howdy\")\n",
    "else:\n",
    "    print(\"Greetings!\")"
   ]
  },
  {
   "cell_type": "code",
   "execution_count": 16,
   "id": "f80e2de4-b115-4ecd-bbd2-eed4c4a2418b",
   "metadata": {},
   "outputs": [
    {
     "name": "stdout",
     "output_type": "stream",
     "text": [
      "Greetings!\n"
     ]
    }
   ],
   "source": [
    "spam = 6\n",
    "if spam==1:\n",
    "    print(\"Hello\")\n",
    "elif spam==2:\n",
    "    print(\"Howdy\")\n",
    "else:\n",
    "    print(\"Greetings!\")"
   ]
  },
  {
   "cell_type": "code",
   "execution_count": 17,
   "id": "05458139-58cb-4163-9f9d-fd59699d5104",
   "metadata": {},
   "outputs": [
    {
     "name": "stdout",
     "output_type": "stream",
     "text": [
      "Greetings!\n"
     ]
    }
   ],
   "source": [
    "spam = \"Nihal\"\n",
    "if spam==1:\n",
    "    print(\"Hello\")\n",
    "elif spam==2:\n",
    "    print(\"Howdy\")\n",
    "else:\n",
    "    print(\"Greetings!\")"
   ]
  },
  {
   "cell_type": "code",
   "execution_count": 18,
   "id": "64714781-b842-43a3-b326-0054d032d909",
   "metadata": {},
   "outputs": [
    {
     "name": "stdout",
     "output_type": "stream",
     "text": [
      "1\n",
      "2\n",
      "4\n",
      "5\n"
     ]
    }
   ],
   "source": [
    "#Q10) Solution - continue example case\n",
    "\n",
    "a=0\n",
    "while a<5:\n",
    "    a=a+1\n",
    "    if a==3:\n",
    "        continue\n",
    "    print(a)"
   ]
  },
  {
   "cell_type": "code",
   "execution_count": 19,
   "id": "10639efa-6cf5-4d3a-bbe8-11eea9d092e7",
   "metadata": {},
   "outputs": [
    {
     "name": "stdout",
     "output_type": "stream",
     "text": [
      "N\n",
      "i\n"
     ]
    }
   ],
   "source": [
    "# break example case\n",
    "\n",
    "s = 'Nihal'\n",
    "for i in s:\n",
    "    if i == 'h':\n",
    "        break\n",
    "    print(i)\n",
    "    \n",
    "else:\n",
    "    print(\"Don't execute it unless and untill it's not printing my name\")"
   ]
  },
  {
   "cell_type": "code",
   "execution_count": 20,
   "id": "301fd847-17d9-43ac-a75e-1cabdd776272",
   "metadata": {},
   "outputs": [
    {
     "name": "stdout",
     "output_type": "stream",
     "text": [
      "0\n",
      "1\n",
      "2\n",
      "3\n",
      "4\n",
      "5\n",
      "6\n",
      "7\n",
      "8\n",
      "9\n"
     ]
    }
   ],
   "source": [
    "#Q11) Solution\n",
    "\n",
    "for i in range(10):\n",
    "    print(i)\n"
   ]
  },
  {
   "cell_type": "code",
   "execution_count": 21,
   "id": "0206cd80-0f7f-4087-aedb-59f75853aa9d",
   "metadata": {},
   "outputs": [
    {
     "name": "stdout",
     "output_type": "stream",
     "text": [
      "0\n",
      "1\n",
      "2\n",
      "3\n",
      "4\n",
      "5\n",
      "6\n",
      "7\n",
      "8\n",
      "9\n"
     ]
    }
   ],
   "source": [
    "for i in range(0,10):\n",
    "    print(i)"
   ]
  },
  {
   "cell_type": "code",
   "execution_count": 22,
   "id": "17838422-f7c4-4397-9cc1-f647a8b87187",
   "metadata": {},
   "outputs": [
    {
     "name": "stdout",
     "output_type": "stream",
     "text": [
      "0\n",
      "1\n",
      "2\n",
      "3\n",
      "4\n",
      "5\n",
      "6\n",
      "7\n",
      "8\n",
      "9\n"
     ]
    }
   ],
   "source": [
    "for i in range(0,10,1):\n",
    "    print(i)"
   ]
  },
  {
   "cell_type": "code",
   "execution_count": 23,
   "id": "4717f076-3111-4c49-ac82-c90a0cd35156",
   "metadata": {},
   "outputs": [
    {
     "name": "stdout",
     "output_type": "stream",
     "text": [
      "0\n",
      "3\n",
      "6\n",
      "9\n"
     ]
    }
   ],
   "source": [
    "for i in range(0,10,3):\n",
    "    print(i)"
   ]
  },
  {
   "cell_type": "code",
   "execution_count": 24,
   "id": "744f15b5-bc27-4aff-b4e1-b2a8fcadbcd6",
   "metadata": {},
   "outputs": [
    {
     "name": "stdout",
     "output_type": "stream",
     "text": [
      "1\n",
      "2\n",
      "3\n",
      "4\n",
      "5\n",
      "6\n",
      "7\n",
      "8\n",
      "9\n",
      "10\n"
     ]
    }
   ],
   "source": [
    "#Q12) Solution\n",
    "\n",
    "for i in range(1,11):\n",
    "    print(i)"
   ]
  },
  {
   "cell_type": "code",
   "execution_count": 25,
   "id": "264403da-0e62-46b2-8393-dca8188193de",
   "metadata": {},
   "outputs": [
    {
     "name": "stdout",
     "output_type": "stream",
     "text": [
      "1\n",
      "2\n",
      "3\n",
      "4\n",
      "5\n",
      "6\n",
      "7\n",
      "8\n",
      "9\n",
      "10\n"
     ]
    }
   ],
   "source": [
    "a=1\n",
    "while (a <= 10):\n",
    "    print(a)\n",
    "    a+=1"
   ]
  },
  {
   "cell_type": "code",
   "execution_count": 26,
   "id": "dd8a6fe2-dc3d-4d3e-8c31-d01f98c74bea",
   "metadata": {},
   "outputs": [],
   "source": [
    "'''Q13) Solution - I am not getting how to create a module named spam, and store this bacon() func.\n",
    "in it and call the bacon() func. from that module spam. Need help in this question'''\n",
    "\n",
    "l = [1,2,3,4,'Nihal']\n",
    "\n",
    "import pandas as pd\n",
    "import numpy as np\n",
    "\n",
    "def bacon(a):\n",
    "    n=[]\n",
    "    if type(a)==list:\n",
    "        for i in a:\n",
    "            if type(i)==str:\n",
    "                n.append(i)\n",
    "                return n"
   ]
  },
  {
   "cell_type": "code",
   "execution_count": 27,
   "id": "a679bc34-70d9-41f2-872a-cdcf5f96d44b",
   "metadata": {},
   "outputs": [
    {
     "data": {
      "text/plain": [
       "['Nihal']"
      ]
     },
     "execution_count": 27,
     "metadata": {},
     "output_type": "execute_result"
    }
   ],
   "source": [
    "bacon(l)"
   ]
  },
  {
   "cell_type": "code",
   "execution_count": null,
   "id": "39254c85-dadf-4ada-9d33-5bea6b0fd2e1",
   "metadata": {},
   "outputs": [],
   "source": []
  }
 ],
 "metadata": {
  "kernelspec": {
   "display_name": "Python 3 (ipykernel)",
   "language": "python",
   "name": "python3"
  },
  "language_info": {
   "codemirror_mode": {
    "name": "ipython",
    "version": 3
   },
   "file_extension": ".py",
   "mimetype": "text/x-python",
   "name": "python",
   "nbconvert_exporter": "python",
   "pygments_lexer": "ipython3",
   "version": "3.10.6"
  }
 },
 "nbformat": 4,
 "nbformat_minor": 5
}
