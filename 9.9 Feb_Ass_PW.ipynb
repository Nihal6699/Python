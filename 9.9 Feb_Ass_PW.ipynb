{
 "cells": [
  {
   "cell_type": "code",
   "execution_count": 1,
   "id": "121914a5-8444-4f6f-86e3-1cc34279ce61",
   "metadata": {},
   "outputs": [],
   "source": [
    "# Q1, Create a vehicle class with an init method having instance variables as name_of_vehicle, max_speed\n",
    "# and average_of_vehicle."
   ]
  },
  {
   "cell_type": "code",
   "execution_count": 43,
   "id": "d30b4313-8f09-4e28-9ce1-90ac5c24da20",
   "metadata": {},
   "outputs": [],
   "source": [
    "class vehicle:\n",
    "    \n",
    "    def __init__(self,name_of_vehicle, max_speed, average_of_vehicle):\n",
    "        \n",
    "        self.name_of_vehicle = name_of_vehicle\n",
    "        self.max_speed = max_speed\n",
    "        self.average_of_vehicle = average_of_vehicle\n",
    "        \n",
    "    def return_vehicle_details(self):\n",
    "        return self.name_of_vehicle, self.max_speed, self.average_of_vehicle\n",
    "    "
   ]
  },
  {
   "cell_type": "code",
   "execution_count": 44,
   "id": "80471c00-80aa-4ad3-9001-5a5233619322",
   "metadata": {},
   "outputs": [],
   "source": [
    "obj_vehicle = vehicle('Car', 260, 100)"
   ]
  },
  {
   "cell_type": "code",
   "execution_count": 45,
   "id": "859a65d6-a676-43dc-9726-22d767045ce1",
   "metadata": {},
   "outputs": [
    {
     "data": {
      "text/plain": [
       "'Car'"
      ]
     },
     "execution_count": 45,
     "metadata": {},
     "output_type": "execute_result"
    }
   ],
   "source": [
    "obj_vehicle.name_of_vehicle"
   ]
  },
  {
   "cell_type": "code",
   "execution_count": 46,
   "id": "c81903f7-5384-4de3-8550-0dac6821abd3",
   "metadata": {},
   "outputs": [
    {
     "data": {
      "text/plain": [
       "260"
      ]
     },
     "execution_count": 46,
     "metadata": {},
     "output_type": "execute_result"
    }
   ],
   "source": [
    "obj_vehicle.max_speed"
   ]
  },
  {
   "cell_type": "code",
   "execution_count": 47,
   "id": "885235a4-1512-4c95-af1c-c602550e981d",
   "metadata": {},
   "outputs": [
    {
     "data": {
      "text/plain": [
       "100"
      ]
     },
     "execution_count": 47,
     "metadata": {},
     "output_type": "execute_result"
    }
   ],
   "source": [
    "obj_vehicle.average_of_vehicle"
   ]
  },
  {
   "cell_type": "code",
   "execution_count": 48,
   "id": "8ff22810-8d2b-4f14-8eed-27a150ae8bc5",
   "metadata": {},
   "outputs": [
    {
     "data": {
      "text/plain": [
       "('Car', 260, 100)"
      ]
     },
     "execution_count": 48,
     "metadata": {},
     "output_type": "execute_result"
    }
   ],
   "source": [
    "obj_vehicle.return_vehicle_details()"
   ]
  },
  {
   "cell_type": "code",
   "execution_count": null,
   "id": "828df1cf-6566-44d2-980d-af7f933851f6",
   "metadata": {},
   "outputs": [],
   "source": [
    "#Q2. Create a child class car from the vehicle class created in Que 1, which will inherit the vehicle class.\n",
    "#Create a method named seating_capacity which takes capacity as an argument and returns the name of\n",
    "#the vehicle and its seating capacity."
   ]
  },
  {
   "cell_type": "code",
   "execution_count": 49,
   "id": "2c143370-8582-4e18-9257-a5964272daf2",
   "metadata": {},
   "outputs": [],
   "source": [
    "class car(vehicle):\n",
    "    \n",
    "    def seating_capacity(self,capacity):\n",
    "        self.capacity = capacity\n",
    "        print(f\"The seating capacity of SKODA Superb is {self.capacity} seats\")\n",
    "        \n",
    "        \n",
    "        \n",
    "    "
   ]
  },
  {
   "cell_type": "code",
   "execution_count": 50,
   "id": "37190055-86bb-420b-9005-0a3348afca99",
   "metadata": {},
   "outputs": [],
   "source": [
    "obj_car = car('Skoda', 260, 100)"
   ]
  },
  {
   "cell_type": "code",
   "execution_count": 51,
   "id": "8c10ea22-4893-4407-ab48-2317d2a67f5f",
   "metadata": {},
   "outputs": [
    {
     "data": {
      "text/plain": [
       "'Skoda'"
      ]
     },
     "execution_count": 51,
     "metadata": {},
     "output_type": "execute_result"
    }
   ],
   "source": [
    "obj_car.name_of_vehicle"
   ]
  },
  {
   "cell_type": "code",
   "execution_count": 52,
   "id": "e7a74cf6-a6ac-4638-9dd8-6c3c48c553a4",
   "metadata": {},
   "outputs": [
    {
     "name": "stdout",
     "output_type": "stream",
     "text": [
      "The seating capacity of SKODA Superb is 5 seats\n"
     ]
    }
   ],
   "source": [
    "obj_car.seating_capacity(5)"
   ]
  },
  {
   "cell_type": "code",
   "execution_count": 54,
   "id": "e05e6c75-891f-4102-8c03-ba6061164138",
   "metadata": {},
   "outputs": [
    {
     "data": {
      "text/plain": [
       "' We access the instance method of vehicle class here, when we create object of car class, as we inherited its class \\nwithin car class(child class of vehicle class), so that , we can get the name of car, and we create an instance method \\nseating_capacity(self, capacity) in class car toget the seating capacity of the car Skoda. '"
      ]
     },
     "execution_count": 54,
     "metadata": {},
     "output_type": "execute_result"
    }
   ],
   "source": [
    "''' We access the instance method of vehicle class here, when we create object of car class, as we inherited its class \n",
    "within car class(child class of vehicle class), so that , we can get the name of car, and we create an instance method \n",
    "seating_capacity(self, capacity) in class car toget the seating capacity of the car Skoda. '''"
   ]
  },
  {
   "cell_type": "code",
   "execution_count": 94,
   "id": "50139cfa-4418-4f80-b894-77e7dd728c31",
   "metadata": {},
   "outputs": [],
   "source": [
    "# Q3. What is multiple inheritance? Write a python code to demonstrate multiple inheritance."
   ]
  },
  {
   "cell_type": "code",
   "execution_count": 95,
   "id": "d81029ca-26e0-4427-9fc6-edb9b5a0275d",
   "metadata": {},
   "outputs": [
    {
     "data": {
      "text/plain": [
       "' Sol:- Multiple inheritance is a feature of object-oriented programming where a class can inherit properties and methods from multiple parent classes. In other words, a child class can inherit from more than one parent class, which allows for greater flexibility in designing\\nand reusing code. '"
      ]
     },
     "execution_count": 95,
     "metadata": {},
     "output_type": "execute_result"
    }
   ],
   "source": [
    "''' Sol:- Multiple inheritance is a feature of object-oriented programming where a class can inherit properties and methods from multiple parent classes. In other words, a child class can inherit from more than one parent class, which allows for greater flexibility in designing\n",
    "and reusing code. '''"
   ]
  },
  {
   "cell_type": "code",
   "execution_count": 99,
   "id": "87514c0d-aaec-461c-ad60-fed04165fb4b",
   "metadata": {},
   "outputs": [],
   "source": [
    "# example\n",
    "class Animal:\n",
    "    def __init__(self, name):\n",
    "        self.name = name\n",
    "        \n",
    "    def eat(self):\n",
    "        print(f\"{self.name} is eating\")\n",
    "        \n",
    "class Pet:\n",
    "    def play(self):\n",
    "        print(f\"{self.name} is playing\")\n",
    "        \n",
    "class Dog:\n",
    "    def __init__(self,name):\n",
    "        Animal.__init__(self,name)\n",
    "        Pet.__init__(self)\n",
    "        \n",
    "    "
   ]
  },
  {
   "cell_type": "code",
   "execution_count": 113,
   "id": "8431fc12-bb03-4ffc-b0f8-b359afd42022",
   "metadata": {},
   "outputs": [],
   "source": [
    "dog = Dog('Snoopy')"
   ]
  },
  {
   "cell_type": "code",
   "execution_count": 115,
   "id": "f8bfdd47-4209-4b7d-bac3-3dc77e55c185",
   "metadata": {},
   "outputs": [
    {
     "name": "stdout",
     "output_type": "stream",
     "text": [
      "Snoopy is eating.\n"
     ]
    }
   ],
   "source": [
    "dog.eat()"
   ]
  },
  {
   "cell_type": "code",
   "execution_count": 116,
   "id": "30efc523-999c-4847-a2fa-8f681004be54",
   "metadata": {},
   "outputs": [
    {
     "name": "stdout",
     "output_type": "stream",
     "text": [
      "Snoopy is playing.\n"
     ]
    }
   ],
   "source": [
    "dog.play()"
   ]
  },
  {
   "cell_type": "code",
   "execution_count": 118,
   "id": "effbaac9-716c-4368-93c0-7eda3d6ce451",
   "metadata": {},
   "outputs": [
    {
     "data": {
      "text/plain": [
       "' In this example, we have three classes: Animal, Pet, and Dog. The Animal class has an eat() method, while the Pet class has a play() method. The Dog class inherits from both the Animal and Pet classes using\\nmultiple inheritance.\\n\\nTo demonstrate this, we create an instance of the Dog class and pass in a name value. When we call the eat() and play() \\nmethods on the dog object, it calls the methods of the Animal and Pet classes respectively.\\n\\nHere, dog is an instance of the Dog class, which inherits from both the Animal and Pet classes. When we call the eat() method, it prints the string \"Snoopy is eating.\", and when we call the play() method, \\nit prints the string \"Snoopy is playing.\" '"
      ]
     },
     "execution_count": 118,
     "metadata": {},
     "output_type": "execute_result"
    }
   ],
   "source": [
    "''' In this example, we have three classes: Animal, Pet, and Dog. The Animal class has an eat() method, while the Pet class has a play() method. The Dog class inherits from both the Animal and Pet classes using\n",
    "multiple inheritance.\n",
    "\n",
    "To demonstrate this, we create an instance of the Dog class and pass in a name value. When we call the eat() and play() \n",
    "methods on the dog object, it calls the methods of the Animal and Pet classes respectively.\n",
    "\n",
    "Here, dog is an instance of the Dog class, which inherits from both the Animal and Pet classes. When we call the eat() method, it prints the string \"Snoopy is eating.\", and when we call the play() method, \n",
    "it prints the string \"Snoopy is playing.\" '''"
   ]
  },
  {
   "cell_type": "code",
   "execution_count": 1,
   "id": "63226b53-066c-40f1-a73f-cfe6b53fdc28",
   "metadata": {},
   "outputs": [],
   "source": [
    "#Q4. What are getter and setter in python? Create a class and create a getter and a setter method in this class."
   ]
  },
  {
   "cell_type": "code",
   "execution_count": 2,
   "id": "30d4d728-e096-4347-8319-6770ce455268",
   "metadata": {},
   "outputs": [
    {
     "data": {
      "text/plain": [
       "' Sol:- In Python, getters and setters are methods that are used to access and modify the values of instance variables (also called attributes) of a class. Getters and setters are used to control access to the instance variables\\nand to ensure that the values assigned to them are valid.\\n\\nA getter is a method that is used to get the value of an instance variable. It provides access to the variable without \\nallowing direct modification of its value.\\n\\nA setter is a method that is used to set the value of an instance variable. It provides a way to modify the value of the \\nvariable while ensuring that the new value is valid. '"
      ]
     },
     "execution_count": 2,
     "metadata": {},
     "output_type": "execute_result"
    }
   ],
   "source": [
    "''' Sol:- In Python, getters and setters are methods that are used to access and modify the values of instance variables (also called attributes) of a class. Getters and setters are used to control access to the instance variables\n",
    "and to ensure that the values assigned to them are valid.\n",
    "\n",
    "A getter is a method that is used to get the value of an instance variable. It provides access to the variable without \n",
    "allowing direct modification of its value.\n",
    "\n",
    "A setter is a method that is used to set the value of an instance variable. It provides a way to modify the value of the \n",
    "variable while ensuring that the new value is valid. '''\n",
    "\n"
   ]
  },
  {
   "cell_type": "code",
   "execution_count": 12,
   "id": "f17bf2c9-ed4a-41a6-a6dc-2b193d3a41e4",
   "metadata": {},
   "outputs": [],
   "source": [
    "class Person:\n",
    "    def __init__(self, name, age):\n",
    "        self.name = name\n",
    "        self.__age = age\n",
    "        \n",
    "    @property    #getter- method\n",
    "    def person_age_access(self):\n",
    "        return self.__age \n",
    "        \n",
    "    @person_age_access.setter\n",
    "    def person_age_set(self, age):\n",
    "        if age>0:\n",
    "            self.__age=age\n",
    "        else:\n",
    "            pass\n",
    "           \n",
    "        \n",
    "    "
   ]
  },
  {
   "cell_type": "code",
   "execution_count": 16,
   "id": "ab27d7b0-8945-4445-abee-3de50ce911f4",
   "metadata": {},
   "outputs": [],
   "source": [
    "ab = Person('Nihal', 19)"
   ]
  },
  {
   "cell_type": "code",
   "execution_count": 17,
   "id": "eabb1ab6-f8dd-4a3d-b919-dae0d109bf5d",
   "metadata": {},
   "outputs": [
    {
     "data": {
      "text/plain": [
       "'Nihal'"
      ]
     },
     "execution_count": 17,
     "metadata": {},
     "output_type": "execute_result"
    }
   ],
   "source": [
    "ab.name"
   ]
  },
  {
   "cell_type": "code",
   "execution_count": 18,
   "id": "81c67f00-70a0-4d47-9e8b-00ef8b6315a2",
   "metadata": {},
   "outputs": [
    {
     "data": {
      "text/plain": [
       "19"
      ]
     },
     "execution_count": 18,
     "metadata": {},
     "output_type": "execute_result"
    }
   ],
   "source": [
    "ab.person_age_access"
   ]
  },
  {
   "cell_type": "code",
   "execution_count": 19,
   "id": "6ef5ad81-4bf2-4f90-8250-805b7ba67503",
   "metadata": {},
   "outputs": [],
   "source": [
    "ab.person_age_set = 100"
   ]
  },
  {
   "cell_type": "code",
   "execution_count": 20,
   "id": "24565caa-8cb0-4588-9424-dec3a0fa7c5d",
   "metadata": {},
   "outputs": [
    {
     "data": {
      "text/plain": [
       "100"
      ]
     },
     "execution_count": 20,
     "metadata": {},
     "output_type": "execute_result"
    }
   ],
   "source": [
    "ab.person_age_set"
   ]
  },
  {
   "cell_type": "code",
   "execution_count": 21,
   "id": "fc8daa74-8cb4-4e5d-a3ed-319ed746fe81",
   "metadata": {},
   "outputs": [
    {
     "data": {
      "text/plain": [
       "100"
      ]
     },
     "execution_count": 21,
     "metadata": {},
     "output_type": "execute_result"
    }
   ],
   "source": [
    "ab.person_age_access"
   ]
  },
  {
   "cell_type": "code",
   "execution_count": 28,
   "id": "7fd6c78c-b87b-4357-871a-4b4e9044acb1",
   "metadata": {},
   "outputs": [
    {
     "data": {
      "text/plain": [
       "' In this example, we use getter and setter method to get the access of the private variable _age\\nto access the age variable, and to modify the age variable from 19 to 100.'"
      ]
     },
     "execution_count": 28,
     "metadata": {},
     "output_type": "execute_result"
    }
   ],
   "source": [
    "''' In this example, we use getter and setter method to get the access of the private variable _age\n",
    "to access the age variable, and to modify the age variable from 19 to 100.'''"
   ]
  },
  {
   "cell_type": "code",
   "execution_count": 29,
   "id": "b056f432-738a-4d49-a8bc-b3e789ef1f6e",
   "metadata": {},
   "outputs": [],
   "source": [
    "# Q5.What is method overriding in python? Write a python code to demonstrate method overriding."
   ]
  },
  {
   "cell_type": "code",
   "execution_count": 30,
   "id": "831ee75e-e515-4aa9-88cc-aec815d7bae8",
   "metadata": {},
   "outputs": [
    {
     "data": {
      "text/plain": [
       "' Sol:- Method overriding is a concept in object-oriented programming where a subclass provides its own implementation of a \\nmethod that is already defined in its superclass. The subclass\\'s implementation \"overrides\" the superclass\\'s implementation.\\n\\nHere\\'s an example code in Python that demonstrates method overriding:- '"
      ]
     },
     "execution_count": 30,
     "metadata": {},
     "output_type": "execute_result"
    }
   ],
   "source": [
    "''' Sol:- Method overriding is a concept in object-oriented programming where a subclass provides its own implementation of a \n",
    "method that is already defined in its superclass. The subclass's implementation \"overrides\" the superclass's implementation.\n",
    "\n",
    "Here's an example code in Python that demonstrates method overriding:- '''\n"
   ]
  },
  {
   "cell_type": "code",
   "execution_count": 31,
   "id": "467e8ecc-220f-4625-80bc-151c86df7567",
   "metadata": {},
   "outputs": [],
   "source": [
    "class Animal:\n",
    "    def make_sound(self):\n",
    "        print(\"The animal makes a sound\")\n",
    "        \n",
    "class Cat(Animal):\n",
    "    def make_sound(self):\n",
    "        print(\"Meow\")\n",
    "        \n",
    "class Dog(Animal):\n",
    "    def make_sound(self):\n",
    "        print(\"Bark\")\n",
    "    \n",
    "        "
   ]
  },
  {
   "cell_type": "code",
   "execution_count": 32,
   "id": "34a2c397-8f24-4b37-ba7a-82824d985baa",
   "metadata": {},
   "outputs": [],
   "source": [
    "a = Animal()"
   ]
  },
  {
   "cell_type": "code",
   "execution_count": 34,
   "id": "3513696f-86db-4d17-a119-b276c8cbb996",
   "metadata": {},
   "outputs": [
    {
     "name": "stdout",
     "output_type": "stream",
     "text": [
      "The animal makes a sound\n"
     ]
    }
   ],
   "source": [
    "a.make_sound()"
   ]
  },
  {
   "cell_type": "code",
   "execution_count": 35,
   "id": "b3dfd31e-f02c-43ce-9428-052bb1c2f1e0",
   "metadata": {},
   "outputs": [],
   "source": [
    "c = Cat()"
   ]
  },
  {
   "cell_type": "code",
   "execution_count": 36,
   "id": "48cfece5-23d5-4c54-8134-1c8fc62ad62e",
   "metadata": {},
   "outputs": [
    {
     "name": "stdout",
     "output_type": "stream",
     "text": [
      "Meow\n"
     ]
    }
   ],
   "source": [
    "c.make_sound()"
   ]
  },
  {
   "cell_type": "code",
   "execution_count": 37,
   "id": "b032dccc-d29c-454e-9562-423d60f88b20",
   "metadata": {},
   "outputs": [],
   "source": [
    "d = Dog()"
   ]
  },
  {
   "cell_type": "code",
   "execution_count": 38,
   "id": "72465f3d-4768-415b-840e-72dfa1b0bbec",
   "metadata": {},
   "outputs": [
    {
     "name": "stdout",
     "output_type": "stream",
     "text": [
      "Bark\n"
     ]
    }
   ],
   "source": [
    "d.make_sound()"
   ]
  },
  {
   "cell_type": "code",
   "execution_count": 39,
   "id": "49f484c3-a6ae-4f37-aaf3-295826262809",
   "metadata": {},
   "outputs": [
    {
     "data": {
      "text/plain": [
       "\" In this example, we have a superclass Animal with a method make_sound(). We also have two subclasses Cat and Dog that \\ninherit from Animal. Each subclass provides its own implementation of the make_sound() method, which overrides\\nthe superclass's implementation.\\n\\nWhen we create an instance of Animal and call make_sound(), the superclass's implementation is used. \\nWhen we create instances of Cat and Dog and call make_sound(), the respective subclass's implementation is used.\\nThis demonstrates the concept of method overriding in Python. \""
      ]
     },
     "execution_count": 39,
     "metadata": {},
     "output_type": "execute_result"
    }
   ],
   "source": [
    "''' In this example, we have a superclass Animal with a method make_sound(). We also have two subclasses Cat and Dog that \n",
    "inherit from Animal. Each subclass provides its own implementation of the make_sound() method, which overrides\n",
    "the superclass's implementation.\n",
    "\n",
    "When we create an instance of Animal and call make_sound(), the superclass's implementation is used. \n",
    "When we create instances of Cat and Dog and call make_sound(), the respective subclass's implementation is used.\n",
    "This demonstrates the concept of method overriding in Python. '''"
   ]
  },
  {
   "cell_type": "code",
   "execution_count": null,
   "id": "97da3c84-a9d9-456f-afb1-8f7beef9eb06",
   "metadata": {},
   "outputs": [],
   "source": []
  }
 ],
 "metadata": {
  "kernelspec": {
   "display_name": "Python 3 (ipykernel)",
   "language": "python",
   "name": "python3"
  },
  "language_info": {
   "codemirror_mode": {
    "name": "ipython",
    "version": 3
   },
   "file_extension": ".py",
   "mimetype": "text/x-python",
   "name": "python",
   "nbconvert_exporter": "python",
   "pygments_lexer": "ipython3",
   "version": "3.10.8"
  }
 },
 "nbformat": 4,
 "nbformat_minor": 5
}
