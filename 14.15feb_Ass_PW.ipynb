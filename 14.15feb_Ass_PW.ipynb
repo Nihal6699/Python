{
 "cells": [
  {
   "cell_type": "code",
   "execution_count": 1,
   "id": "f01a6eff-bc61-4f98-a44b-62383c01a9b7",
   "metadata": {},
   "outputs": [],
   "source": [
    "#Q1. What is multiprocessing in python? Why is it useful?"
   ]
  },
  {
   "cell_type": "code",
   "execution_count": 1,
   "id": "4189993e-bfb7-4f2d-b063-34ace40f850d",
   "metadata": {},
   "outputs": [
    {
     "data": {
      "text/plain": [
       "' Sol:- Multiprocessing in Python is a technique used to run multiple processes in parallel, utilizing multiple CPU \\ncores to improve performance and efficiency. In Python, multiprocessing is implemented through the multiprocessing \\nmodule, which provides a way to spawn new processes, communicate between them, and synchronize their execution.\\n\\nMultiprocessing is useful in situations where a program needs to perform CPU-intensive tasks, such as data processing\\nor complex calculations. By using multiprocessing, the program can divide these tasks into smaller subtasks and execute\\nthem in parallel on multiple CPU cores. This can lead to significant speedup and improved performance compared to \\nexecuting the tasks sequentially on a single CPU core.\\n\\nSome of the advantages of using multiprocessing in Python include:\\n\\nImproved performance: By utilizing multiple CPU cores, multiprocessing can significantly improve the performance of \\nCPU-bound tasks.\\n\\nParallel processing: Multiprocessing allows for the parallel processing of multiple tasks, enabling programs to take \\nfull advantage of available resources.\\n\\nModular design: By dividing a program into smaller processes, multiprocessing can enable a more modular and \\nmaintainable code design.\\n\\nFault tolerance: In the event of a process failure, multiprocessing can enable the program to recover and continue \\nrunning without being affected by the failed process.\\n\\nOverall, multiprocessing in Python is a powerful tool for improving program performance and efficiency, especially in \\nsituations where CPU-intensive tasks need to be executed. '"
      ]
     },
     "execution_count": 1,
     "metadata": {},
     "output_type": "execute_result"
    }
   ],
   "source": [
    "''' Sol:- Multiprocessing in Python is a technique used to run multiple processes in parallel, utilizing multiple CPU \n",
    "cores to improve performance and efficiency. In Python, multiprocessing is implemented through the multiprocessing \n",
    "module, which provides a way to spawn new processes, communicate between them, and synchronize their execution.\n",
    "\n",
    "Multiprocessing is useful in situations where a program needs to perform CPU-intensive tasks, such as data processing\n",
    "or complex calculations. By using multiprocessing, the program can divide these tasks into smaller subtasks and execute\n",
    "them in parallel on multiple CPU cores. This can lead to significant speedup and improved performance compared to \n",
    "executing the tasks sequentially on a single CPU core.\n",
    "\n",
    "Some of the advantages of using multiprocessing in Python include:\n",
    "\n",
    "Improved performance: By utilizing multiple CPU cores, multiprocessing can significantly improve the performance of \n",
    "CPU-bound tasks.\n",
    "\n",
    "Parallel processing: Multiprocessing allows for the parallel processing of multiple tasks, enabling programs to take \n",
    "full advantage of available resources.\n",
    "\n",
    "Modular design: By dividing a program into smaller processes, multiprocessing can enable a more modular and \n",
    "maintainable code design.\n",
    "\n",
    "Fault tolerance: In the event of a process failure, multiprocessing can enable the program to recover and continue \n",
    "running without being affected by the failed process.\n",
    "\n",
    "Overall, multiprocessing in Python is a powerful tool for improving program performance and efficiency, especially in \n",
    "situations where CPU-intensive tasks need to be executed. '''"
   ]
  },
  {
   "cell_type": "code",
   "execution_count": null,
   "id": "df4c86c3-6d84-4e5f-99ce-79eefd73c1eb",
   "metadata": {},
   "outputs": [],
   "source": [
    "#Q2. What are the differences between multiprocessing and multithreading?"
   ]
  },
  {
   "cell_type": "code",
   "execution_count": 2,
   "id": "319fd5b7-502b-42f2-8532-0861dddbba36",
   "metadata": {},
   "outputs": [
    {
     "data": {
      "text/plain": [
       "' Sol:- Multiprocessing and multithreading are both techniques used to achieve parallelism in computer programs, but they differ in how they create and manage separate threads or processes.\\n\\nMultiprocessing involves spawning multiple processes, each with its own memory space and resources, to execute tasks in parallel. Each process has its own interpreter, memory space, and global variables, which can reduce the risk \\nof conflicts between threads. In Python, the multiprocessing module is used to implement multiprocessing.\\n\\nOn the other hand, multithreading involves creating multiple threads within a single process, each sharing the same \\nmemory space and resources. Threads share the same interpreter and global variables, which can make them more \\nefficient for tasks that involve sharing data between threads. In Python, the threading module is used to implement \\nmultithreading.\\n\\nHere are some of the key differences between multiprocessing and multithreading:\\n\\nMemory and resources: In multiprocessing, each process has its own memory space and resources, while in multithreading,\\nall threads share the same memory space and resources.\\n\\nOverhead: Multiprocessing has a higher overhead than multithreading because each process requires its own interpreter \\nand memory space, which can slow down the program.\\n\\nCommunication: In multiprocessing, communication between processes is more complicated because processes do not share \\nmemory, and interprocess communication (IPC) mechanisms like pipes or queues must be used. In multithreading, \\ncommunication between threads is simpler because they share the same memory space and can access shared variables \\ndirectly.\\n\\nConcurrency: Multiprocessing allows for true concurrency because each process runs on a separate CPU core.\\nIn multithreading, true concurrency is limited because threads share the same CPU core and must take turns executing.\\n\\nOverall, multiprocessing is typically better suited for CPU-bound tasks that can be easily divided into smaller, \\nindependent tasks, while multithreading is better for I/O-bound tasks that require frequent communication between \\nthreads. '"
      ]
     },
     "execution_count": 2,
     "metadata": {},
     "output_type": "execute_result"
    }
   ],
   "source": [
    "''' Sol:- Multiprocessing and multithreading are both techniques used to achieve parallelism in computer programs, but they differ in how they create and manage separate threads or processes.\n",
    "\n",
    "Multiprocessing involves spawning multiple processes, each with its own memory space and resources, to execute tasks in parallel. Each process has its own interpreter, memory space, and global variables, which can reduce the risk \n",
    "of conflicts between threads. In Python, the multiprocessing module is used to implement multiprocessing.\n",
    "\n",
    "On the other hand, multithreading involves creating multiple threads within a single process, each sharing the same \n",
    "memory space and resources. Threads share the same interpreter and global variables, which can make them more \n",
    "efficient for tasks that involve sharing data between threads. In Python, the threading module is used to implement \n",
    "multithreading.\n",
    "\n",
    "Here are some of the key differences between multiprocessing and multithreading:\n",
    "\n",
    "Memory and resources: In multiprocessing, each process has its own memory space and resources, while in multithreading,\n",
    "all threads share the same memory space and resources.\n",
    "\n",
    "Overhead: Multiprocessing has a higher overhead than multithreading because each process requires its own interpreter \n",
    "and memory space, which can slow down the program.\n",
    "\n",
    "Communication: In multiprocessing, communication between processes is more complicated because processes do not share \n",
    "memory, and interprocess communication (IPC) mechanisms like pipes or queues must be used. In multithreading, \n",
    "communication between threads is simpler because they share the same memory space and can access shared variables \n",
    "directly.\n",
    "\n",
    "Concurrency: Multiprocessing allows for true concurrency because each process runs on a separate CPU core.\n",
    "In multithreading, true concurrency is limited because threads share the same CPU core and must take turns executing.\n",
    "\n",
    "Overall, multiprocessing is typically better suited for CPU-bound tasks that can be easily divided into smaller, \n",
    "independent tasks, while multithreading is better for I/O-bound tasks that require frequent communication between \n",
    "threads. '''"
   ]
  },
  {
   "cell_type": "code",
   "execution_count": null,
   "id": "ddb48184-fe69-4f58-88e1-0486f20f4cac",
   "metadata": {},
   "outputs": [],
   "source": [
    "#Q3. Write a python code to create a process using the multiprocessing module."
   ]
  },
  {
   "cell_type": "code",
   "execution_count": 4,
   "id": "21bb82d2-079b-4edb-8609-162115c2860a",
   "metadata": {},
   "outputs": [
    {
     "name": "stdout",
     "output_type": "stream",
     "text": [
      "My name is Nihal\n",
      "my brother's name is Aneesh\n"
     ]
    }
   ],
   "source": [
    "import multiprocessing\n",
    "\n",
    "def brothers():   #child program\n",
    "    print(\"my brother's name is Aneesh\")\n",
    "\n",
    "if __name__ == '__main__':\n",
    "    m = multiprocessing.Process(target=brothers)\n",
    "    print(\"My name is Nihal\")\n",
    "    m.start()\n",
    "    m.join()\n",
    "    \n",
    "    \n",
    "    \n"
   ]
  },
  {
   "cell_type": "code",
   "execution_count": null,
   "id": "9bbcab73-9f8d-4a8c-b699-931520342280",
   "metadata": {},
   "outputs": [],
   "source": [
    "# Q4. What is a multiprocessing pool in python? Why is it used?"
   ]
  },
  {
   "cell_type": "code",
   "execution_count": 5,
   "id": "d8a1e58e-259c-4b17-a7f5-41a094c74c55",
   "metadata": {},
   "outputs": [
    {
     "data": {
      "text/plain": [
       "\" Sol:- In Python's multiprocessing module, a pool is a collection of worker processes that are used to execute a set of \\ntasks in parallel. A pool can be created using the multiprocessing.Pool constructor and provides several methods to \\nsubmit tasks and retrieve their results.\\n\\nThe pool creates a specified number of worker processes and distributes the tasks across them. Each worker process can\\nexecute multiple tasks, and the results are collected by the pool and returned to the main process.\\n\\nThe main advantage of using a pool is that it simplifies the process of parallelizing tasks. Instead of manually \\ncreating and managing multiple processes, the pool takes care of that for you. The pool also handles the scheduling of \\ntasks, load balancing, and communication between processes. \""
      ]
     },
     "execution_count": 5,
     "metadata": {},
     "output_type": "execute_result"
    }
   ],
   "source": [
    "''' Sol:- In Python's multiprocessing module, a pool is a collection of worker processes that are used to execute a set of \n",
    "tasks in parallel. A pool can be created using the multiprocessing.Pool constructor and provides several methods to \n",
    "submit tasks and retrieve their results.\n",
    "\n",
    "The pool creates a specified number of worker processes and distributes the tasks across them. Each worker process can\n",
    "execute multiple tasks, and the results are collected by the pool and returned to the main process.\n",
    "\n",
    "The main advantage of using a pool is that it simplifies the process of parallelizing tasks. Instead of manually \n",
    "creating and managing multiple processes, the pool takes care of that for you. The pool also handles the scheduling of \n",
    "tasks, load balancing, and communication between processes. '''"
   ]
  },
  {
   "cell_type": "code",
   "execution_count": 9,
   "id": "260dc4ef-f567-4118-b7fd-47c799b692ab",
   "metadata": {},
   "outputs": [
    {
     "name": "stdout",
     "output_type": "stream",
     "text": [
      "[4, 9, 16, 25, 4356, 64, 49, 81]\n"
     ]
    }
   ],
   "source": [
    "#example\n",
    "\n",
    "def squares(x):\n",
    "    return x**2\n",
    "\n",
    "if __name__ == '__main__':\n",
    "    with multiprocessing.Pool(6) as pool:\n",
    "        results = pool.map(squares, [2,3,4,5,66,8,7,9])\n",
    "        print(results)\n",
    "        \n",
    "    \n",
    "\n"
   ]
  },
  {
   "cell_type": "code",
   "execution_count": null,
   "id": "5afc7541-df8e-4251-99a3-aafe38cf268a",
   "metadata": {},
   "outputs": [],
   "source": [
    "# Q5. How can we create a pool of worker processes in python using the multiprocessing module?"
   ]
  },
  {
   "cell_type": "code",
   "execution_count": 2,
   "id": "5a5be628-8c26-4737-92a7-23a75d0f7f3b",
   "metadata": {},
   "outputs": [
    {
     "data": {
      "text/plain": [
       "\" Sol:- In Python, you can use the multiprocessing module to create a pool of worker processes. This allows you to parallelize \\ntasks by distributing them among multiple processes.\\n\\nHere's an example of how to create a pool of worker processes using the multiprocessing module: \""
      ]
     },
     "execution_count": 2,
     "metadata": {},
     "output_type": "execute_result"
    }
   ],
   "source": [
    "''' Sol:- In Python, you can use the multiprocessing module to create a pool of worker processes. This allows you to parallelize \n",
    "tasks by distributing them among multiple processes.\n",
    "\n",
    "Here's an example of how to create a pool of worker processes using the multiprocessing module: '''\n",
    "\n"
   ]
  },
  {
   "cell_type": "code",
   "execution_count": 15,
   "id": "2acf1ce5-719c-422f-9ae1-393a722fdb45",
   "metadata": {},
   "outputs": [
    {
     "name": "stdout",
     "output_type": "stream",
     "text": [
      "Worker 1 executing, Worker 2 executing, \n",
      "Worker 3 executing, \n",
      "\n",
      "Worker 4 executing, \n",
      "all tasks have been finished\n"
     ]
    }
   ],
   "source": [
    "import multiprocessing\n",
    "\n",
    "def worker(num):\n",
    "    print(f\"Worker {num} executing, \")\n",
    "    \n",
    "if __name__ == '__main__':\n",
    "    with multiprocessing.Pool(4) as pool:\n",
    "        pool.map(worker, [1,2,3,4])\n",
    "        pool.join\n",
    "        pool.close()\n",
    "        \n",
    "    print(\"all tasks have been finished\")\n",
    "        \n",
    "    \n",
    "    "
   ]
  },
  {
   "cell_type": "code",
   "execution_count": 14,
   "id": "7d32e076-cdc6-4f08-a0f2-c662005b2862",
   "metadata": {},
   "outputs": [
    {
     "name": "stdout",
     "output_type": "stream",
     "text": [
      "worker 2 is executing, worker 1 is executing, worker 0 is executing, worker 3 is executing, \n",
      "\n",
      "\n",
      "\n",
      "All tasks complete\n"
     ]
    }
   ],
   "source": [
    "#another way of solving\n",
    "\n",
    "import multiprocessing\n",
    "\n",
    "def worker(num):\n",
    "    print(f\"worker {num} is executing, \")\n",
    "    \n",
    "if __name__ == \"__main__\":\n",
    "    pool = multiprocessing.Pool(4)\n",
    "    \n",
    "    for i in range(4):\n",
    "        pool.apply_async(worker, args=(i,))\n",
    "        \n",
    "    pool.close()\n",
    "    pool.join()\n",
    "    \n",
    "    print(\"All tasks complete\")\n",
    "        \n",
    "    "
   ]
  },
  {
   "cell_type": "code",
   "execution_count": 17,
   "id": "d4517261-319c-42e8-84be-9b9d7d9a0020",
   "metadata": {},
   "outputs": [
    {
     "name": "stdout",
     "output_type": "stream",
     "text": [
      "Worker 0 executing, Worker 1 executing, Worker 2 executing, \n",
      "\n",
      "Worker 3 executing, \n",
      "\n",
      "All tasks complete\n"
     ]
    }
   ],
   "source": [
    "#in-depth explanation\n",
    "\n",
    "import multiprocessing\n",
    "\n",
    "def worker(num):\n",
    "    \"\"\"Function to be executed in each worker process\"\"\"\n",
    "    print(f\"Worker {num} executing, \")\n",
    "\n",
    "if __name__ == '__main__':\n",
    "    num_processes = 4  # number of worker processes to create\n",
    "    pool = multiprocessing.Pool(num_processes)\n",
    "    # create a Pool object with the specified number of worker processes\n",
    "\n",
    "    # distribute tasks to the worker processes\n",
    "    for i in range(num_processes):\n",
    "        pool.apply_async(worker, args=(i,))\n",
    "    \n",
    "    # wait for all tasks to complete\n",
    "    pool.close()\n",
    "    pool.join()\n",
    "\n",
    "    print(\"All tasks complete\")"
   ]
  },
  {
   "cell_type": "code",
   "execution_count": 18,
   "id": "241f30db-69d8-4f99-981b-6503d655cc90",
   "metadata": {},
   "outputs": [
    {
     "data": {
      "text/plain": [
       "\" In this example, the worker function is the function that will be executed in each worker process. The num_processes\\nvariable specifies the number of worker processes to create.\\n\\nWe create a Pool object with the specified number of worker processes and then use the apply_async method to distribute tasks \\nto the worker processes. The apply_async method takes a function and its arguments as inputs and returns a AsyncResult object.\\n\\nFinally, we call the close method to prevent any more tasks from being submitted to the pool and the join method to wait for \\nall tasks to complete. The join method blocks the main process until all the tasks have completed.\\n\\nNote that the if __name__ == '__main__': block is necessary to avoid errors that can occur when using the multiprocessing \\nmodule on Windows. \""
      ]
     },
     "execution_count": 18,
     "metadata": {},
     "output_type": "execute_result"
    }
   ],
   "source": [
    "''' In this example, the worker function is the function that will be executed in each worker process. The num_processes\n",
    "variable specifies the number of worker processes to create.\n",
    "\n",
    "We create a Pool object with the specified number of worker processes and then use the apply_async method to distribute tasks \n",
    "to the worker processes. The apply_async method takes a function and its arguments as inputs and returns a AsyncResult object.\n",
    "\n",
    "Finally, we call the close method to prevent any more tasks from being submitted to the pool and the join method to wait for \n",
    "all tasks to complete. The join method blocks the main process until all the tasks have completed.\n",
    "\n",
    "Note that the if __name__ == '__main__': block is necessary to avoid errors that can occur when using the multiprocessing \n",
    "module on Windows. '''"
   ]
  },
  {
   "cell_type": "code",
   "execution_count": 19,
   "id": "01595c3d-9adc-4fdd-9658-815c73cc004d",
   "metadata": {},
   "outputs": [],
   "source": [
    "#Q6. Write a python program to create 4 processes, each process should print a different number using the\n",
    "#multiprocessing module in python."
   ]
  },
  {
   "cell_type": "code",
   "execution_count": 21,
   "id": "745a9756-1a49-4581-a080-7d21a2f1a0c6",
   "metadata": {},
   "outputs": [
    {
     "data": {
      "text/plain": [
       "\" Sol:- Here's an example Python program that creates 4 processes, each of which prints a different number using the \\nmultiprocessing module: \""
      ]
     },
     "execution_count": 21,
     "metadata": {},
     "output_type": "execute_result"
    }
   ],
   "source": [
    "''' Sol:- Here's an example Python program that creates 4 processes, each of which prints a different number using the \n",
    "multiprocessing module: '''"
   ]
  },
  {
   "cell_type": "code",
   "execution_count": 23,
   "id": "54cd10c8-6255-4372-bc78-8813a7fa112d",
   "metadata": {},
   "outputs": [
    {
     "name": "stdout",
     "output_type": "stream",
     "text": [
      "0\n",
      "1\n",
      "2\n",
      "3\n"
     ]
    }
   ],
   "source": [
    "import multiprocessing\n",
    "\n",
    "def print_num(num):\n",
    "    print(num)\n",
    "    \n",
    "if __name__ == '__main__':\n",
    "    processes = [multiprocessing.Process(target = print_num, args=(i,)) for i in range(4)]\n",
    "    \n",
    "    for process in processes:\n",
    "        process.start()\n",
    "        process.join()\n",
    "    "
   ]
  },
  {
   "cell_type": "code",
   "execution_count": 27,
   "id": "f2c4be39-1bf1-4478-8f24-86003ef30512",
   "metadata": {},
   "outputs": [
    {
     "name": "stdout",
     "output_type": "stream",
     "text": [
      "Process Process-53, 0\n",
      "Process Process-54, 1\n",
      "Process Process-55, 2\n",
      "Process Process-56, 3\n"
     ]
    }
   ],
   "source": [
    "#another in-depth explanation\n",
    "\n",
    "import multiprocessing\n",
    "\n",
    "def print_num(n):\n",
    "    print(f\"Process {multiprocessing.current_process().name}, {n}\")\n",
    "    \n",
    "if __name__ == '__main__':\n",
    "    #processes=[]\n",
    "    for i in range(4):\n",
    "        process = multiprocessing.Process(target=print_num, args=(i,))  #creates 4 process objects\n",
    "        process.start()\n",
    "        process.join()\n",
    "        \n",
    "    "
   ]
  },
  {
   "cell_type": "code",
   "execution_count": null,
   "id": "a24fd961-2ba2-4d6b-af82-a5a614d3293f",
   "metadata": {},
   "outputs": [],
   "source": [
    "In this program, we define a function print_number that takes an input num and prints it along with the name of the process that is executing it.\n",
    "We create a list called processes to store the Process objects for each process that we create.\n",
    "\n",
    "We then use a loop to create 4 Process objects, one for each number to be printed, and add each Process object to the \n",
    "processes list. We set the target parameter of the Process object to the print_number function and pass the number as an\n",
    "argument using the args parameter. Finally, we start each process using the start method.\n",
    "\n",
    "After all the processes have been started, we use another loop to call the join method on each Process object to wait for\n",
    "each process to complete."
   ]
  }
 ],
 "metadata": {
  "kernelspec": {
   "display_name": "Python 3 (ipykernel)",
   "language": "python",
   "name": "python3"
  },
  "language_info": {
   "codemirror_mode": {
    "name": "ipython",
    "version": 3
   },
   "file_extension": ".py",
   "mimetype": "text/x-python",
   "name": "python",
   "nbconvert_exporter": "python",
   "pygments_lexer": "ipython3",
   "version": "3.10.6"
  }
 },
 "nbformat": 4,
 "nbformat_minor": 5
}
