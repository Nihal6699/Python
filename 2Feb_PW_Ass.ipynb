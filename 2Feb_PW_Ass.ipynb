{
 "cells": [
  {
   "cell_type": "code",
   "execution_count": 1,
   "id": "5f2e86bc-f334-4762-8b23-6458b6e37489",
   "metadata": {},
   "outputs": [
    {
     "data": {
      "text/plain": [
       "'\\nYes, tuples are immutable in nature, meaning their elements cannot be changed after they are created.\\n\\nHere are some of the characteristics of tuples in programming:\\n\\nOrdered: The elements in a tuple have a defined order, which is determined by the order in which they are added to the\\ntuple.\\n\\nHeterogeneous: Tuples can contain elements of different data types, such as integers, strings, and other data structures.\\n\\nIndexed: Each element in a tuple can be accessed using an index, starting from 0 for the first element.\\n\\nNamed: You can also name the elements in a tuple and access them using their name.\\n\\nCompact: Tuples are typically more compact than other data structures, such as lists, because they do not require extra \\noverhead for dynamic resizing.\\n\\nEfficient: Tuples are more efficient in terms of memory usage and access time than lists, because they are stored as \\na single block of memory.\\n\\nYes,tuple is immutable because once a is created, its elements cannot be changed. This makes tuples useful for\\nrepresenting fixed sets of data that should not be altered.\\n'"
      ]
     },
     "execution_count": 1,
     "metadata": {},
     "output_type": "execute_result"
    }
   ],
   "source": [
    "#Q1) What are the characteristics of the tuples? Is tuple immutable?\n",
    "\n",
    "'''\n",
    "Sol:- Yes, tuples are immutable in nature, meaning their elements cannot be changed after they are created.\n",
    "\n",
    "Here are some of the characteristics of tuples in programming:\n",
    "\n",
    "Ordered: The elements in a tuple have a defined order, which is determined by the order in which they are added to the\n",
    "tuple.\n",
    "\n",
    "Heterogeneous: Tuples can contain elements of different data types, such as integers, strings, and other data structures.\n",
    "\n",
    "Indexed: Each element in a tuple can be accessed using an index, starting from 0 for the first element.\n",
    "\n",
    "Named: You can also name the elements in a tuple and access them using their name.\n",
    "\n",
    "Compact: Tuples are typically more compact than other data structures, such as lists, because they do not require extra \n",
    "overhead for dynamic resizing.\n",
    "\n",
    "Efficient: Tuples are more efficient in terms of memory usage and access time than lists, because they are stored as \n",
    "a single block of memory.\n",
    "\n",
    "Yes,tuple is immutable because once a is created, its elements cannot be changed. This makes tuples useful for\n",
    "representing fixed sets of data that should not be altered.\n",
    "\n",
    "'''"
   ]
  },
  {
   "cell_type": "code",
   "execution_count": 2,
   "id": "ae9e7648-a90b-45d8-b4cf-a6ec7cfc068e",
   "metadata": {},
   "outputs": [
    {
     "data": {
      "text/plain": [
       "'\\n\\nIn Python, tuples have two in-built methods:\\n\\ncount(): This method returns the number of times a specific value appears in a tuple.\\n\\nindex(): This method returns the index of the first occurrence of a specific value in a tuple.\\n\\nTuples have only two in-built methods as compared to lists because tuples are intended to be used as simple \\ndata structures that store a fixed set of values, whereas lists are meant to be more flexible data structures \\nthat can be easily modified. The limited number of methods for tuples helps to enforce this distinction and \\nmakes it easier for developers to use them correctly.\\n\\n'"
      ]
     },
     "execution_count": 2,
     "metadata": {},
     "output_type": "execute_result"
    }
   ],
   "source": [
    "#Q2) What are the two tuple methods in python? Give an example of each method. Give a reason why tuples have only two in-built methods as compared to Lists.\n",
    "\n",
    "'''\n",
    "\n",
    "Sol:- In Python, tuples have two in-built methods:\n",
    "\n",
    "count(): This method returns the number of times a specific value appears in a tuple.\n",
    "\n",
    "index(): This method returns the index of the first occurrence of a specific value in a tuple.\n",
    "\n",
    "Tuples have only two in-built methods as compared to lists because tuples are intended to be used as simple \n",
    "data structures that store a fixed set of values, whereas lists are meant to be more flexible data structures \n",
    "that can be easily modified. The limited number of methods for tuples helps to enforce this distinction and \n",
    "makes it easier for developers to use them correctly.\n",
    "\n",
    "'''"
   ]
  },
  {
   "cell_type": "code",
   "execution_count": 4,
   "id": "bf4f8f42-4054-496a-a5cf-a30fd0eb21ed",
   "metadata": {},
   "outputs": [
    {
     "data": {
      "text/plain": [
       "2"
      ]
     },
     "execution_count": 4,
     "metadata": {},
     "output_type": "execute_result"
    }
   ],
   "source": [
    "#Example of count() method of tuple\n",
    "\n",
    "t = (1, 2, 3, 1, 2, 3)\n",
    "t.count(1)\n",
    "\n",
    "\n"
   ]
  },
  {
   "cell_type": "code",
   "execution_count": 5,
   "id": "401bbb3c-f614-489f-9212-8b3a9c8676dc",
   "metadata": {},
   "outputs": [
    {
     "data": {
      "text/plain": [
       "0"
      ]
     },
     "execution_count": 5,
     "metadata": {},
     "output_type": "execute_result"
    }
   ],
   "source": [
    "t.count(4)"
   ]
  },
  {
   "cell_type": "code",
   "execution_count": 6,
   "id": "a26b8db5-22a8-4ff8-9a50-34c898ac3ffe",
   "metadata": {},
   "outputs": [
    {
     "data": {
      "text/plain": [
       "0"
      ]
     },
     "execution_count": 6,
     "metadata": {},
     "output_type": "execute_result"
    }
   ],
   "source": [
    "# Example of index() method of tuple\n",
    "t = (1, 2, 3, 1, 2, 3)\n",
    "t.index(1)"
   ]
  },
  {
   "cell_type": "code",
   "execution_count": 7,
   "id": "e65247c3-787c-44ed-94f8-7676aac73b62",
   "metadata": {},
   "outputs": [
    {
     "ename": "ValueError",
     "evalue": "tuple.index(x): x not in tuple",
     "output_type": "error",
     "traceback": [
      "\u001b[0;31m---------------------------------------------------------------------------\u001b[0m",
      "\u001b[0;31mValueError\u001b[0m                                Traceback (most recent call last)",
      "Cell \u001b[0;32mIn[7], line 1\u001b[0m\n\u001b[0;32m----> 1\u001b[0m \u001b[43mt\u001b[49m\u001b[38;5;241;43m.\u001b[39;49m\u001b[43mindex\u001b[49m\u001b[43m(\u001b[49m\u001b[38;5;241;43m4\u001b[39;49m\u001b[43m)\u001b[49m\n",
      "\u001b[0;31mValueError\u001b[0m: tuple.index(x): x not in tuple"
     ]
    }
   ],
   "source": [
    "t.index(4)"
   ]
  },
  {
   "cell_type": "code",
   "execution_count": null,
   "id": "8fe449f9-647e-4cf2-8fdb-14b618c4931a",
   "metadata": {},
   "outputs": [],
   "source": [
    "#Q3) Which collection datatypes in python do not allow duplicate items? Write a code using a set to remove duplicates\n",
    "# from the given list.\n",
    "\n",
    "# List=[1,1,1,2,1,3,1,4,2,1,2,2,2,3,2,4,3,1,3,2,3,3,3,4,4,1,4,2,4,3,4,4]\n"
   ]
  },
  {
   "cell_type": "code",
   "execution_count": 11,
   "id": "33ac3ca6-16b2-4848-b7f1-6b79a169788b",
   "metadata": {},
   "outputs": [
    {
     "data": {
      "text/plain": [
       "'\\nSol:- In Python, the following collection data types do not allow duplicate items:\\n\\nSets: Sets are collection data types in Python that store unique elements. A set is created using the set keyword or \\nusing curly braces {}.\\n\\nFrozen Sets: Frozen sets are similar to sets, but they are immutable. Once a frozen set is created, its elements cannot be changed. A frozen set is created using \\nthe frozenset keyword.\\n\\n'"
      ]
     },
     "execution_count": 11,
     "metadata": {},
     "output_type": "execute_result"
    }
   ],
   "source": [
    "'''\n",
    "Sol:- In Python, the following collection data types do not allow duplicate items:\n",
    "\n",
    "Sets: Sets are collection data types in Python that store unique elements. A set is created using the set keyword or \n",
    "using curly braces {}.\n",
    "\n",
    "Frozen Sets: Frozen sets are similar to sets, but they are immutable. Once a frozen set is created, its elements cannot be changed. A frozen set is created using \n",
    "the frozenset keyword.\n",
    "\n",
    "'''"
   ]
  },
  {
   "cell_type": "code",
   "execution_count": 13,
   "id": "bf57bec9-e931-4070-9fd6-d5667c23a98f",
   "metadata": {},
   "outputs": [
    {
     "name": "stdout",
     "output_type": "stream",
     "text": [
      "{1, 2, 3, 4, 5}\n"
     ]
    }
   ],
   "source": [
    "#Example of sets datatype to show it does not allow duplicate items\n",
    "s = set([1, 2, 3, 4, 5, 5, 5])\n",
    "print(s)\n"
   ]
  },
  {
   "cell_type": "code",
   "execution_count": 8,
   "id": "e0763dda-ce8d-43e0-8790-7b6912419a46",
   "metadata": {},
   "outputs": [
    {
     "data": {
      "text/plain": [
       "'\\nSol:- The union() and update() methods are used for merging two or more sets in Python. However, there are some differences\\nbetween these methods:\\n\\nunion(): The union() method returns a set that contains all the elements from both sets, but it does not modify the original\\nsets. The union of two sets can be represented by the | operator.\\n\\nupdate(): The update() method adds all the elements from one set to another set, and it modifies the original set in place.\\nThe union of two sets can also be represented by the |= operator.\\n\\n'"
      ]
     },
     "execution_count": 8,
     "metadata": {},
     "output_type": "execute_result"
    }
   ],
   "source": [
    "#Q4) Explain the difference between the union() and update() methods for a set. Give an example of each method\n",
    "\n",
    "'''\n",
    "Sol:- The union() and update() methods are used for merging two or more sets in Python. However, there are some differences\n",
    "between these methods:\n",
    "\n",
    "union(): The union() method returns a set that contains all the elements from both sets, but it does not modify the original\n",
    "sets. The union of two sets can be represented by the | operator.\n",
    "\n",
    "update(): The update() method adds all the elements from one set to another set, and it modifies the original set in place.\n",
    "The union of two sets can also be represented by the |= operator.\n",
    "\n",
    "'''\n"
   ]
  },
  {
   "cell_type": "code",
   "execution_count": 9,
   "id": "80813e05-bb73-4f4d-ae63-5496ef46c33a",
   "metadata": {},
   "outputs": [
    {
     "name": "stdout",
     "output_type": "stream",
     "text": [
      "{1, 2, 3, 4, 5}\n"
     ]
    }
   ],
   "source": [
    "#Example of union() method\n",
    "\n",
    "set1 = {1, 2, 3}\n",
    "set2 = {3, 4, 5}\n",
    "set3 = set1.union(set2)\n",
    "print(set3)\n",
    "\n"
   ]
  },
  {
   "cell_type": "code",
   "execution_count": 10,
   "id": "b3fd6169-16eb-4219-8234-d86082794682",
   "metadata": {},
   "outputs": [
    {
     "name": "stdout",
     "output_type": "stream",
     "text": [
      "{1, 2, 3, 4, 5}\n"
     ]
    }
   ],
   "source": [
    "#Example of update() method\n",
    "\n",
    "set1 = {1, 2, 3}\n",
    "set2 = {3, 4, 5}\n",
    "set1.update(set2)\n",
    "print(set1)\n"
   ]
  },
  {
   "cell_type": "code",
   "execution_count": 14,
   "id": "73fb55ac-6729-491d-a5d0-d926ccd9b50e",
   "metadata": {},
   "outputs": [
    {
     "data": {
      "text/plain": [
       "'\\nSol:- A dictionary is a collection data type in Python that stores key-value pairs, where each key is unique.\\nA dictionary is created using curly braces {} and is represented as a collection ofkeys mapped to values.\\n\\nA dictionary in Python is unordered, meaning the order of its elements is not guaranteed to be the same \\nevery time the dictionary is created or accessed. The elements of a dictionary are stored as key-value pairs,\\nand the keys can be used to look up the corresponding values. The order of the elements in a dictionary \\nis not important and may change over time as elements are added or removed from the dictionary.\\n\\n'"
      ]
     },
     "execution_count": 14,
     "metadata": {},
     "output_type": "execute_result"
    }
   ],
   "source": [
    "#Q5) What is a dictionary? Give an example. Also, state whether a dictionary is ordered or unordered\n",
    "\n",
    "'''\n",
    "Sol:- A dictionary is a collection data type in Python that stores key-value pairs, where each key is unique.\n",
    "A dictionary is created using curly braces {} and is represented as a collection ofkeys mapped to values.\n",
    "\n",
    "A dictionary in Python is unordered, meaning the order of its elements is not guaranteed to be the same \n",
    "every time the dictionary is created or accessed. The elements of a dictionary are stored as key-value pairs,\n",
    "and the keys can be used to look up the corresponding values. The order of the elements in a dictionary \n",
    "is not important and may change over time as elements are added or removed from the dictionary.\n",
    "\n",
    "'''"
   ]
  },
  {
   "cell_type": "code",
   "execution_count": 19,
   "id": "00025c3a-b355-4ab2-911a-812337c3207a",
   "metadata": {},
   "outputs": [
    {
     "name": "stdout",
     "output_type": "stream",
     "text": [
      "{'Name': 'Nihal', 'Age': 19, 'Country': 'India'}\n"
     ]
    },
    {
     "data": {
      "text/plain": [
       "\" In this example, the keys 'Name', 'Age', and 'Country' are mapped to the values 'Nihal', 19, and 'India' respectively\""
      ]
     },
     "execution_count": 19,
     "metadata": {},
     "output_type": "execute_result"
    }
   ],
   "source": [
    "#Example of dictionary datatype\n",
    "d = {'Name': 'Nihal', 'Age':19, 'Country': 'India'}\n",
    "print(d)\n",
    "\n",
    "''' In this example, the keys 'Name', 'Age', and 'Country' are mapped to the values 'Nihal', 19, and 'India' respectively'''"
   ]
  },
  {
   "cell_type": "code",
   "execution_count": 17,
   "id": "5403b92c-2385-4994-a316-d04ac77dcaa5",
   "metadata": {},
   "outputs": [
    {
     "data": {
      "text/plain": [
       "'Nihal'"
      ]
     },
     "execution_count": 17,
     "metadata": {},
     "output_type": "execute_result"
    }
   ],
   "source": [
    "d['Name']"
   ]
  },
  {
   "cell_type": "code",
   "execution_count": 18,
   "id": "24ec6056-2257-40f7-8f30-45f17a54bd20",
   "metadata": {},
   "outputs": [
    {
     "data": {
      "text/plain": [
       "'India'"
      ]
     },
     "execution_count": 18,
     "metadata": {},
     "output_type": "execute_result"
    }
   ],
   "source": [
    "d['Country']"
   ]
  },
  {
   "cell_type": "code",
   "execution_count": 34,
   "id": "a65511f5-4057-41d4-bff8-de7be84942eb",
   "metadata": {},
   "outputs": [
    {
     "data": {
      "text/plain": [
       "' Sol:- Yes, you can create a nested dictionary in Python. A nested dictionary is a dictionary that contains another \\ndictionary as an item.'"
      ]
     },
     "execution_count": 34,
     "metadata": {},
     "output_type": "execute_result"
    }
   ],
   "source": [
    "#Q6) Can we create a nested dictionary? If so, please give an example by creating a simple one-level nested dictionary.\n",
    "\n",
    "''' Sol:- Yes, you can create a nested dictionary in Python. A nested dictionary is a dictionary that contains another \n",
    "dictionary as an item.'''\n",
    "\n"
   ]
  },
  {
   "cell_type": "code",
   "execution_count": 25,
   "id": "d3b74752-9b05-4b67-b31e-d9feec42994c",
   "metadata": {},
   "outputs": [],
   "source": [
    "#Example of nested dictionary\n",
    "\n",
    "d1={'employee1': {'Name': 'Nihal', 'Age': 19, 'Country': 'USA'}, 'employee2': {'Name': 'Aneesh', 'Age': 15, 'Country': 'USA'}}\n"
   ]
  },
  {
   "cell_type": "code",
   "execution_count": 27,
   "id": "f47489ee-1425-4ef5-89a2-06b57dfce91b",
   "metadata": {},
   "outputs": [
    {
     "data": {
      "text/plain": [
       "{'Name': 'Nihal', 'Age': 19, 'Country': 'USA'}"
      ]
     },
     "execution_count": 27,
     "metadata": {},
     "output_type": "execute_result"
    }
   ],
   "source": [
    "d1['employee1']"
   ]
  },
  {
   "cell_type": "code",
   "execution_count": 28,
   "id": "d6080e97-bb9b-4672-ac92-8f2bf42218ba",
   "metadata": {},
   "outputs": [
    {
     "data": {
      "text/plain": [
       "{'Name': 'Aneesh', 'Age': 15, 'Country': 'USA'}"
      ]
     },
     "execution_count": 28,
     "metadata": {},
     "output_type": "execute_result"
    }
   ],
   "source": [
    "d1['employee2']"
   ]
  },
  {
   "cell_type": "code",
   "execution_count": 29,
   "id": "7ae806cc-d1e8-4ad4-a92e-222d10154ea5",
   "metadata": {},
   "outputs": [
    {
     "data": {
      "text/plain": [
       "'Nihal'"
      ]
     },
     "execution_count": 29,
     "metadata": {},
     "output_type": "execute_result"
    }
   ],
   "source": [
    "d1['employee1']['Name']"
   ]
  },
  {
   "cell_type": "code",
   "execution_count": 35,
   "id": "1fd523aa-807f-479c-827d-b98cf317373a",
   "metadata": {},
   "outputs": [],
   "source": [
    "#Q7) Using setdefault() method, create key named topics in the given dictionary and also add the value of the key as this \n",
    "# list ['Python', 'Machine Learning’, 'Deep Learning']\n",
    "\n",
    "#Sol:-\n",
    "\n",
    "d2={}\n",
    "d2.setdefault('topics',[]).extend(['Python','Machine Learning', 'Deep Learning'])"
   ]
  },
  {
   "cell_type": "code",
   "execution_count": 36,
   "id": "2bde03d5-fc48-45e0-ae09-4a7ebd2087c1",
   "metadata": {},
   "outputs": [
    {
     "data": {
      "text/plain": [
       "{'topics': ['Python', 'Machine Learning', 'Deep Learning']}"
      ]
     },
     "execution_count": 36,
     "metadata": {},
     "output_type": "execute_result"
    }
   ],
   "source": [
    "d2"
   ]
  },
  {
   "cell_type": "code",
   "execution_count": 33,
   "id": "2cc02a8a-3e71-45ec-b977-ab5f5e52443a",
   "metadata": {},
   "outputs": [],
   "source": [
    "\n",
    "#Q8) What are the three view objects in dictionaries? Use the three in-built methods in python to display these \n",
    "#three view objects for the given dictionary.\n",
    "\n",
    "#dict1 = {'Sport': 'Cricket' , 'Teams': ['India', 'Australia', 'England', 'South Africa', 'Sri Lanka', 'New Zealand']}\n",
    "\n",
    "''' Sol:- In Python, a dictionary has three view objects: keys, values, and items. These view objects can be used to \n",
    "display the contents of a dictionary in different ways.\n",
    "\n",
    "The keys() view object: This view object displays a dynamic view of all the keys in the dictionary. You can use the keys() \n",
    "method to display the keys of the dictionary \n",
    "\n",
    "The values() view object: This view object displays a dynamic view of all the values in the dictionary. You can use the\n",
    "values() method to display the values of the dictionary\n",
    "\n",
    "The items() view object: This view object displays a dynamic view of all the key-value pairs in the dictionary. You can\n",
    "use the items() method to display the items (key-value pairs) of the dictionary\n",
    "\n"
   ]
  },
  {
   "cell_type": "code",
   "execution_count": 38,
   "id": "57729455-0921-4b92-b1f9-916719bb71cf",
   "metadata": {},
   "outputs": [
    {
     "data": {
      "text/plain": [
       "dict_keys(['Sport', 'Teams'])"
      ]
     },
     "execution_count": 38,
     "metadata": {},
     "output_type": "execute_result"
    }
   ],
   "source": [
    "# Example of key-view objects\n",
    "\n",
    "dict1 = {'Sport': 'Cricket' , 'Teams': ['India', 'Australia', 'England', 'South Africa', 'Sri Lanka', 'New Zealand']}\n",
    "dict1.keys()\n"
   ]
  },
  {
   "cell_type": "code",
   "execution_count": 39,
   "id": "f0cd973e-ec9a-44d6-b4b9-24f1ef78c702",
   "metadata": {},
   "outputs": [
    {
     "data": {
      "text/plain": [
       "dict_values(['Cricket', ['India', 'Australia', 'England', 'South Africa', 'Sri Lanka', 'New Zealand']])"
      ]
     },
     "execution_count": 39,
     "metadata": {},
     "output_type": "execute_result"
    }
   ],
   "source": [
    "#Example of value view objects\n",
    "\n",
    "dict1 = {'Sport': 'Cricket' , 'Teams': ['India', 'Australia', 'England', 'South Africa', 'Sri Lanka', 'New Zealand']}\n",
    "dict1.values()\n"
   ]
  },
  {
   "cell_type": "code",
   "execution_count": 40,
   "id": "9f1fa15b-65ce-442c-9c05-47a10f347d2e",
   "metadata": {},
   "outputs": [
    {
     "data": {
      "text/plain": [
       "dict_items([('Sport', 'Cricket'), ('Teams', ['India', 'Australia', 'England', 'South Africa', 'Sri Lanka', 'New Zealand'])])"
      ]
     },
     "execution_count": 40,
     "metadata": {},
     "output_type": "execute_result"
    }
   ],
   "source": [
    "#Example of item view objects\n",
    "dict1 = {'Sport': 'Cricket' , 'Teams': ['India', 'Australia', 'England', 'South Africa', 'Sri Lanka', 'New Zealand']}\n",
    "dict1.items()"
   ]
  },
  {
   "cell_type": "code",
   "execution_count": 42,
   "id": "7675650a-8dee-4a9f-8fe1-65cdf613217c",
   "metadata": {},
   "outputs": [
    {
     "data": {
      "text/plain": [
       "'Cricket'"
      ]
     },
     "execution_count": 42,
     "metadata": {},
     "output_type": "execute_result"
    }
   ],
   "source": [
    "dict1['Sport']"
   ]
  },
  {
   "cell_type": "code",
   "execution_count": 43,
   "id": "2282f6ad-a961-45f6-a9ad-df0a2b3c97e9",
   "metadata": {},
   "outputs": [
    {
     "data": {
      "text/plain": [
       "['India', 'Australia', 'England', 'South Africa', 'Sri Lanka', 'New Zealand']"
      ]
     },
     "execution_count": 43,
     "metadata": {},
     "output_type": "execute_result"
    }
   ],
   "source": [
    "dict1['Teams']"
   ]
  },
  {
   "cell_type": "code",
   "execution_count": 44,
   "id": "d62c48ca-09fc-4606-96e1-65143cfcd8b8",
   "metadata": {},
   "outputs": [
    {
     "data": {
      "text/plain": [
       "'India'"
      ]
     },
     "execution_count": 44,
     "metadata": {},
     "output_type": "execute_result"
    }
   ],
   "source": [
    "dict1['Teams'][0]"
   ]
  },
  {
   "cell_type": "code",
   "execution_count": 46,
   "id": "aafbcd32-5cc7-43a6-8984-4e31a9210c5c",
   "metadata": {},
   "outputs": [
    {
     "data": {
      "text/plain": [
       "'England'"
      ]
     },
     "execution_count": 46,
     "metadata": {},
     "output_type": "execute_result"
    }
   ],
   "source": [
    "dict1['Teams'][2]"
   ]
  },
  {
   "cell_type": "code",
   "execution_count": null,
   "id": "bc3281fd-1df8-4f4b-8523-7b3de1dda688",
   "metadata": {},
   "outputs": [],
   "source": [
    "[dict1['Teams'][0] \"v"
   ]
  }
 ],
 "metadata": {
  "kernelspec": {
   "display_name": "Python 3 (ipykernel)",
   "language": "python",
   "name": "python3"
  },
  "language_info": {
   "codemirror_mode": {
    "name": "ipython",
    "version": 3
   },
   "file_extension": ".py",
   "mimetype": "text/x-python",
   "name": "python",
   "nbconvert_exporter": "python",
   "pygments_lexer": "ipython3",
   "version": "3.10.8"
  }
 },
 "nbformat": 4,
 "nbformat_minor": 5
}
