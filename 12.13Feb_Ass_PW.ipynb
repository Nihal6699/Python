{
 "cells": [
  {
   "cell_type": "code",
   "execution_count": null,
   "id": "08f58d0b-2000-47fc-af70-1b0426d4da94",
   "metadata": {},
   "outputs": [],
   "source": [
    "# Q1. Explain why we have to use the Exception class while creating a Custom Exception."
   ]
  },
  {
   "cell_type": "code",
   "execution_count": 28,
   "id": "a64c8344-aeee-4c42-8a6b-56e7fd25bce3",
   "metadata": {},
   "outputs": [
    {
     "data": {
      "text/plain": [
       "' Sol:-  When creating a custom exception in a programming language like Python, it is recommended to inherit from the \\nbuilt-in Exception class or one of its subclasses. This is because the Exception class provides a lot of useful functionality \\nand behavior that you can leverage to create your own custom exception.\\n\\nHere are some reasons why it is recommended to inherit from the Exception class when creating a custom exception:\\n\\nStandard behavior: The Exception class provides standard behavior for exceptions, such as the ability to set an error message\\nand a stack trace. By inheriting from Exception, your custom exception will have this behavior built-in, which makes it \\neasier to use and understand.\\n\\nEasy to catch: Since all exceptions in Python inherit from the Exception class, catching your custom exception will be \\nstraightforward, as it will behave like any other exception in the language.\\n\\nConsistency: Inheriting from Exception ensures that your custom exception follows the same conventions and standards as \\nother exceptions in the language. This makes your code more consistent and easier for other developers to understand and use.\\n\\nFuture compatibility: If the Exception class changes in the future, your custom exception will automatically inherit those \\nchanges as well. This makes your code more future-proof and easier to maintain.\\n\\nOverall, inheriting from the Exception class when creating a custom exception provides many benefits and is considered a \\nbest practice in most programming languages. '"
      ]
     },
     "execution_count": 28,
     "metadata": {},
     "output_type": "execute_result"
    }
   ],
   "source": [
    "''' Sol:-  When creating a custom exception in a programming language like Python, it is recommended to inherit from the \n",
    "built-in Exception class or one of its subclasses. This is because the Exception class provides a lot of useful functionality \n",
    "and behavior that you can leverage to create your own custom exception.\n",
    "\n",
    "Here are some reasons why it is recommended to inherit from the Exception class when creating a custom exception:\n",
    "\n",
    "Standard behavior: The Exception class provides standard behavior for exceptions, such as the ability to set an error message\n",
    "and a stack trace. By inheriting from Exception, your custom exception will have this behavior built-in, which makes it \n",
    "easier to use and understand.\n",
    "\n",
    "Easy to catch: Since all exceptions in Python inherit from the Exception class, catching your custom exception will be \n",
    "straightforward, as it will behave like any other exception in the language.\n",
    "\n",
    "Consistency: Inheriting from Exception ensures that your custom exception follows the same conventions and standards as \n",
    "other exceptions in the language. This makes your code more consistent and easier for other developers to understand and use.\n",
    "\n",
    "Future compatibility: If the Exception class changes in the future, your custom exception will automatically inherit those \n",
    "changes as well. This makes your code more future-proof and easier to maintain.\n",
    "\n",
    "Overall, inheriting from the Exception class when creating a custom exception provides many benefits and is considered a \n",
    "best practice in most programming languages. '''"
   ]
  },
  {
   "cell_type": "code",
   "execution_count": 29,
   "id": "75abea47-cb87-4fbc-9db9-fc9d8d303528",
   "metadata": {},
   "outputs": [],
   "source": [
    "#Q2. Write a python program to print Python Exception Hierarchy."
   ]
  },
  {
   "cell_type": "code",
   "execution_count": 2,
   "id": "e0f4fb72-288e-4a8e-908f-6b8428bb1b5a",
   "metadata": {},
   "outputs": [
    {
     "name": "stdout",
     "output_type": "stream",
     "text": [
      "Help on class Exception in module builtins:\n",
      "\n",
      "class Exception(BaseException)\n",
      " |  Common base class for all non-exit exceptions.\n",
      " |  \n",
      " |  Method resolution order:\n",
      " |      Exception\n",
      " |      BaseException\n",
      " |      object\n",
      " |  \n",
      " |  Built-in subclasses:\n",
      " |      ArithmeticError\n",
      " |      AssertionError\n",
      " |      AttributeError\n",
      " |      BufferError\n",
      " |      ... and 15 other subclasses\n",
      " |  \n",
      " |  Methods defined here:\n",
      " |  \n",
      " |  __init__(self, /, *args, **kwargs)\n",
      " |      Initialize self.  See help(type(self)) for accurate signature.\n",
      " |  \n",
      " |  ----------------------------------------------------------------------\n",
      " |  Static methods defined here:\n",
      " |  \n",
      " |  __new__(*args, **kwargs) from builtins.type\n",
      " |      Create and return a new object.  See help(type) for accurate signature.\n",
      " |  \n",
      " |  ----------------------------------------------------------------------\n",
      " |  Methods inherited from BaseException:\n",
      " |  \n",
      " |  __delattr__(self, name, /)\n",
      " |      Implement delattr(self, name).\n",
      " |  \n",
      " |  __getattribute__(self, name, /)\n",
      " |      Return getattr(self, name).\n",
      " |  \n",
      " |  __reduce__(...)\n",
      " |      Helper for pickle.\n",
      " |  \n",
      " |  __repr__(self, /)\n",
      " |      Return repr(self).\n",
      " |  \n",
      " |  __setattr__(self, name, value, /)\n",
      " |      Implement setattr(self, name, value).\n",
      " |  \n",
      " |  __setstate__(...)\n",
      " |  \n",
      " |  __str__(self, /)\n",
      " |      Return str(self).\n",
      " |  \n",
      " |  with_traceback(...)\n",
      " |      Exception.with_traceback(tb) --\n",
      " |      set self.__traceback__ to tb and return self.\n",
      " |  \n",
      " |  ----------------------------------------------------------------------\n",
      " |  Data descriptors inherited from BaseException:\n",
      " |  \n",
      " |  __cause__\n",
      " |      exception cause\n",
      " |  \n",
      " |  __context__\n",
      " |      exception context\n",
      " |  \n",
      " |  __dict__\n",
      " |  \n",
      " |  __suppress_context__\n",
      " |  \n",
      " |  __traceback__\n",
      " |  \n",
      " |  args\n",
      "\n"
     ]
    }
   ],
   "source": [
    "help(Exception)   #we get all the details of python exception hierarchy\n"
   ]
  },
  {
   "cell_type": "code",
   "execution_count": 5,
   "id": "67a91b1c-e893-41bb-af2b-0f585407d1f3",
   "metadata": {},
   "outputs": [],
   "source": [
    "# Q3. What errors are defined in the ArithmeticError class? Explain any two with an example."
   ]
  },
  {
   "cell_type": "code",
   "execution_count": 6,
   "id": "b8480a55-f4a1-40fa-9126-c23e1bf83278",
   "metadata": {},
   "outputs": [
    {
     "data": {
      "text/plain": [
       "' Sol:-The ArithmeticError class in Python is a base class for all errors that occur during arithmetic operations. It is a \\nsubclass of the Exception class and is itself the parent class of several more specific arithmetic-related exception classes. \\n\\nSome of the errors defined in the ArithmeticError class include:\\n\\nZeroDivisionError: This error is raised when attempting to divide a number by zero. For example: '"
      ]
     },
     "execution_count": 6,
     "metadata": {},
     "output_type": "execute_result"
    }
   ],
   "source": [
    "''' Sol:-The ArithmeticError class in Python is a base class for all errors that occur during arithmetic operations. It is a \n",
    "subclass of the Exception class and is itself the parent class of several more specific arithmetic-related exception classes. \n",
    "\n",
    "Some of the errors defined in the ArithmeticError class include:\n",
    "\n",
    "ZeroDivisionError: This error is raised when attempting to divide a number by zero. For example: '''"
   ]
  },
  {
   "cell_type": "code",
   "execution_count": 7,
   "id": "23be9230-c224-4147-81b3-b1fef4a24b19",
   "metadata": {},
   "outputs": [
    {
     "ename": "ZeroDivisionError",
     "evalue": "division by zero",
     "output_type": "error",
     "traceback": [
      "\u001b[0;31m---------------------------------------------------------------------------\u001b[0m",
      "\u001b[0;31mZeroDivisionError\u001b[0m                         Traceback (most recent call last)",
      "Cell \u001b[0;32mIn [7], line 3\u001b[0m\n\u001b[1;32m      1\u001b[0m x \u001b[38;5;241m=\u001b[39m \u001b[38;5;241m10\u001b[39m\n\u001b[1;32m      2\u001b[0m y \u001b[38;5;241m=\u001b[39m \u001b[38;5;241m0\u001b[39m\n\u001b[0;32m----> 3\u001b[0m z \u001b[38;5;241m=\u001b[39m \u001b[43mx\u001b[49m\u001b[38;5;241;43m/\u001b[39;49m\u001b[43my\u001b[49m\n",
      "\u001b[0;31mZeroDivisionError\u001b[0m: division by zero"
     ]
    }
   ],
   "source": [
    "x = 10\n",
    "y = 0\n",
    "z = x/y  # raises ZeroDivisionError"
   ]
  },
  {
   "cell_type": "code",
   "execution_count": 8,
   "id": "232d989e-afb5-495a-a3df-e105507aa727",
   "metadata": {},
   "outputs": [],
   "source": [
    "#OverflowError: This error is raised when an arithmetic operation exceeds the maximum size of a numeric type. For example:"
   ]
  },
  {
   "cell_type": "code",
   "execution_count": 11,
   "id": "40b75fc6-91f8-4e3d-b0fc-29405b417940",
   "metadata": {},
   "outputs": [],
   "source": [
    "x = 10 ** 1000\n",
    "y = 10 ** 1000\n",
    "z = x * y  # raises OverflowError"
   ]
  },
  {
   "cell_type": "code",
   "execution_count": 12,
   "id": "f2bfe2d5-174f-4bd3-b7c5-18007b830aa2",
   "metadata": {},
   "outputs": [],
   "source": [
    "#FloatingPointError: This error is raised when a floating-point arithmetic operation fails to produce a valid result. \n",
    "#For example:\n",
    "    "
   ]
  },
  {
   "cell_type": "code",
   "execution_count": 13,
   "id": "31b1999c-c1b0-451c-9a81-4266fbeeabe7",
   "metadata": {},
   "outputs": [
    {
     "ename": "ZeroDivisionError",
     "evalue": "float division by zero",
     "output_type": "error",
     "traceback": [
      "\u001b[0;31m---------------------------------------------------------------------------\u001b[0m",
      "\u001b[0;31mZeroDivisionError\u001b[0m                         Traceback (most recent call last)",
      "Cell \u001b[0;32mIn [13], line 3\u001b[0m\n\u001b[1;32m      1\u001b[0m x \u001b[38;5;241m=\u001b[39m \u001b[38;5;241m1.0\u001b[39m\n\u001b[1;32m      2\u001b[0m y \u001b[38;5;241m=\u001b[39m \u001b[38;5;241m0.0\u001b[39m\n\u001b[0;32m----> 3\u001b[0m z \u001b[38;5;241m=\u001b[39m \u001b[43mx\u001b[49m\u001b[43m \u001b[49m\u001b[38;5;241;43m/\u001b[39;49m\u001b[43m \u001b[49m\u001b[43my\u001b[49m\n",
      "\u001b[0;31mZeroDivisionError\u001b[0m: float division by zero"
     ]
    }
   ],
   "source": [
    "x = 1.0\n",
    "y = 0.0\n",
    "z = x / y  # raises FloatingPointError\n"
   ]
  },
  {
   "cell_type": "code",
   "execution_count": 14,
   "id": "55d22adf-31bd-4560-ad16-f77d4a813bf3",
   "metadata": {},
   "outputs": [
    {
     "data": {
      "text/plain": [
       "' UnderflowError: This error is raised when a floating-point arithmetic operation produces a result that is too small to be \\nrepresented by the floating-point type. \\nFor example: '"
      ]
     },
     "execution_count": 14,
     "metadata": {},
     "output_type": "execute_result"
    }
   ],
   "source": [
    "''' UnderflowError: This error is raised when a floating-point arithmetic operation produces a result that is too small to be \n",
    "represented by the floating-point type. \n",
    "For example: '''"
   ]
  },
  {
   "cell_type": "code",
   "execution_count": 15,
   "id": "f35bb11c-07e2-465f-956d-78bb617458f2",
   "metadata": {},
   "outputs": [
    {
     "ename": "OverflowError",
     "evalue": "math range error",
     "output_type": "error",
     "traceback": [
      "\u001b[0;31m---------------------------------------------------------------------------\u001b[0m",
      "\u001b[0;31mOverflowError\u001b[0m                             Traceback (most recent call last)",
      "Cell \u001b[0;32mIn [15], line 5\u001b[0m\n\u001b[1;32m      3\u001b[0m x \u001b[38;5;241m=\u001b[39m \u001b[38;5;241m1e-308\u001b[39m\n\u001b[1;32m      4\u001b[0m y \u001b[38;5;241m=\u001b[39m \u001b[38;5;241m1e-308\u001b[39m\n\u001b[0;32m----> 5\u001b[0m z \u001b[38;5;241m=\u001b[39m x \u001b[38;5;241m*\u001b[39m y \u001b[38;5;241m/\u001b[39m \u001b[43mmath\u001b[49m\u001b[38;5;241;43m.\u001b[39;49m\u001b[43mexp\u001b[49m\u001b[43m(\u001b[49m\u001b[38;5;241;43m1000\u001b[39;49m\u001b[43m)\u001b[49m\n",
      "\u001b[0;31mOverflowError\u001b[0m: math range error"
     ]
    }
   ],
   "source": [
    "import math\n",
    "\n",
    "x = 1e-308\n",
    "y = 1e-308\n",
    "z = x * y / math.exp(1000)  # raises UnderflowError\n"
   ]
  },
  {
   "cell_type": "code",
   "execution_count": 16,
   "id": "ab7654c4-f06e-4ea1-b183-2f0390a51683",
   "metadata": {},
   "outputs": [],
   "source": [
    "#RatioError: This error is raised when an operation involving rational numbers fails. It is a subclass of ArithmeticError. \n",
    "# For example:\n",
    "    "
   ]
  },
  {
   "cell_type": "code",
   "execution_count": 17,
   "id": "896e8560-70e8-46bb-94a8-8594a550a051",
   "metadata": {},
   "outputs": [
    {
     "ename": "ZeroDivisionError",
     "evalue": "Fraction(1, 0)",
     "output_type": "error",
     "traceback": [
      "\u001b[0;31m---------------------------------------------------------------------------\u001b[0m",
      "\u001b[0;31mZeroDivisionError\u001b[0m                         Traceback (most recent call last)",
      "Cell \u001b[0;32mIn [17], line 5\u001b[0m\n\u001b[1;32m      3\u001b[0m x \u001b[38;5;241m=\u001b[39m Fraction(\u001b[38;5;241m1\u001b[39m, \u001b[38;5;241m3\u001b[39m)\n\u001b[1;32m      4\u001b[0m y \u001b[38;5;241m=\u001b[39m Fraction(\u001b[38;5;241m0\u001b[39m, \u001b[38;5;241m1\u001b[39m)\n\u001b[0;32m----> 5\u001b[0m z \u001b[38;5;241m=\u001b[39m \u001b[43mx\u001b[49m\u001b[43m \u001b[49m\u001b[38;5;241;43m/\u001b[39;49m\u001b[43m \u001b[49m\u001b[43my\u001b[49m\n",
      "File \u001b[0;32m/opt/conda/lib/python3.10/fractions.py:358\u001b[0m, in \u001b[0;36mFraction._operator_fallbacks.<locals>.forward\u001b[0;34m(a, b)\u001b[0m\n\u001b[1;32m    356\u001b[0m \u001b[38;5;28;01mdef\u001b[39;00m \u001b[38;5;21mforward\u001b[39m(a, b):\n\u001b[1;32m    357\u001b[0m     \u001b[38;5;28;01mif\u001b[39;00m \u001b[38;5;28misinstance\u001b[39m(b, (\u001b[38;5;28mint\u001b[39m, Fraction)):\n\u001b[0;32m--> 358\u001b[0m         \u001b[38;5;28;01mreturn\u001b[39;00m \u001b[43mmonomorphic_operator\u001b[49m\u001b[43m(\u001b[49m\u001b[43ma\u001b[49m\u001b[43m,\u001b[49m\u001b[43m \u001b[49m\u001b[43mb\u001b[49m\u001b[43m)\u001b[49m\n\u001b[1;32m    359\u001b[0m     \u001b[38;5;28;01melif\u001b[39;00m \u001b[38;5;28misinstance\u001b[39m(b, \u001b[38;5;28mfloat\u001b[39m):\n\u001b[1;32m    360\u001b[0m         \u001b[38;5;28;01mreturn\u001b[39;00m fallback_operator(\u001b[38;5;28mfloat\u001b[39m(a), b)\n",
      "File \u001b[0;32m/opt/conda/lib/python3.10/fractions.py:515\u001b[0m, in \u001b[0;36mFraction._div\u001b[0;34m(a, b)\u001b[0m\n\u001b[1;32m    513\u001b[0m \u001b[38;5;28;01mif\u001b[39;00m d \u001b[38;5;241m<\u001b[39m \u001b[38;5;241m0\u001b[39m:\n\u001b[1;32m    514\u001b[0m     n, d \u001b[38;5;241m=\u001b[39m \u001b[38;5;241m-\u001b[39mn, \u001b[38;5;241m-\u001b[39md\n\u001b[0;32m--> 515\u001b[0m \u001b[38;5;28;01mreturn\u001b[39;00m \u001b[43mFraction\u001b[49m\u001b[43m(\u001b[49m\u001b[43mn\u001b[49m\u001b[43m,\u001b[49m\u001b[43m \u001b[49m\u001b[43md\u001b[49m\u001b[43m,\u001b[49m\u001b[43m \u001b[49m\u001b[43m_normalize\u001b[49m\u001b[38;5;241;43m=\u001b[39;49m\u001b[38;5;28;43;01mFalse\u001b[39;49;00m\u001b[43m)\u001b[49m\n",
      "File \u001b[0;32m/opt/conda/lib/python3.10/fractions.py:156\u001b[0m, in \u001b[0;36mFraction.__new__\u001b[0;34m(cls, numerator, denominator, _normalize)\u001b[0m\n\u001b[1;32m    152\u001b[0m     \u001b[38;5;28;01mraise\u001b[39;00m \u001b[38;5;167;01mTypeError\u001b[39;00m(\u001b[38;5;124m\"\u001b[39m\u001b[38;5;124mboth arguments should be \u001b[39m\u001b[38;5;124m\"\u001b[39m\n\u001b[1;32m    153\u001b[0m                     \u001b[38;5;124m\"\u001b[39m\u001b[38;5;124mRational instances\u001b[39m\u001b[38;5;124m\"\u001b[39m)\n\u001b[1;32m    155\u001b[0m \u001b[38;5;28;01mif\u001b[39;00m denominator \u001b[38;5;241m==\u001b[39m \u001b[38;5;241m0\u001b[39m:\n\u001b[0;32m--> 156\u001b[0m     \u001b[38;5;28;01mraise\u001b[39;00m \u001b[38;5;167;01mZeroDivisionError\u001b[39;00m(\u001b[38;5;124m'\u001b[39m\u001b[38;5;124mFraction(\u001b[39m\u001b[38;5;132;01m%s\u001b[39;00m\u001b[38;5;124m, 0)\u001b[39m\u001b[38;5;124m'\u001b[39m \u001b[38;5;241m%\u001b[39m numerator)\n\u001b[1;32m    157\u001b[0m \u001b[38;5;28;01mif\u001b[39;00m _normalize:\n\u001b[1;32m    158\u001b[0m     g \u001b[38;5;241m=\u001b[39m math\u001b[38;5;241m.\u001b[39mgcd(numerator, denominator)\n",
      "\u001b[0;31mZeroDivisionError\u001b[0m: Fraction(1, 0)"
     ]
    }
   ],
   "source": [
    "from fractions import Fraction\n",
    "\n",
    "x = Fraction(1, 3)\n",
    "y = Fraction(0, 1)\n",
    "z = x / y  # raises RatioError\n"
   ]
  },
  {
   "cell_type": "code",
   "execution_count": null,
   "id": "8cd8298e-de0c-496e-b5fe-a9eae8aba4ef",
   "metadata": {},
   "outputs": [],
   "source": [
    "# Q4. Why LookupError class is used? Explain with an example KeyError and IndexError."
   ]
  },
  {
   "cell_type": "code",
   "execution_count": 27,
   "id": "687fadc6-078d-4ba4-a31a-156e94521b20",
   "metadata": {},
   "outputs": [
    {
     "data": {
      "text/plain": [
       "' Sol:-  The LookupError class is a base class for all errors that occur when a lookup or indexing operation fails. \\nIt is a subclass of the Exception class and is itself the parent class of several more specific lookup-related exception \\nclasses. The LookupError class is used to catch any error that occurs when trying to access an index or key that does not\\nexist in a container, such as a list or dictionary.\\n\\nBy catching LookupError exceptions in your Python code, you can handle cases where a lookup or indexing operation fails\\ngracefully, without causing your program to crash. This can be particularly useful when working with data that may be missing \\nor incomplete. '"
      ]
     },
     "execution_count": 27,
     "metadata": {},
     "output_type": "execute_result"
    }
   ],
   "source": [
    "''' Sol:-  The LookupError class is a base class for all errors that occur when a lookup or indexing operation fails. \n",
    "It is a subclass of the Exception class and is itself the parent class of several more specific lookup-related exception \n",
    "classes. The LookupError class is used to catch any error that occurs when trying to access an index or key that does not\n",
    "exist in a container, such as a list or dictionary.\n",
    "\n",
    "By catching LookupError exceptions in your Python code, you can handle cases where a lookup or indexing operation fails\n",
    "gracefully, without causing your program to crash. This can be particularly useful when working with data that may be missing \n",
    "or incomplete. '''\n",
    "\n"
   ]
  },
  {
   "cell_type": "code",
   "execution_count": 23,
   "id": "f9c20016-4fb3-4152-824e-968100ad5e8e",
   "metadata": {},
   "outputs": [
    {
     "name": "stdout",
     "output_type": "stream",
     "text": [
      "I get key error: 23\n"
     ]
    }
   ],
   "source": [
    "#example of keyerror\n",
    "\n",
    "try:\n",
    "    d = {3+5j:[1,2,3,4], 'Nihal':(12,3,42)}\n",
    "    d[23]\n",
    "\n",
    "except KeyError as e:\n",
    "    print(\"I get key error:\",e)\n",
    "    "
   ]
  },
  {
   "cell_type": "code",
   "execution_count": 26,
   "id": "7f3ff619-f04f-4ab1-853c-1c39d49c5178",
   "metadata": {},
   "outputs": [
    {
     "name": "stdout",
     "output_type": "stream",
     "text": [
      "I get index error: tuple index out of range\n"
     ]
    }
   ],
   "source": [
    "#example of indexerror\n",
    "\n",
    "try:\n",
    "    Nihal = (1,2,3,'Nihal',True)\n",
    "    Nihal[7]\n",
    "    \n",
    "except IndexError as e:\n",
    "    print(\"I get index error:\", e)\n"
   ]
  },
  {
   "cell_type": "code",
   "execution_count": null,
   "id": "c74c88c6-70fa-44db-8c70-f01b73aee7fb",
   "metadata": {},
   "outputs": [],
   "source": [
    "# Q5. Explain ImportError. What is ModuleNotFoundError?"
   ]
  },
  {
   "cell_type": "code",
   "execution_count": 30,
   "id": "7b0fd62d-264f-4f49-a16c-46b123e20647",
   "metadata": {},
   "outputs": [
    {
     "data": {
      "text/plain": [
       "' Sol:-ImportError and ModuleNotFoundError are both exceptions that are raised when there is an error importing a module\\nin Python.\\n\\nImportError is a base class for all errors that occur during import operations. It is raised when Python is unable to find\\nor load a module that is being imported. There are several more specific exception classes that inherit from ImportError, \\nincluding ModuleNotFoundError, ImportWarning, and ZipImportError, among others.\\n\\nModuleNotFoundError is a more specific exception that is raised when a module cannot be found during an import operation. \\nIt was introduced in Python 3.6 as a subclass of ImportError, and is raised when Python is unable to locate the specified \\nmodule in the search path.\\n\\nFor example, if you try to import a module that does not exist, you will get a ModuleNotFoundError: '"
      ]
     },
     "execution_count": 30,
     "metadata": {},
     "output_type": "execute_result"
    }
   ],
   "source": [
    "''' Sol:-ImportError and ModuleNotFoundError are both exceptions that are raised when there is an error importing a module\n",
    "in Python.\n",
    "\n",
    "ImportError is a base class for all errors that occur during import operations. It is raised when Python is unable to find\n",
    "or load a module that is being imported. There are several more specific exception classes that inherit from ImportError, \n",
    "including ModuleNotFoundError, ImportWarning, and ZipImportError, among others.\n",
    "\n",
    "ModuleNotFoundError is a more specific exception that is raised when a module cannot be found during an import operation. \n",
    "It was introduced in Python 3.6 as a subclass of ImportError, and is raised when Python is unable to locate the specified \n",
    "module in the search path.\n",
    "\n",
    "For example, if you try to import a module that does not exist, you will get a ModuleNotFoundError: '''"
   ]
  },
  {
   "cell_type": "code",
   "execution_count": 33,
   "id": "7779a715-d1a2-4e9f-bb7b-8641214d8973",
   "metadata": {},
   "outputs": [
    {
     "name": "stdout",
     "output_type": "stream",
     "text": [
      "No module named 'Nihal'\n"
     ]
    }
   ],
   "source": [
    "try:\n",
    "    import Nihal\n",
    "except ImportError as e:\n",
    "    print(e)   #raises module-error"
   ]
  },
  {
   "cell_type": "code",
   "execution_count": 36,
   "id": "c99304c0-6932-4366-b48f-5e8c4d3e18ad",
   "metadata": {},
   "outputs": [
    {
     "data": {
      "text/plain": [
       "' On the other hand, if a module exists but there is an issue with its contents, such as a syntax error or a missing \\ndependency,you may get an ImportError.\\n\\nIn general, ModuleNotFoundError is raised when Python cannot find the module that you are trying to import, while ImportError\\nis raised when Python can find the module, but there is an error with the module itself.\\n\\nBy catching these exceptions, you can handle errors that occur during import operations in your Python code. This can\\nbe particularly useful when working with third-party libraries or external modules that may not be available on all systems. '"
      ]
     },
     "execution_count": 36,
     "metadata": {},
     "output_type": "execute_result"
    }
   ],
   "source": [
    "''' On the other hand, if a module exists but there is an issue with its contents, such as a syntax error or a missing \n",
    "dependency,you may get an ImportError.\n",
    "\n",
    "In general, ModuleNotFoundError is raised when Python cannot find the module that you are trying to import, while ImportError\n",
    "is raised when Python can find the module, but there is an error with the module itself.\n",
    "\n",
    "By catching these exceptions, you can handle errors that occur during import operations in your Python code. This can\n",
    "be particularly useful when working with third-party libraries or external modules that may not be available on all systems. '''\n",
    "\n"
   ]
  },
  {
   "cell_type": "code",
   "execution_count": null,
   "id": "857d829d-6a43-46b3-b14a-337d620ea6f9",
   "metadata": {},
   "outputs": [],
   "source": [
    "# Q6. List down some best practices for exception handling in python."
   ]
  },
  {
   "cell_type": "code",
   "execution_count": null,
   "id": "b64feeda-0605-4e89-9ef6-2a882aebbd23",
   "metadata": {},
   "outputs": [],
   "source": [
    "Sol:- Here are some best practices for exception handling in Python:\n",
    "\n",
    "Be specific: When you raise or catch exceptions, be as specific as possible. Instead of catching a generic Exception class, \n",
    "catch only the exceptions that you expect to occur in your code. This will help you avoid catching unrelated exceptions,\n",
    "which could cause unexpected behavior.\n",
    "\n",
    "Keep it simple: Keep your exception handling code as simple as possible. Don't include complex logic or business rules in \n",
    "your exception handling code. Instead, raise exceptions to indicate that an error has occurred, and handle those exceptions \n",
    "in a way that makes sense for your application.\n",
    "\n",
    "Use the with statement: When working with resources that need to be cleaned up, such as files or network connections, use the with statement to ensure that the resource is properly closed or released, even if an exception occurs. For example:"
   ]
  }
 ],
 "metadata": {
  "kernelspec": {
   "display_name": "Python 3 (ipykernel)",
   "language": "python",
   "name": "python3"
  },
  "language_info": {
   "codemirror_mode": {
    "name": "ipython",
    "version": 3
   },
   "file_extension": ".py",
   "mimetype": "text/x-python",
   "name": "python",
   "nbconvert_exporter": "python",
   "pygments_lexer": "ipython3",
   "version": "3.10.6"
  }
 },
 "nbformat": 4,
 "nbformat_minor": 5
}
