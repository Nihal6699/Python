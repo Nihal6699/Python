{
 "cells": [
  {
   "cell_type": "code",
   "execution_count": 1,
   "id": "13c61d49-b845-4f9c-8a01-0afa6d96983f",
   "metadata": {},
   "outputs": [],
   "source": [
    "# Q1. What is an Exception in python? Write the differen,between Exceptions and Syntax errors?\n"
   ]
  },
  {
   "cell_type": "code",
   "execution_count": 2,
   "id": "798e7b45-fa4c-4456-9295-6714fbe167dc",
   "metadata": {},
   "outputs": [
    {
     "data": {
      "text/plain": [
       "\" Sol:- In Python, an exception is an error that occurs during the execution of a program. When an \\nexception is encountered, the program stops running and displays an error message that provides information about \\nwhat went wrong. Exceptions can be caused by a variety of factors, such as invalid user input, missing or \\nincorrect files, or network errors.\\n\\nSyntax errors, on the other hand, are errors that occur when the Python interpreter encounters code that violates \\nthe language's syntax rules. Examples of syntax errors include missing parentheses or quotes, misspelled keywords, \\nand invalid indentation.\\n\\nThe main difference between exceptions and syntax errors is that exceptions occur during the execution of a program, \\nwhile syntax errors occur before the program is even run. Syntax errors can be caught and corrected by the programmer \\nbefore the program is executed, while exceptions are typically handled during runtime through the use of error handling \\ntechniques like try-except blocks. \""
      ]
     },
     "execution_count": 2,
     "metadata": {},
     "output_type": "execute_result"
    }
   ],
   "source": [
    "''' Sol:- In Python, an exception is an error that occurs during the execution of a program. When an \n",
    "exception is encountered, the program stops running and displays an error message that provides information about \n",
    "what went wrong. Exceptions can be caused by a variety of factors, such as invalid user input, missing or \n",
    "incorrect files, or network errors.\n",
    "\n",
    "Syntax errors, on the other hand, are errors that occur when the Python interpreter encounters code that violates \n",
    "the language's syntax rules. Examples of syntax errors include missing parentheses or quotes, misspelled keywords, \n",
    "and invalid indentation.\n",
    "\n",
    "The main difference between exceptions and syntax errors is that exceptions occur during the execution of a program, \n",
    "while syntax errors occur before the program is even run. Syntax errors can be caught and corrected by the programmer \n",
    "before the program is executed, while exceptions are typically handled during runtime through the use of error handling \n",
    "techniques like try-except blocks. '''"
   ]
  },
  {
   "cell_type": "code",
   "execution_count": 3,
   "id": "f88d54bf-cc5e-43b3-81f0-046ccac9b866",
   "metadata": {},
   "outputs": [],
   "source": [
    "# Here is an example of a syntax error:\n",
    "\n"
   ]
  },
  {
   "cell_type": "code",
   "execution_count": 4,
   "id": "220feef7-24cc-4574-ac7d-732677f6014b",
   "metadata": {},
   "outputs": [
    {
     "ename": "SyntaxError",
     "evalue": "unterminated string literal (detected at line 1) (410663758.py, line 1)",
     "output_type": "error",
     "traceback": [
      "\u001b[0;36m  Cell \u001b[0;32mIn [4], line 1\u001b[0;36m\u001b[0m\n\u001b[0;31m    print(\"Hello world!)\u001b[0m\n\u001b[0m          ^\u001b[0m\n\u001b[0;31mSyntaxError\u001b[0m\u001b[0;31m:\u001b[0m unterminated string literal (detected at line 1)\n"
     ]
    }
   ],
   "source": [
    "print(\"Hello world!)"
   ]
  },
  {
   "cell_type": "code",
   "execution_count": 6,
   "id": "8b2a482c-b1b5-4d0c-bff2-6bb1aa9d24de",
   "metadata": {},
   "outputs": [
    {
     "data": {
      "text/plain": [
       "' In this code, we are missing a closing quotation mark for the string \"Hello, world!\". When we try to run this code,\\nwe will receive a syntax error message indicating that there is a problem with the code\\'s syntax.\\n\\nAnd here is an example of an exception: '"
      ]
     },
     "execution_count": 6,
     "metadata": {},
     "output_type": "execute_result"
    }
   ],
   "source": [
    "''' In this code, we are missing a closing quotation mark for the string \"Hello, world!\". When we try to run this code,\n",
    "we will receive a syntax error message indicating that there is a problem with the code's syntax.\n",
    "\n",
    "And here is an example of an exception: '''"
   ]
  },
  {
   "cell_type": "code",
   "execution_count": 7,
   "id": "41028a9f-eee3-436b-acab-2906242b7db2",
   "metadata": {},
   "outputs": [
    {
     "name": "stdin",
     "output_type": "stream",
     "text": [
      "Enter a number:  nihal\n"
     ]
    },
    {
     "ename": "ValueError",
     "evalue": "invalid literal for int() with base 10: 'nihal'",
     "output_type": "error",
     "traceback": [
      "\u001b[0;31m---------------------------------------------------------------------------\u001b[0m",
      "\u001b[0;31mValueError\u001b[0m                                Traceback (most recent call last)",
      "Cell \u001b[0;32mIn [7], line 1\u001b[0m\n\u001b[0;32m----> 1\u001b[0m number \u001b[38;5;241m=\u001b[39m \u001b[38;5;28;43mint\u001b[39;49m\u001b[43m(\u001b[49m\u001b[38;5;28;43minput\u001b[39;49m\u001b[43m(\u001b[49m\u001b[38;5;124;43m\"\u001b[39;49m\u001b[38;5;124;43mEnter a number: \u001b[39;49m\u001b[38;5;124;43m\"\u001b[39;49m\u001b[43m)\u001b[49m\u001b[43m)\u001b[49m\n",
      "\u001b[0;31mValueError\u001b[0m: invalid literal for int() with base 10: 'nihal'"
     ]
    }
   ],
   "source": [
    "number = int(input(\"Enter a number: \"))\n"
   ]
  },
  {
   "cell_type": "code",
   "execution_count": 8,
   "id": "43434c7d-24ae-41fa-b8a4-46d2c5f9c309",
   "metadata": {},
   "outputs": [
    {
     "data": {
      "text/plain": [
       "' In this code, we are using the int() function to convert user input to an integer. If the user enters a\\nnon-numeric value, such as \"abc\", an exception will be raised, because the int() function cannot convert \\nnon-numeric values to integers. To handle this exception, we can use a try-except block to catch the exception \\nand provide a more helpful error message to the user. '"
      ]
     },
     "execution_count": 8,
     "metadata": {},
     "output_type": "execute_result"
    }
   ],
   "source": [
    "''' In this code, we are using the int() function to convert user input to an integer. If the user enters a\n",
    "non-numeric value, such as \"abc\", an exception will be raised, because the int() function cannot convert \n",
    "non-numeric values to integers. To handle this exception, we can use a try-except block to catch the exception \n",
    "and provide a more helpful error message to the user. '''\n"
   ]
  },
  {
   "cell_type": "code",
   "execution_count": 9,
   "id": "6b1ac9f3-60cb-4053-9e69-638bfb272409",
   "metadata": {},
   "outputs": [],
   "source": [
    "# Q2. What hppens when an exception is not handled? Explain with an example."
   ]
  },
  {
   "cell_type": "code",
   "execution_count": 10,
   "id": "60592c60-20c6-47e4-bd9d-c82c3b24d028",
   "metadata": {},
   "outputs": [
    {
     "data": {
      "text/plain": [
       "' Sol:- When an exception is not handled, the program will terminate abruptly and display a traceback message that \\nprovides information about where the exception occurred and what type of exception it is. \\nThis can be problematic for a few reasons:\\n\\nThe program does not complete its intended task, leaving it in an incomplete or inconsistent state.\\nThe user is left without any information about what went wrong or how to fix it.\\nIf the program is part of a larger system, such as a web application or operating system, an unhandled exception \\ncould cause other parts of the system to fail as well. '"
      ]
     },
     "execution_count": 10,
     "metadata": {},
     "output_type": "execute_result"
    }
   ],
   "source": [
    "''' Sol:- When an exception is not handled, the program will terminate abruptly and display a traceback message that \n",
    "provides information about where the exception occurred and what type of exception it is. \n",
    "This can be problematic for a few reasons:\n",
    "\n",
    "The program does not complete its intended task, leaving it in an incomplete or inconsistent state.\n",
    "The user is left without any information about what went wrong or how to fix it.\n",
    "If the program is part of a larger system, such as a web application or operating system, an unhandled exception \n",
    "could cause other parts of the system to fail as well. '''\n"
   ]
  },
  {
   "cell_type": "code",
   "execution_count": 11,
   "id": "c6e9d9d6-9468-4d53-80ae-c060e1fa577e",
   "metadata": {},
   "outputs": [],
   "source": [
    "# Here is an example of what happens when an exception is not handled:\n",
    "\n"
   ]
  },
  {
   "cell_type": "code",
   "execution_count": 12,
   "id": "e5037da8-d5db-4788-8615-dbc0498dd71f",
   "metadata": {},
   "outputs": [
    {
     "ename": "ZeroDivisionError",
     "evalue": "division by zero",
     "output_type": "error",
     "traceback": [
      "\u001b[0;31m---------------------------------------------------------------------------\u001b[0m",
      "\u001b[0;31mZeroDivisionError\u001b[0m                         Traceback (most recent call last)",
      "Cell \u001b[0;32mIn [12], line 4\u001b[0m\n\u001b[1;32m      1\u001b[0m \u001b[38;5;28;01mdef\u001b[39;00m \u001b[38;5;21mdivide\u001b[39m(x,y):\n\u001b[1;32m      2\u001b[0m     \u001b[38;5;28;01mreturn\u001b[39;00m x\u001b[38;5;241m/\u001b[39my\n\u001b[0;32m----> 4\u001b[0m \u001b[43mdivide\u001b[49m\u001b[43m(\u001b[49m\u001b[38;5;241;43m10\u001b[39;49m\u001b[43m,\u001b[49m\u001b[38;5;241;43m0\u001b[39;49m\u001b[43m)\u001b[49m\n",
      "Cell \u001b[0;32mIn [12], line 2\u001b[0m, in \u001b[0;36mdivide\u001b[0;34m(x, y)\u001b[0m\n\u001b[1;32m      1\u001b[0m \u001b[38;5;28;01mdef\u001b[39;00m \u001b[38;5;21mdivide\u001b[39m(x,y):\n\u001b[0;32m----> 2\u001b[0m     \u001b[38;5;28;01mreturn\u001b[39;00m \u001b[43mx\u001b[49m\u001b[38;5;241;43m/\u001b[39;49m\u001b[43my\u001b[49m\n",
      "\u001b[0;31mZeroDivisionError\u001b[0m: division by zero"
     ]
    }
   ],
   "source": [
    "def divide(x,y):\n",
    "    return x/y\n",
    "\n",
    "divide(10,0)\n",
    "    "
   ]
  },
  {
   "cell_type": "code",
   "execution_count": 13,
   "id": "88d958cd-e6e3-4696-b090-a94ce1660f88",
   "metadata": {},
   "outputs": [
    {
     "data": {
      "text/plain": [
       "' In this code, we are defining a function divide() that takes two arguments and returns their quotient. \\nWe then call the function with arguments 10 and 0, which should raise a ZeroDivisionError exception,\\nbecause dividing by zero is undefined. '"
      ]
     },
     "execution_count": 13,
     "metadata": {},
     "output_type": "execute_result"
    }
   ],
   "source": [
    "''' In this code, we are defining a function divide() that takes two arguments and returns their quotient. \n",
    "We then call the function with arguments 10 and 0, which should raise a ZeroDivisionError exception,\n",
    "because dividing by zero is undefined. '''\n"
   ]
  },
  {
   "cell_type": "code",
   "execution_count": 14,
   "id": "25d7a561-96b2-4ade-b958-c71cc365e543",
   "metadata": {},
   "outputs": [
    {
     "data": {
      "text/plain": [
       "' Because we did not handle this exception, the program terminated abruptly without completing its intended task\\n(returning the quotient of 10 and 0). Additionally, the user is left without any information about what went wrong \\nor how to fix it. To avoid this, we can use a try-except block to catch the exception and provide a more helpful error \\nmessage to the user. '"
      ]
     },
     "execution_count": 14,
     "metadata": {},
     "output_type": "execute_result"
    }
   ],
   "source": [
    "''' Because we did not handle this exception, the program terminated abruptly without completing its intended task\n",
    "(returning the quotient of 10 and 0). Additionally, the user is left without any information about what went wrong \n",
    "or how to fix it. To avoid this, we can use a try-except block to catch the exception and provide a more helpful error \n",
    "message to the user. '''"
   ]
  },
  {
   "cell_type": "code",
   "execution_count": 15,
   "id": "998c4131-d88f-41ff-b8ae-3f7cf3de90fe",
   "metadata": {},
   "outputs": [],
   "source": [
    "# Q3. Which Python sttements are used to catch and handle exceptions? Explain with an example."
   ]
  },
  {
   "cell_type": "code",
   "execution_count": 16,
   "id": "95601cba-2e37-4698-817e-46d09a6bfc63",
   "metadata": {},
   "outputs": [],
   "source": [
    "# Sol:- try block and exception block will try to catch and handle exceptions"
   ]
  },
  {
   "cell_type": "code",
   "execution_count": 17,
   "id": "5994b895-829c-4160-a4c8-89306c8d3aa4",
   "metadata": {},
   "outputs": [],
   "source": [
    "#example"
   ]
  },
  {
   "cell_type": "code",
   "execution_count": 18,
   "id": "2b348b0a-6325-4525-8756-d04d729577c1",
   "metadata": {},
   "outputs": [
    {
     "name": "stdout",
     "output_type": "stream",
     "text": [
      "the following file isn't found [Errno 2] No such file or directory: 'test.txt'\n"
     ]
    }
   ],
   "source": [
    "try:\n",
    "    f = open('test.txt', 'r')\n",
    "    \n",
    "except Exception as e:\n",
    "    print(\"the following file isn't found\",e)\n",
    "        "
   ]
  },
  {
   "cell_type": "code",
   "execution_count": 23,
   "id": "4f516e6d-3ef1-4e01-824f-ee4a41831612",
   "metadata": {},
   "outputs": [
    {
     "data": {
      "text/plain": [
       "\" In the try block, we try to read the test.txt file that does not exist,so exception is raised in try block\\nand the except block handles that error by giving the error msg, but the program doesn't stop abruptly \""
      ]
     },
     "execution_count": 23,
     "metadata": {},
     "output_type": "execute_result"
    }
   ],
   "source": [
    "''' In the try block, we try to read the test.txt file that does not exist,so exception is raised in try block\n",
    "and the except block handles that error by giving the error msg, but the program doesn't stop abruptly '''\n"
   ]
  },
  {
   "cell_type": "code",
   "execution_count": 26,
   "id": "1ebc1703-1da5-4b2d-80f1-0eacce9dd56d",
   "metadata": {},
   "outputs": [
    {
     "name": "stdin",
     "output_type": "stream",
     "text": [
      "Enter the first number:  12\n",
      "Enter the second number:  7\n"
     ]
    },
    {
     "name": "stdout",
     "output_type": "stream",
     "text": [
      "The result is: 1.7142857142857142\n"
     ]
    }
   ],
   "source": [
    "# another example\n",
    "try:\n",
    "    number1 = int(input(\"Enter the first number: \"))\n",
    "    number2 = int(input(\"Enter the second number: \"))\n",
    "    result = number1 / number2\n",
    "    print(\"The result is:\", result)\n",
    "except ZeroDivisionError as e:\n",
    "    print(\"Error: Cannot divide by zero.\",e)\n",
    "except ValueError as e:\n",
    "    print(\"Error: Invalid input. Please enter a number.\")"
   ]
  },
  {
   "cell_type": "code",
   "execution_count": 27,
   "id": "a43f6c67-21a5-4fc8-ba44-bedbb02cd7a7",
   "metadata": {},
   "outputs": [
    {
     "data": {
      "text/plain": [
       "' In try block, if both num1 and num2 are given integrs as input, then try block executes without\\nraising any error.\\n\\nBut, if num2 is given zero as input, we get zerodiv error, and we go to Zerodivisionerror exception block, which handles \\nthe exception well\\n\\nAnd if anhy of the num1 and num2 is given a string, float, or any invalid argument apart from the int, then we got to \\nValueerror exception block, which again handles the exception so well. '"
      ]
     },
     "execution_count": 27,
     "metadata": {},
     "output_type": "execute_result"
    }
   ],
   "source": [
    "''' In try block, if both num1 and num2 are given integrs as input, then try block executes without\n",
    "raising any error.\n",
    "\n",
    "But, if num2 is given zero as input, we get zerodiv error, and we go to Zerodivisionerror exception block, which handles \n",
    "the exception well\n",
    "\n",
    "And if anhy of the num1 and num2 is given a string, float, or any invalid argument apart from the int, then we got to \n",
    "Valueerror exception block, which again handles the exception so well. '''"
   ]
  },
  {
   "cell_type": "code",
   "execution_count": 29,
   "id": "6651f580-86ae-4f2f-8eab-594187629f6a",
   "metadata": {},
   "outputs": [],
   "source": [
    "#Q4. Explin with an exmple:\n",
    "#try and else\n",
    "#finally\n",
    "#raise "
   ]
  },
  {
   "cell_type": "code",
   "execution_count": 30,
   "id": "3f5bdedc-32ea-4d54-8c38-b8ba7eac75ad",
   "metadata": {},
   "outputs": [
    {
     "data": {
      "text/plain": [
       "\" try and else block:\\n\\nThe else block in Python's try-except statement is executed if no exception is raised in the try block. \\nThe else block is executed only when the try block does not raise an exception.\\n\\nHere's an example: \""
      ]
     },
     "execution_count": 30,
     "metadata": {},
     "output_type": "execute_result"
    }
   ],
   "source": [
    "# a) try and else\n",
    "\n",
    "''' try and else block:\n",
    "\n",
    "The else block in Python's try-except statement is executed if no exception is raised in the try block. \n",
    "The else block is executed only when the try block does not raise an exception.\n",
    "\n",
    "Here's an example: '''\n",
    "    "
   ]
  },
  {
   "cell_type": "code",
   "execution_count": 35,
   "id": "4b3eb31b-5d16-4137-a386-c3332de94814",
   "metadata": {},
   "outputs": [
    {
     "name": "stdin",
     "output_type": "stream",
     "text": [
      "enter a number:  10\n",
      "enter a number:  6\n"
     ]
    },
    {
     "name": "stdout",
     "output_type": "stream",
     "text": [
      "the result is correct: 1.6666666666666667\n"
     ]
    }
   ],
   "source": [
    "try:\n",
    "    x = int(input(\"enter a number: \"))\n",
    "    y = int(input(\"enter a number: \"))\n",
    "    result = x/y\n",
    "    \n",
    "except ZeroDivisionError as e:\n",
    "    print(\"we get error now:\",e)\n",
    "    \n",
    "else:\n",
    "    print(\"the result is correct:\", result)\n",
    "    \n",
    "    \n",
    "    "
   ]
  },
  {
   "cell_type": "code",
   "execution_count": 36,
   "id": "a86dc06a-e5ff-42d9-81d6-9a78dcd886ef",
   "metadata": {},
   "outputs": [
    {
     "data": {
      "text/plain": [
       "' In this example, the try block takes two integer inputs from the user, divides them and stores the result in \\nresult variable. If the user enters 0 as the second number, a ZeroDivisionError exception is raised and the code\\ninside the except block is executed. Otherwise, if the division is successful, the code inside the else block\\nis executed and prints the result of the division. '"
      ]
     },
     "execution_count": 36,
     "metadata": {},
     "output_type": "execute_result"
    }
   ],
   "source": [
    "''' In this example, the try block takes two integer inputs from the user, divides them and stores the result in \n",
    "result variable. If the user enters 0 as the second number, a ZeroDivisionError exception is raised and the code\n",
    "inside the except block is executed. Otherwise, if the division is successful, the code inside the else block\n",
    "is executed and prints the result of the division. '''"
   ]
  },
  {
   "cell_type": "code",
   "execution_count": 37,
   "id": "4fb4d5e2-01af-415f-99fc-166564d73a60",
   "metadata": {},
   "outputs": [
    {
     "data": {
      "text/plain": [
       "\" finally block:\\n\\nThe finally block in Python's try-except statement is always executed, whether an exception is raised or not. \\nThis block is useful when you want to perform some action, such as closing a file or a network connection, \\nregardless of whether an exception is raised or not.\\n\\nHere's an example: \""
      ]
     },
     "execution_count": 37,
     "metadata": {},
     "output_type": "execute_result"
    }
   ],
   "source": [
    "''' finally block:\n",
    "\n",
    "The finally block in Python's try-except statement is always executed, whether an exception is raised or not. \n",
    "This block is useful when you want to perform some action, such as closing a file or a network connection, \n",
    "regardless of whether an exception is raised or not.\n",
    "\n",
    "Here's an example: '''\n",
    "\n"
   ]
  },
  {
   "cell_type": "code",
   "execution_count": 38,
   "id": "22a245df-2a74-4323-96cc-8aa811eee9ae",
   "metadata": {},
   "outputs": [],
   "source": [
    "try:\n",
    "    f = open(\"example.txt\", 'r')\n",
    "except Exception as e:\n",
    "    print(\"no file exists:\",e)\n",
    "finally:\n",
    "    f.close()\n",
    "    "
   ]
  },
  {
   "cell_type": "code",
   "execution_count": 39,
   "id": "a3e7b630-a664-44cc-8be6-682f3170af1d",
   "metadata": {},
   "outputs": [
    {
     "data": {
      "text/plain": [
       "' In this example, the try block opens a file named example.txt in read mode and performs some operations on it. \\nIf the file is not found, a FileNotFoundError exception is raised and the code inside the except block is executed. \\nRegardless of whether an exception is raised or not, the finally block closes the file using the close() method. '"
      ]
     },
     "execution_count": 39,
     "metadata": {},
     "output_type": "execute_result"
    }
   ],
   "source": [
    "''' In this example, the try block opens a file named example.txt in read mode and performs some operations on it. \n",
    "If the file is not found, a FileNotFoundError exception is raised and the code inside the except block is executed. \n",
    "Regardless of whether an exception is raised or not, the finally block closes the file using the close() method. '''\n",
    "\n"
   ]
  },
  {
   "cell_type": "code",
   "execution_count": 41,
   "id": "0237dc55-58b5-417a-8bb4-261685574db3",
   "metadata": {},
   "outputs": [
    {
     "data": {
      "text/plain": [
       "\" raise statement:\\n\\nThe raise statement is used to raise an exception manually in Python and it also calls the custom class. It is useful\\nwhen you want to create custom exceptions or handle exceptional cases that are not covered by Python's \\nbuilt-in exceptions.\\n\\nHere's an example: \""
      ]
     },
     "execution_count": 41,
     "metadata": {},
     "output_type": "execute_result"
    }
   ],
   "source": [
    "''' raise statement:\n",
    "\n",
    "The raise statement is used to raise an exception manually in Python and it also calls the custom class. It is useful\n",
    "when you want to create custom exceptions or handle exceptional cases that are not covered by Python's \n",
    "built-in exceptions.\n",
    "\n",
    "Here's an example: '''"
   ]
  },
  {
   "cell_type": "code",
   "execution_count": 47,
   "id": "6faa715d-79c4-492a-9541-ca1b9db97e9a",
   "metadata": {},
   "outputs": [
    {
     "name": "stdin",
     "output_type": "stream",
     "text": [
      "enter the age:  100\n"
     ]
    },
    {
     "name": "stdout",
     "output_type": "stream",
     "text": [
      "age is valid\n"
     ]
    }
   ],
   "source": [
    "def validate_age(age):\n",
    "    if age<0:\n",
    "        raise ValueError(\"age isn't negative\")\n",
    "    elif age>120:\n",
    "        raise ValueError(\"age is very huge\")\n",
    "    else:\n",
    "        print(\"age is valid\")\n",
    "        \n",
    "try:\n",
    "    age = int(input(\"enter the age: \"))\n",
    "    validate_age(age)\n",
    "    \n",
    "except ValueError as e:\n",
    "    print(\"error will be there:\", e)\n",
    "    \n",
    "    "
   ]
  },
  {
   "cell_type": "code",
   "execution_count": 48,
   "id": "45eefe02-baa8-4096-80f9-b5bd0df841df",
   "metadata": {},
   "outputs": [
    {
     "data": {
      "text/plain": [
       "' In this example, the validate_age() function raises a ValueError exception if the age is negative or greater than \\n120.The try block takes an integer input from the user, calls the validate_age() function and catches any exceptions \\nraised by the function using the except block. If a ValueError exception is raised, the code inside the except block \\nis executed and prints an error message. Otherwise, the code inside the else block of validate_age() function is \\nexecuted and prints \"Age is valid\" '"
      ]
     },
     "execution_count": 48,
     "metadata": {},
     "output_type": "execute_result"
    }
   ],
   "source": [
    "''' In this example, the validate_age() function raises a ValueError exception if the age is negative or greater than \n",
    "120.The try block takes an integer input from the user, calls the validate_age() function and catches any exceptions \n",
    "raised by the function using the except block. If a ValueError exception is raised, the code inside the except block \n",
    "is executed and prints an error message. Otherwise, the code inside the else block of validate_age() function is \n",
    "executed and prints \"Age is valid\" '''"
   ]
  },
  {
   "cell_type": "code",
   "execution_count": null,
   "id": "e0246523-995d-4b66-81e2-f5494282ae1e",
   "metadata": {},
   "outputs": [],
   "source": [
    "# Q5. What are Custom Exceptions in python? Why do we need Custom Exceptions? Explin with an example.\n"
   ]
  },
  {
   "cell_type": "code",
   "execution_count": 49,
   "id": "6b8d9144-2bed-4395-aa8b-9395049b59a9",
   "metadata": {},
   "outputs": [
    {
     "data": {
      "text/plain": [
       "\" Sol:- Custom exceptions in Python are user-defined exceptions that can be created to handle specific error cases that \\nare not covered by built-in exceptions.\\n\\nSometimes, built-in exceptions like ValueError, TypeError, or IndexError may not be specific enough to describe a \\nparticular error in a program. In such cases, custom exceptions can be created to provide more meaningful and \\nspecific error messages.\\n\\nHere's an example: \""
      ]
     },
     "execution_count": 49,
     "metadata": {},
     "output_type": "execute_result"
    }
   ],
   "source": [
    "''' Sol:- Custom exceptions in Python are user-defined exceptions that can be created to handle specific error cases that \n",
    "are not covered by built-in exceptions.\n",
    "\n",
    "Sometimes, built-in exceptions like ValueError, TypeError, or IndexError may not be specific enough to describe a \n",
    "particular error in a program. In such cases, custom exceptions can be created to provide more meaningful and \n",
    "specific error messages.\n",
    "\n",
    "Here's an example: '''"
   ]
  },
  {
   "cell_type": "code",
   "execution_count": 51,
   "id": "ca05b2e5-475c-41ad-8f9d-c00d860b5248",
   "metadata": {},
   "outputs": [],
   "source": [
    "class Nihal(Exception):\n",
    "    def __init__(self,msg):\n",
    "        self.msg = msg"
   ]
  },
  {
   "cell_type": "code",
   "execution_count": 58,
   "id": "5942d2fa-9bf9-4fe6-9556-78261fd05550",
   "metadata": {},
   "outputs": [
    {
     "name": "stdout",
     "output_type": "stream",
     "text": [
      "error produced: we cannot divide a number by zero\n"
     ]
    }
   ],
   "source": [
    "def Divide_num(a,b):\n",
    "    if b==0:\n",
    "        raise Nihal(\"we cannot divide a number by zero\")\n",
    "    else:\n",
    "        print(a/b)\n",
    "    \n",
    "try:\n",
    "    result = Divide_num(20,0)\n",
    "except Nihal as e:\n",
    "    print(\"error produced:\",e)"
   ]
  },
  {
   "cell_type": "code",
   "execution_count": 59,
   "id": "8e4ba44c-60a0-452f-89bf-aca9cd7b77e4",
   "metadata": {},
   "outputs": [
    {
     "data": {
      "text/plain": [
       "' In this example, the divide_numbers() function takes two numbers and divides them. If the second number is zero, a CustomException is raised with the message\\n\"Cannot divide by zero\". This custom exception is caught in the try-except block, and the error message is printed.\\n\\nCustom exceptions are useful when you want to handle specific error cases in a program, and they provide more \\nmeaningful error messages that help to debug the code. '"
      ]
     },
     "execution_count": 59,
     "metadata": {},
     "output_type": "execute_result"
    }
   ],
   "source": [
    "''' In this example, the divide_numbers() function takes two numbers and divides them. If the second number is zero, a CustomException is raised with the message\n",
    "\"Cannot divide by zero\". This custom exception is caught in the try-except block, and the error message is printed.\n",
    "\n",
    "Custom exceptions are useful when you want to handle specific error cases in a program, and they provide more \n",
    "meaningful error messages that help to debug the code. '''"
   ]
  },
  {
   "cell_type": "code",
   "execution_count": 60,
   "id": "0a8d81b4-be6c-4457-8391-929c1a73962c",
   "metadata": {},
   "outputs": [],
   "source": [
    "#Q6. Create  custom exception class. Use this class to handle an exception."
   ]
  },
  {
   "cell_type": "code",
   "execution_count": 65,
   "id": "1b01cd9d-4891-4ffd-a9bb-30bb4777c44a",
   "metadata": {},
   "outputs": [
    {
     "name": "stdout",
     "output_type": "stream",
     "text": [
      "Error: Cannot calculate square root of a negative number\n"
     ]
    }
   ],
   "source": [
    "class NegativeNumberError(Exception):\n",
    "    def __init__(self, message):\n",
    "        self.message = message\n",
    "\n",
    "def calculate_square_root(number):\n",
    "    if number < 0:\n",
    "        raise NegativeNumberError(\"Cannot calculate square root of a negative number\")\n",
    "    else:\n",
    "        print( number ** 0.5)\n",
    "\n",
    "try:\n",
    "    result = calculate_square_root(-5)\n",
    "except NegativeNumberError as e:\n",
    "    print(\"Error:\", e.message)"
   ]
  },
  {
   "cell_type": "code",
   "execution_count": 66,
   "id": "7cca4552-15b3-46ef-8117-b973bb03efd2",
   "metadata": {},
   "outputs": [
    {
     "data": {
      "text/plain": [
       "' In this example, we define a custom exception class named NegativeNumberError. The __init__() method is defined to \\ninitialize the custom exception with a message string. This message string can be passed to the constructor of \\nthe custom exception when it is raised.\\n\\nThe calculate_square_root() function takes a number and calculates its square root. If the number is negative, \\nit raises a NegativeNumberError with the message \"Cannot calculate square root of a negative number\".\\n\\nThe try-except block is used to catch the custom exception if it is raised. If the exception is caught, the error\\nmessage is printed.\\n\\nThis shows that the custom exception was raised and caught, and the error message was printed. '"
      ]
     },
     "execution_count": 66,
     "metadata": {},
     "output_type": "execute_result"
    }
   ],
   "source": [
    "''' In this example, we define a custom exception class named NegativeNumberError. The __init__() method is defined to \n",
    "initialize the custom exception with a message string. This message string can be passed to the constructor of \n",
    "the custom exception when it is raised.\n",
    "\n",
    "The calculate_square_root() function takes a number and calculates its square root. If the number is negative, \n",
    "it raises a NegativeNumberError with the message \"Cannot calculate square root of a negative number\".\n",
    "\n",
    "The try-except block is used to catch the custom exception if it is raised. If the exception is caught, the error\n",
    "message is printed.\n",
    "\n",
    "This shows that the custom exception was raised and caught, and the error message was printed. '''"
   ]
  },
  {
   "cell_type": "code",
   "execution_count": null,
   "id": "a616e78b-fae8-4c30-9bbb-76a00813e5d5",
   "metadata": {},
   "outputs": [],
   "source": []
  }
 ],
 "metadata": {
  "kernelspec": {
   "display_name": "Python 3 (ipykernel)",
   "language": "python",
   "name": "python3"
  },
  "language_info": {
   "codemirror_mode": {
    "name": "ipython",
    "version": 3
   },
   "file_extension": ".py",
   "mimetype": "text/x-python",
   "name": "python",
   "nbconvert_exporter": "python",
   "pygments_lexer": "ipython3",
   "version": "3.10.6"
  }
 },
 "nbformat": 4,
 "nbformat_minor": 5
}
