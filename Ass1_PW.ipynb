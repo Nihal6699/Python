{
 "cells": [
  {
   "cell_type": "raw",
   "id": "88a4b052-531e-4dd7-bb91-1ab79c75de77",
   "metadata": {},
   "source": [
    "1. Who developed Python Programming Language?\n",
    "Sol:- Python was developed by Guido van Rossum and was first released in 1991.\n",
    "\n",
    "\n",
    "\n",
    "2. Which type of Programming does Python support? \n",
    "Sol:- Python supports multiple programming paradigms including object-oriented programming, procedural programming, and functional programming. It is often used for scripting, automation, web development, data analysis, artificial intelligence, and scientific computing.\n",
    "\n",
    "\n",
    "\n",
    "3. Is Python case sensitive when dealing with identifiers? \n",
    "Sol:- Yes, Python is case sensitive when dealing with identifiers (e.g. variable names, function names, etc.).\n",
    "For example, the names \"myVariable\" and \"myvariable\" would be considered as two separate and distinct identifiers in Python.\n",
    "\n",
    "\n",
    "\n",
    "4. What is the correct extension of the Python file? \n",
    "Sol:- The correct extension for a Python file is \".py\". This extension is used to indicate that a file contains Python code and should be executed by a Python interpreter.\n",
    "\n",
    "\n",
    "\n",
    "5. Is Python code compiled or interpreted? \n",
    "Sol:- Python code is interpreted, not compiled. When a Python program is executed, the Python interpreter reads and \n",
    "interprets the code line by line, executing the code as it goes, rather than compiling the code into machine language beforehand. \n",
    "\n",
    "This makes Python an interpreted language, which allows for more rapid development and easier testing and \n",
    "debugging compared to compiled languages.\n",
    "\n",
    "\n",
    "\n",
    "\n",
    "6. Name a few blocks of code used to define in Python language?\n",
    "Sol:- In Python, blocks of code are defined using indentation. A few blocks of code used in Python are:\n",
    "\n",
    "Functions: defined using the \"def\" keyword, blocks of code within a function are indented.\n",
    "\n",
    "Loops: for loops and while loops, the code block within the loop is indented.\n",
    "\n",
    "Conditional statements: if, elif and else, blocks of code within these statements are indented.\n",
    "Classes: blocks of code within a class definition are indented.\n",
    "\n",
    "\n",
    "\n",
    "\n",
    "\n",
    "7. State a character used to give single-line comments in Python? \n",
    "Sol:- In Python, the character \"#\" is used to give single-line comments.\n",
    "\n",
    "\n",
    "\n",
    "8. Mention functions which can help us to find the version of python that we are currently working on? \n",
    "Sol:- You can use the following functions to find the version of Python that you are currently working on:\n",
    "\n",
    "sys.version: This returns a string containing information about the Python version, including the release number and build information.\n",
    "\n",
    "sys.version_info: This returns a named tuple containing information about the Python version as separate components (major, minor, micro, etc.).\n",
    "\n",
    "\n",
    "\n",
    "\n",
    "9. Python supports the creation of anonymous functions at runtime, using a construct called \n",
    "Sol:- \"lambda\". The \"lambda\" construct in Python allows you to create small, anonymous functions (also known as lambda functions) at runtime. A lambda function can take any number of arguments but can only have one expression. The expression is evaluated and returned when the function is called.\n",
    "\n",
    "\n",
    "\n",
    "\n",
    "10. What does pip stand for python? \n",
    "Sol:- \"pip\" is short for \"Pip Installs Packages\". It is a package management system used to install and manage packages and libraries for Python. With pip, you can easily install, upgrade, or remove packages and libraries needed for your Python projects. Pip makes it easier to manage dependencies and ensures that your projects are using compatible versions of the libraries you need.\n",
    "\n",
    "\n",
    "\n",
    "\n",
    "11. Mention a few built-in functions in python? \n",
    "Sol:- Python has a rich set of built-in functions that allow you to perform a variety of operations and calculations. Here are a few common built-in functions in Python:\n",
    "\n",
    "print(): This function is used to display output on the screen.\n",
    "\n",
    "len(): This function returns the number of elements in a sequence (such as a string, list, or tuple).\n",
    "\n",
    "str(): This function is used to convert a value to a string.\n",
    "\n",
    "int(): This function is used to convert a value to an integer.\n",
    "\n",
    "float(): This function is used to convert a value to a floating-point number.\n",
    "\n",
    "max(): This function returns the largest item in an iterable or the largest of two or more arguments.\n",
    "\n",
    "min(): This function returns the smallest item in an iterable or the smallest of two or more arguments.\n",
    "\n",
    "\n",
    "\n",
    "\n",
    "12. What is the maximum possible length of an identifier in Python? \n",
    "Sol:- An identifier can have a maximum length of 79 characters in Python. Python is one of the most popular programming languages.\n",
    "\n",
    "\n",
    "\n",
    "\n",
    "13. What are the benefits of using Python? \n",
    "Sol:- Python is a popular and versatile programming language that offers several benefits to users, including:\n",
    "Easy to learn: Python has a simple and straightforward syntax that makes it easy to learn, even for beginners. This makes it an ideal first language for those new to programming.\n",
    "\n",
    "Versatile: Python can be used for a wide range of tasks, including web development, scientific computing, data analysis, artificial intelligence, and more.\n",
    "\n",
    "Large number of libraries: Python has a large number of libraries and tools that can be used to perform various tasks, from web development to data analysis. This saves time and effort for developers as they do not have to write everything from scratch.\n",
    "\n",
    "High-level language: Python is a high-level language, meaning that it abstracts many of the low-level details of computer systems and provides a higher-level interface. This makes it easier to write code and reduces the chances of making errors.\n",
    "\n",
    "Good performance: Despite its high-level nature, Python is a fast and efficient language that can handle many tasks with good performance.\n",
    "\n",
    "\n",
    "\n",
    "\n",
    "14. How is memory managed in Python? \n",
    "Sol:- In Python, memory management is handled automatically by the Python memory manager. This memory manager is responsible for allocating and freeing memory as needed.\n",
    "\n",
    "One of the key features of Python's memory management is the use of a garbage collector. The garbage collector keeps track of objects that are no longer in use and frees up the memory occupied by these objects. This helps to ensure that the Python interpreter does not run out of memory, even when programs create and discard many objects.\n",
    "\n",
    "Additionally, Python uses reference counting as a technique for memory management. When an object is created, its reference count is set to 1. When another reference to the object is created, the reference count is incremented, and when a reference is deleted, the reference count is decremented. When the reference count of an object reaches zero, the memory occupied by the object is automatically freed by the Python memory manager.\n",
    "\n",
    "In summary, Python's memory manager provides an efficient and automatic way of managing memory, making it easier for developers to write programs that are free from memory leaks and other low-level memory-related issues.\n",
    "\n",
    "\n",
    "\n",
    "15. How to install Python on Windows and set path variables? \n",
    "Sol:- Installing Python on Windows and setting the path variables can be done using the following steps:\n",
    "\n",
    "Download Python: Visit the official Python website (https://www.python.org/downloads/) and download the latest version of Python for Windows.\n",
    "\n",
    "Install Python: Double-click the downloaded Python installer and follow the on-screen instructions to install Python on your computer. Make sure to choose the option to add Python to the environment variables so that you can run Python from the command line.\n",
    "\n",
    "Verify the installation: Open the command prompt and type \"python\" to verify that Python is installed and the path variables are set correctly. You should see the Python prompt (\">>>\") indicating that Python is ready to use.\n",
    "\n",
    "Set the path variables: If the path variables are not set automatically during installation, you can set them manually by following these steps:\n",
    "\n",
    "Right-click on \"This PC\" and select \"Properties\".\n",
    "Click on \"Advanced system settings\".\n",
    "Click on \"Environment Variables\".\n",
    "Under \"System Variables\", scroll down to find the \"Path\" variable and click \"Edit\".\n",
    "Add the path to the Python executable (e.g., \"C:\\Python3x\") to the end of the \"Variable value\" field and click \"OK\".\n",
    "By following these steps, you should be able to install Python on your Windows computer and set the path variables so that you can run Python from the command line.\n",
    "\n",
    "\n",
    "16. Is indentation required in python? \n",
    "Sol:- Yes, indentation is required in Python. Indentation is used to define blocks of code, such as loops and functions. In Python, the level of indentation is used to indicate the scope of a block of code, and all statements within the same block of code must be indented by the same amount.\n"
   ]
  },
  {
   "cell_type": "code",
   "execution_count": 1,
   "id": "3f04ae63-bd8f-41d5-a0af-504f5561ed1c",
   "metadata": {},
   "outputs": [],
   "source": [
    "# Q7 solution \n",
    "# This '#' char is used to comment out everything, that we write in the single line containing '#'"
   ]
  },
  {
   "cell_type": "code",
   "execution_count": 5,
   "id": "6a8cdcb1-db15-421d-a1aa-2ae37e393406",
   "metadata": {},
   "outputs": [
    {
     "name": "stdout",
     "output_type": "stream",
     "text": [
      "3.10.8 | packaged by conda-forge | (main, Nov 22 2022, 08:26:04) [GCC 10.4.0]\n",
      "sys.version_info(major=3, minor=10, micro=8, releaselevel='final', serial=0)\n"
     ]
    }
   ],
   "source": [
    "#Q8 sol\n",
    "import sys\n",
    "print(sys.version)\n",
    "print(sys.version_info)\n"
   ]
  },
  {
   "cell_type": "code",
   "execution_count": 6,
   "id": "b9c6f7c0-cfb8-4ad1-a441-6293e5c95896",
   "metadata": {},
   "outputs": [],
   "source": [
    "#Q9 sol\n",
    "a=lambda a,b : (a*b, a+b)"
   ]
  },
  {
   "cell_type": "code",
   "execution_count": 7,
   "id": "510fdb79-d878-4a8f-ab48-88acaeddb527",
   "metadata": {},
   "outputs": [
    {
     "data": {
      "text/plain": [
       "(600, 50)"
      ]
     },
     "execution_count": 7,
     "metadata": {},
     "output_type": "execute_result"
    }
   ],
   "source": [
    "a(20,30)"
   ]
  },
  {
   "cell_type": "code",
   "execution_count": null,
   "id": "53afb626-4fa8-4776-bdd7-d51656327ba2",
   "metadata": {},
   "outputs": [],
   "source": [
    "#"
   ]
  }
 ],
 "metadata": {
  "kernelspec": {
   "display_name": "Python 3 (ipykernel)",
   "language": "python",
   "name": "python3"
  },
  "language_info": {
   "codemirror_mode": {
    "name": "ipython",
    "version": 3
   },
   "file_extension": ".py",
   "mimetype": "text/x-python",
   "name": "python",
   "nbconvert_exporter": "python",
   "pygments_lexer": "ipython3",
   "version": "3.10.8"
  }
 },
 "nbformat": 4,
 "nbformat_minor": 5
}
