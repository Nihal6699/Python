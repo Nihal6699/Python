{
 "cells": [
  {
   "cell_type": "code",
   "execution_count": null,
   "id": "ffe122d4-cecc-45ca-8077-6a11c75c2c7d",
   "metadata": {},
   "outputs": [],
   "source": [
    "#Q1.Explain Class and Object with respect to Object-Oriented Programming. Give a suitable example.\n",
    "\n",
    "'''\n",
    "Sol:-  a Class is a blueprint or a template for creating objects. It defines the attributes and behavior of a certain \n",
    "type of entity. To create a class, we use the \"class\" keyword followed by the name of the class, which is usually capitalized.\n",
    "'''\n",
    "\n"
   ]
  },
  {
   "cell_type": "code",
   "execution_count": 4,
   "id": "92b842e5-970d-413d-9610-8b18af7539d4",
   "metadata": {},
   "outputs": [],
   "source": [
    "#Example:-\n",
    "\n",
    "''' In this example, we define a \"Person\" class that has two attributes - \"name\" and \"age\" - and one method - \"say_hello()\". \n",
    "The \"init\" method is a special method that gets called when an object of the class is created. It initializes the object with \n",
    "the given values for the \"name\" and \"age\" attributes.\n",
    "\n",
    "To create an object of the \"Person\" class, we use the class name followed by parentheses. We can then access the attributes \n",
    "and methods of the object using the dot notation. Here's an example: '''\n",
    "\n",
    "class Person:\n",
    "    def __init__(self,name,age):\n",
    "        self.name = name\n",
    "        self.age = age\n",
    "        \n",
    "    def say_hello(self):\n",
    "        return(f\"Hello, my name is {self.name} and Iam {self.age} years old\")\n",
    "        "
   ]
  },
  {
   "cell_type": "code",
   "execution_count": 8,
   "id": "cfa410b3-4ce0-4438-8c47-f116a190e40a",
   "metadata": {},
   "outputs": [
    {
     "data": {
      "text/plain": [
       "'Hello, my name is Nihal and Iam 19 years old'"
      ]
     },
     "execution_count": 8,
     "metadata": {},
     "output_type": "execute_result"
    }
   ],
   "source": [
    "person1 = Person(\"Nihal\",19)\n",
    "person1.say_hello()\n"
   ]
  },
  {
   "cell_type": "code",
   "execution_count": null,
   "id": "5dc10f19-ef70-4965-93e0-84fb5bbf7a69",
   "metadata": {},
   "outputs": [],
   "source": [
    "''' In this example, we create an object of the \"Person\" class with the name \"Alice\" and age \"25\". We then call the \"say_hello()\"\n",
    "method on the object, which prints out a greeting message using the object's name and age. ''"
   ]
  },
  {
   "cell_type": "code",
   "execution_count": 9,
   "id": "990bddd3-53df-4d4f-bcc2-da4ce74b1f2c",
   "metadata": {},
   "outputs": [
    {
     "data": {
      "text/plain": [
       "\"Sol:- The four pillars of Object-Oriented Programming (OOP) are:\\n\\nEncapsulation: Encapsulation is the practice of hiding the internal details of an object from the outside world and exposing \\nonly what is necessary. It helps to ensure that the object's internal state is not modified directly and can only be accessed \\nthrough a well-defined interface. This makes the code more robust and secure.\\n\\nInheritance: Inheritance allows a class to inherit the properties and methods of another class. The class that is being \\ninherited from is called the parent class or super class, and the class that inherits from it is called the child class or \\nsub class. Inheritance promotes code reuse and allows us to create new classes that are based on existing ones.\\n\\nPolymorphism: Polymorphism allows objects of different classes to be treated as if they were of the same class. This means \\nthat we can use the same method or operator to operate on different objects. Polymorphism is achieved through \\nmethod overloading and method overriding.\\n\\nAbstraction: Abstraction is the practice of focusing on the essential features of an object and ignoring the non-essential \\ndetails. It helps to simplify the complexity of the system by breaking it down into smaller, more manageable parts. \\nAbstraction is achieved through interfaces and abstract classes. \""
      ]
     },
     "execution_count": 9,
     "metadata": {},
     "output_type": "execute_result"
    }
   ],
   "source": [
    "# Q2. Name the four pillars of OOPs.\n",
    "\n",
    "'''Sol:- The four pillars of Object-Oriented Programming (OOP) are:\n",
    "\n",
    "Encapsulation: Encapsulation is the practice of hiding the internal details of an object from the outside world and exposing \n",
    "only what is necessary. It helps to ensure that the object's internal state is not modified directly and can only be accessed \n",
    "through a well-defined interface. This makes the code more robust and secure.\n",
    "\n",
    "Inheritance: Inheritance allows a class to inherit the properties and methods of another class. The class that is being \n",
    "inherited from is called the parent class or super class, and the class that inherits from it is called the child class or \n",
    "sub class. Inheritance promotes code reuse and allows us to create new classes that are based on existing ones.\n",
    "\n",
    "Polymorphism: Polymorphism allows objects of different classes to be treated as if they were of the same class. This means \n",
    "that we can use the same method or operator to operate on different objects. Polymorphism is achieved through \n",
    "method overloading and method overriding.\n",
    "\n",
    "Abstraction: Abstraction is the practice of focusing on the essential features of an object and ignoring the non-essential \n",
    "details. It helps to simplify the complexity of the system by breaking it down into smaller, more manageable parts. \n",
    "Abstraction is achieved through interfaces and abstract classes. '''"
   ]
  },
  {
   "cell_type": "code",
   "execution_count": null,
   "id": "a4575607-0dbf-41df-8590-8742424c5838",
   "metadata": {},
   "outputs": [],
   "source": [
    "#Q.3 Explain why the __init__() function is used. Give a suitable example.\n",
    "\n",
    "''' Sol:- In Python, the __init__() function is used to initialize the attributes of an object when it is created. \n",
    "It is called a constructor because it constructs the object and sets its initial state.\n",
    "\n"
   ]
  },
  {
   "cell_type": "code",
   "execution_count": 26,
   "id": "c6ed8cf1-65c9-4cb7-bad0-e58cbbace70e",
   "metadata": {},
   "outputs": [],
   "source": [
    "#Example\n",
    "class Rectangle:\n",
    "    def __init__(self, width, height):\n",
    "        self.width = width\n",
    "        self.height = height\n",
    "        \n",
    "    def area(self):\n",
    "        return self.height * self.width\n",
    "    \n",
    "    def perimeter(self):\n",
    "        return 2 * (self.height + self.width)\n",
    "        "
   ]
  },
  {
   "cell_type": "code",
   "execution_count": 27,
   "id": "ac4c8bbd-94c3-48cd-b242-b84964029e60",
   "metadata": {},
   "outputs": [
    {
     "data": {
      "text/plain": [
       "6"
      ]
     },
     "execution_count": 27,
     "metadata": {},
     "output_type": "execute_result"
    }
   ],
   "source": [
    "rect1 = Rectangle(6,10)\n",
    "rect1.width\n",
    "\n"
   ]
  },
  {
   "cell_type": "code",
   "execution_count": 28,
   "id": "37521d63-2642-45cf-92f0-7da67b9664fb",
   "metadata": {},
   "outputs": [
    {
     "data": {
      "text/plain": [
       "10"
      ]
     },
     "execution_count": 28,
     "metadata": {},
     "output_type": "execute_result"
    }
   ],
   "source": [
    "rect1.height"
   ]
  },
  {
   "cell_type": "code",
   "execution_count": 29,
   "id": "c61e75f1-d791-476e-b97c-bc53ce236f61",
   "metadata": {},
   "outputs": [
    {
     "data": {
      "text/plain": [
       "60"
      ]
     },
     "execution_count": 29,
     "metadata": {},
     "output_type": "execute_result"
    }
   ],
   "source": [
    "rect1.area()"
   ]
  },
  {
   "cell_type": "code",
   "execution_count": 30,
   "id": "f3036c0a-f6e8-44ae-9121-080276115ba2",
   "metadata": {},
   "outputs": [
    {
     "data": {
      "text/plain": [
       "32"
      ]
     },
     "execution_count": 30,
     "metadata": {},
     "output_type": "execute_result"
    }
   ],
   "source": [
    "rect1.perimeter()"
   ]
  },
  {
   "cell_type": "code",
   "execution_count": null,
   "id": "0307bb94-9847-47aa-aeac-1d113b69bd67",
   "metadata": {},
   "outputs": [],
   "source": [
    "''' In this example, we define a Rectangle class that has two attributes - width and height - and two methods - area() and \n",
    "perimeter(). The __init__() function is called when an object of the Rectangle class is created and it initializes the \n",
    "object's width and height attributes with the given values.\n",
    "\n",
    "We can then create objects of the Rectangle class and access their attributes and methods:\n",
    "\n",
    "In this example, we create an object of the Rectangle class with a width of 6 and a height of 10. We then access the object's \n",
    "width and height attributes and call its area() and perimeter() methods. '''\n",
    "\n",
    "\n"
   ]
  },
  {
   "cell_type": "code",
   "execution_count": 31,
   "id": "9c35696c-89bc-46f1-9a93-4012682c585b",
   "metadata": {},
   "outputs": [
    {
     "data": {
      "text/plain": [
       "' Sol:- In simple terms, the self keyword is used in object-oriented programming to refer to the current object instance.\\n\\nWhen we create an object from a class, we can call methods or access attributes of that object. The self parameter in a \\nmethod refers to the object on which the method is being called. It helps to differentiate between the attributes and methods\\nof different objects created from the same class.\\n\\nFor example, if we have a Person class and we create two objects from it - person1 and person2, we can use the self parameter \\nto refer to the attributes and methods of each object individually.\\n\\nIn the Person class, if we have an instance method called greet, the self parameter inside the method refers to the object\\nthat calls the greet method. So when we call person1.greet(), the self parameter refers to person1, and when we call \\nperson2.greet(), the self parameter refers to person2. '"
      ]
     },
     "execution_count": 31,
     "metadata": {},
     "output_type": "execute_result"
    }
   ],
   "source": [
    "# Q4. Why self is used in OOPs?\n",
    "\n",
    "''' Sol:- In simple terms, the self keyword is used in object-oriented programming to refer to the current object instance.\n",
    "\n",
    "When we create an object from a class, we can call methods or access attributes of that object. The self parameter in a \n",
    "method refers to the object on which the method is being called. It helps to differentiate between the attributes and methods\n",
    "of different objects created from the same class.\n",
    "\n",
    "For example, if we have a Person class and we create two objects from it - person1 and person2, we can use the self parameter \n",
    "to refer to the attributes and methods of each object individually.\n",
    "\n",
    "In the Person class, if we have an instance method called greet, the self parameter inside the method refers to the object\n",
    "that calls the greet method. So when we call person1.greet(), the self parameter refers to person1, and when we call \n",
    "person2.greet(), the self parameter refers to person2. '''"
   ]
  },
  {
   "cell_type": "code",
   "execution_count": 6,
   "id": "8e7c4102-f22d-40ae-ab04-d9699d6cf409",
   "metadata": {},
   "outputs": [],
   "source": [
    "#example\n",
    "class Person:\n",
    "    def __init__(self,name,age):\n",
    "        self.name = name\n",
    "        self.age = age\n",
    "        \n",
    "    def greet(self):\n",
    "        print(f\"Hello, my name is {self.name} and I am {self.age} years old\")\n",
    "        \n",
    "    \n",
    "        \n",
    "        \n",
    "        \n",
    "        "
   ]
  },
  {
   "cell_type": "code",
   "execution_count": 7,
   "id": "7ce2141f-17fd-40c0-90a6-2c920a68773b",
   "metadata": {},
   "outputs": [
    {
     "name": "stdout",
     "output_type": "stream",
     "text": [
      "Hello, my name is Nihal and I am 19 years old\n"
     ]
    }
   ],
   "source": [
    "person1 = Person(\"Nihal\", 19)\n",
    "person1.greet()"
   ]
  },
  {
   "cell_type": "code",
   "execution_count": 8,
   "id": "52551fbd-85df-4099-9b3d-f6c012ac6a7d",
   "metadata": {},
   "outputs": [
    {
     "name": "stdout",
     "output_type": "stream",
     "text": [
      "Hello, my name is Aneesh and I am 15 years old\n"
     ]
    }
   ],
   "source": [
    "person2 = Person(\"Aneesh\",15)\n",
    "person2.greet()"
   ]
  },
  {
   "cell_type": "code",
   "execution_count": 9,
   "id": "7f30e7e4-89b0-4dd9-83b9-199945ca8589",
   "metadata": {},
   "outputs": [
    {
     "data": {
      "text/plain": [
       "\" In this example, we have a Person class with an __init__() method to initialize the object's name and age attributes and a\\ngreet() method that uses the self parameter to refer to the current object instance.\\n\\nWhen we create two objects person1 and person2 from the Person class and call their greet() method, the self parameter inside\\nthe method refers to each individual object, allowing us to print the name and age of each person.\\n\\nSo, in summary, the self parameter is used in OOP to refer to the current object instance and differentiate between attributes\\nand methods of different objects created from the same class. \""
      ]
     },
     "execution_count": 9,
     "metadata": {},
     "output_type": "execute_result"
    }
   ],
   "source": [
    "''' In this example, we have a Person class with an __init__() method to initialize the object's name and age attributes and a\n",
    "greet() method that uses the self parameter to refer to the current object instance.\n",
    "\n",
    "When we create two objects person1 and person2 from the Person class and call their greet() method, the self parameter inside\n",
    "the method refers to each individual object, allowing us to print the name and age of each person.\n",
    "\n",
    "So, in summary, the self parameter is used in OOP to refer to the current object instance and differentiate between attributes\n",
    "and methods of different objects created from the same class. '''\n",
    "\n",
    "\n",
    "\n",
    "\n"
   ]
  },
  {
   "cell_type": "code",
   "execution_count": 1,
   "id": "be4b5261-d060-4442-b96c-60b4a21e3725",
   "metadata": {},
   "outputs": [],
   "source": [
    "# Q5. What is inheritance? Give an example for each type of inheritance."
   ]
  },
  {
   "cell_type": "code",
   "execution_count": 20,
   "id": "b0405c1a-2b50-4dde-a0b2-7e67a4ea65cd",
   "metadata": {},
   "outputs": [
    {
     "data": {
      "text/plain": [
       "' Sol:- Inheritance is a mechanism in object-oriented programming where one class inherits properties and behaviors from another class. The class that is being inherited from is called the parent or base class, and the class that inherits from it is called the child or \\nderived class.'"
      ]
     },
     "execution_count": 20,
     "metadata": {},
     "output_type": "execute_result"
    }
   ],
   "source": [
    "''' Sol:- Inheritance is a mechanism in object-oriented programming where one class inherits properties and behaviors from another class. The class that is being inherited from is called the parent or base class, and the class that inherits from it is called the child or \n",
    "derived class.'''"
   ]
  },
  {
   "cell_type": "code",
   "execution_count": 21,
   "id": "399424ca-eb82-4602-8bf8-6aa32dc07fcc",
   "metadata": {},
   "outputs": [
    {
     "data": {
      "text/plain": [
       "' There are 3 types of inheritance:\\n\\n1. Single inheritance: In single inheritance, a child class inherits properties and behaviors from only one parent class. '"
      ]
     },
     "execution_count": 21,
     "metadata": {},
     "output_type": "execute_result"
    }
   ],
   "source": [
    "''' There are 3 types of inheritance:\n",
    "\n",
    "1. Single inheritance: In single inheritance, a child class inherits properties and behaviors from only one parent class. '''"
   ]
  },
  {
   "cell_type": "code",
   "execution_count": 11,
   "id": "baa76aad-c620-4596-8676-34e8c960f65d",
   "metadata": {},
   "outputs": [],
   "source": [
    "class Animal:\n",
    "    def __init__(self,name):\n",
    "        self.name = name\n",
    "        \n",
    "    def speak(self):\n",
    "        print(f\"{self.name} speaks\")\n",
    "\n",
    "class Dog(Animal):\n",
    "    def __init__(self,name):\n",
    "        self.name = name\n",
    "        \n",
    "    def barks(self):\n",
    "        print(f\"{self.name} barks\")\n",
    "        "
   ]
  },
  {
   "cell_type": "code",
   "execution_count": 12,
   "id": "fe5fffc3-a939-44cd-b1bf-bd2cdfcfd18c",
   "metadata": {},
   "outputs": [],
   "source": [
    "d = Dog(\"Snoopy\")"
   ]
  },
  {
   "cell_type": "code",
   "execution_count": 13,
   "id": "622931fe-9302-4bc0-badf-d8b7f4937696",
   "metadata": {},
   "outputs": [
    {
     "name": "stdout",
     "output_type": "stream",
     "text": [
      "Snoopy barks\n"
     ]
    }
   ],
   "source": [
    "d.barks()"
   ]
  },
  {
   "cell_type": "code",
   "execution_count": 14,
   "id": "998d07cf-a5e1-4641-a870-7368c8cc510f",
   "metadata": {},
   "outputs": [
    {
     "data": {
      "text/plain": [
       "'Snoopy'"
      ]
     },
     "execution_count": 14,
     "metadata": {},
     "output_type": "execute_result"
    }
   ],
   "source": [
    "d.name"
   ]
  },
  {
   "cell_type": "code",
   "execution_count": 15,
   "id": "0621a1de-0283-4130-8104-5a49a5f53124",
   "metadata": {},
   "outputs": [
    {
     "name": "stdout",
     "output_type": "stream",
     "text": [
      "Snoopy speaks\n"
     ]
    }
   ],
   "source": [
    "d.speak()"
   ]
  },
  {
   "cell_type": "code",
   "execution_count": 17,
   "id": "5bc89600-ada3-4872-a79e-0efad85f90b2",
   "metadata": {},
   "outputs": [
    {
     "data": {
      "text/plain": [
       "' In this example, the Dog class inherits from the Animal class, which has a speak() method. The Dog class also has \\nits own bark() method '"
      ]
     },
     "execution_count": 17,
     "metadata": {},
     "output_type": "execute_result"
    }
   ],
   "source": [
    "''' In this example, the Dog class inherits from the Animal class, which has a speak() method. The Dog class also has \n",
    "its own bark() method '''"
   ]
  },
  {
   "cell_type": "code",
   "execution_count": 16,
   "id": "e5e08969-743e-4b60-a699-58ec0e2a7a12",
   "metadata": {},
   "outputs": [
    {
     "data": {
      "text/plain": [
       "'2.Multiple inheritance: In multiple inheritance, a child class inherits properties and behaviors from more than one\\nparent class. '"
      ]
     },
     "execution_count": 16,
     "metadata": {},
     "output_type": "execute_result"
    }
   ],
   "source": [
    "'''2.Multiple inheritance: In multiple inheritance, a child class inherits properties and behaviors from more than one\n",
    "parent class. '''"
   ]
  },
  {
   "cell_type": "code",
   "execution_count": 23,
   "id": "dff554ff-9942-44d7-976a-7376dbef9126",
   "metadata": {},
   "outputs": [],
   "source": [
    "class A:\n",
    "    def method_a(self):\n",
    "        print(\"Method A\")\n",
    "\n",
    "class B:\n",
    "    def method_b(self):\n",
    "        print(\"Method B\")\n",
    "        \n",
    "class C(A,B):\n",
    "    def method_c(self):\n",
    "        print(\"Method C\")"
   ]
  },
  {
   "cell_type": "code",
   "execution_count": 24,
   "id": "81a3104c-d5ab-447b-8f16-0246f6099290",
   "metadata": {},
   "outputs": [],
   "source": [
    "c = C()"
   ]
  },
  {
   "cell_type": "code",
   "execution_count": 26,
   "id": "fac9e2fb-b264-4a02-b862-f1ed2ce7f26e",
   "metadata": {},
   "outputs": [
    {
     "name": "stdout",
     "output_type": "stream",
     "text": [
      "Method A\n"
     ]
    }
   ],
   "source": [
    "c.method_a()"
   ]
  },
  {
   "cell_type": "code",
   "execution_count": 27,
   "id": "d3ed6146-35f6-4e11-abc3-78a500cb114b",
   "metadata": {},
   "outputs": [
    {
     "name": "stdout",
     "output_type": "stream",
     "text": [
      "Method B\n"
     ]
    }
   ],
   "source": [
    "c.method_b()"
   ]
  },
  {
   "cell_type": "code",
   "execution_count": 28,
   "id": "329b4291-bfed-4fdd-b851-43e711cddaa1",
   "metadata": {},
   "outputs": [
    {
     "name": "stdout",
     "output_type": "stream",
     "text": [
      "Method C\n"
     ]
    }
   ],
   "source": [
    "c.method_c()"
   ]
  },
  {
   "cell_type": "code",
   "execution_count": 29,
   "id": "1ebe3d7f-06db-4f91-9f15-37c71ad2a8c7",
   "metadata": {},
   "outputs": [
    {
     "data": {
      "text/plain": [
       "' In this example, the C class inherits from both the A and B classes. '"
      ]
     },
     "execution_count": 29,
     "metadata": {},
     "output_type": "execute_result"
    }
   ],
   "source": [
    "''' In this example, the C class inherits from both the A and B classes. '''"
   ]
  },
  {
   "cell_type": "code",
   "execution_count": 30,
   "id": "6d7436f2-b8b6-4d53-9079-3eaf59bbab26",
   "metadata": {},
   "outputs": [
    {
     "data": {
      "text/plain": [
       "' Multi-level inheritance: In multi-level inheritance, a child class inherits from a parent class, which in turn inherits\\nfrom another parent class '"
      ]
     },
     "execution_count": 30,
     "metadata": {},
     "output_type": "execute_result"
    }
   ],
   "source": [
    "''' Multi-level inheritance: In multi-level inheritance, a child class inherits from a parent class, which in turn inherits\n",
    "from another parent class '''\n"
   ]
  },
  {
   "cell_type": "code",
   "execution_count": 31,
   "id": "9af2ee86-f178-4a13-a52b-0b3d5de3a48c",
   "metadata": {},
   "outputs": [],
   "source": [
    "class Animal:\n",
    "    def speak(self):\n",
    "        print(\"Animal speaks\")\n",
    "        \n",
    "class Dog(Animal):\n",
    "    def bark(self):\n",
    "        print(\"Dog barks\")\n",
    "        \n",
    "class Golden_retriever(Dog):\n",
    "    def friendly(self):\n",
    "        print(\"Golden Retriever is friendly\")\n",
    "        \n",
    "class Snoopy(Golden_retriever):\n",
    "    def plays(self):\n",
    "        print(\"Snoopy is name of our dog, which is a Golden Retriever\")"
   ]
  },
  {
   "cell_type": "code",
   "execution_count": 32,
   "id": "eeda3ab2-0a4c-4ce0-a53e-03a9816c3919",
   "metadata": {},
   "outputs": [],
   "source": [
    "obj_Snoopy = Snoopy()"
   ]
  },
  {
   "cell_type": "code",
   "execution_count": 33,
   "id": "d077cb01-6d67-4a37-986a-707af1641759",
   "metadata": {},
   "outputs": [
    {
     "name": "stdout",
     "output_type": "stream",
     "text": [
      "Animal speaks\n"
     ]
    }
   ],
   "source": [
    "obj_Snoopy.speak()"
   ]
  },
  {
   "cell_type": "code",
   "execution_count": 34,
   "id": "a07b013c-bab5-4cf2-b035-be2c9772534d",
   "metadata": {},
   "outputs": [
    {
     "name": "stdout",
     "output_type": "stream",
     "text": [
      "Dog barks\n"
     ]
    }
   ],
   "source": [
    "obj_Snoopy.bark()"
   ]
  },
  {
   "cell_type": "code",
   "execution_count": 35,
   "id": "38c6e3d7-8788-4afc-907f-647870b55fed",
   "metadata": {},
   "outputs": [
    {
     "name": "stdout",
     "output_type": "stream",
     "text": [
      "Golden Retriever is friendly\n"
     ]
    }
   ],
   "source": [
    "obj_Snoopy.friendly()"
   ]
  },
  {
   "cell_type": "code",
   "execution_count": 36,
   "id": "7a445845-8a8e-461e-aae3-03d38b08fe4a",
   "metadata": {},
   "outputs": [
    {
     "name": "stdout",
     "output_type": "stream",
     "text": [
      "Snoopy is name of our dog, which is a Golden Retriever\n"
     ]
    }
   ],
   "source": [
    "obj_Snoopy.plays()"
   ]
  },
  {
   "cell_type": "code",
   "execution_count": null,
   "id": "39c6adc1-a87c-443e-b0c1-50e7e670c377",
   "metadata": {},
   "outputs": [],
   "source": [
    "In this example, the Snoopy class inherits from the Golden_retriever class, which in turn inherits from the Dog class, which \n",
    "in turn inherits from Animal class ."
   ]
  }
 ],
 "metadata": {
  "kernelspec": {
   "display_name": "Python 3 (ipykernel)",
   "language": "python",
   "name": "python3"
  },
  "language_info": {
   "codemirror_mode": {
    "name": "ipython",
    "version": 3
   },
   "file_extension": ".py",
   "mimetype": "text/x-python",
   "name": "python",
   "nbconvert_exporter": "python",
   "pygments_lexer": "ipython3",
   "version": "3.10.8"
  }
 },
 "nbformat": 4,
 "nbformat_minor": 5
}
